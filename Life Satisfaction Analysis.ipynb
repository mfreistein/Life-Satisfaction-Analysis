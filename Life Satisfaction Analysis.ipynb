{
 "cells": [
  {
   "cell_type": "markdown",
   "id": "be629a40",
   "metadata": {},
   "source": [
    "__Visualizing Life Satisfaction on GDP per capita and Gini index data__\n",
    "\n",
    "Data Visualization Individual Project\n",
    "\n",
    "Manuel Freistein\n",
    "\n",
    "07.07.2022"
   ]
  },
  {
   "cell_type": "markdown",
   "id": "ef671d23",
   "metadata": {},
   "source": [
    "\n",
    "__Table of Contents__\n",
    "\n",
    "1) Intentions / Choosing a Dataset\n",
    "\n",
    "2) Cleaning Data\n",
    "\n",
    "3) Visualizing Data\n",
    "\n",
    "    a) Choropleth Map\n",
    "    \n",
    "    b) Scatterplots for individual countries\n",
    "    \n",
    "    c) Scatterplot comparing all countries\n",
    "  \n",
    "4) Conclusion"
   ]
  },
  {
   "cell_type": "code",
   "execution_count": 7,
   "id": "53b555f2",
   "metadata": {},
   "outputs": [],
   "source": [
    "import pandas as pd\n",
    "import plotly.express as px\n",
    "import numpy as np\n",
    "from sklearn.decomposition import PCA\n",
    "from sklearn import preprocessing\n",
    "import matplotlib.pyplot as plt\n",
    "import pycountry_convert as pc"
   ]
  },
  {
   "cell_type": "markdown",
   "id": "5e735b9a",
   "metadata": {},
   "source": [
    "__1) Intentions / Choosing a Dataset__\n",
    "\n",
    "\n",
    "The aim of this visualization project was to show the relationship between Life Satisfaction in combination with both GDP per capita and Gini index. Specifically showing in what ways geography, wealth, inequality as well as developments in these areas could influence life satisfaction of a society in a relatively short timeframe (ten years). The target audience would be social scientists, perhaps in the context of an academic publication. The intention was to create graphs that were relatively easy to read, while being information dense. \n",
    "\n",
    "To begin with, the data was loaded and merged into a single Pandas dataframe. The data consisted of two datasets, the \"gdp-vs-happiness\" dataset and the \"economic-inequality-gini-index\" dataset, which were both taken from \"Our World in Data\" (https://ourworldindata.org/). Life Satisfaction measures were taken from the World Happiness Report using the Cantril Ladder (“Please imagine a ladder, with steps numbered from 0 at the bottom to 10 at the top. The top of the ladder represents the best possible life for you and the bottom of the ladder represents the worst possible life for you. On which step of the ladder would you say you personally feel you stand at this time?”). The Gini coefficient measures inequality of income or wealth on a scale from 0 to 100 (0 expresses perfect equality (i.e. where everyone has the same income) and 100 expresses maximal inequality (i.e. for a large number of people where only one person has all the income or consumption and all others have none). Gini is one of the most widely used measures of income inequality. It's characteristics make it particularly useful for making comparisons over time and between countries. It has been proposed by several social scientist as an indicator of happiness and this projects intends to explore this hypothesis visually in combination with Life Satisfaction measured on the Cantril Ladder.\n",
    "\n",
    "Once merged, the dataset contained 4197 rows of data for 164 countries spanning 39 years from 1981 until 2019. Apart from country name, country code and year, this included data on Life Satisfaction, GDP at purchasing power parity per capita in U.S. Dollars, population size, continent and Gini index."
   ]
  },
  {
   "cell_type": "code",
   "execution_count": 8,
   "id": "96278784",
   "metadata": {},
   "outputs": [
    {
     "name": "stdout",
     "output_type": "stream",
     "text": [
      "Once merged, the dataset contains 4197 rows of data for 164 countries spanning 39 years from 1981 until 2019.\n"
     ]
    },
    {
     "data": {
      "text/html": [
       "<div>\n",
       "<style scoped>\n",
       "    .dataframe tbody tr th:only-of-type {\n",
       "        vertical-align: middle;\n",
       "    }\n",
       "\n",
       "    .dataframe tbody tr th {\n",
       "        vertical-align: top;\n",
       "    }\n",
       "\n",
       "    .dataframe thead th {\n",
       "        text-align: right;\n",
       "    }\n",
       "</style>\n",
       "<table border=\"1\" class=\"dataframe\">\n",
       "  <thead>\n",
       "    <tr style=\"text-align: right;\">\n",
       "      <th></th>\n",
       "      <th>Entity</th>\n",
       "      <th>Code</th>\n",
       "      <th>Year</th>\n",
       "      <th>Life satisfaction in Cantril Ladder (World Happiness Report 2022)</th>\n",
       "      <th>GDP per capita, PPP (constant 2017 international $)</th>\n",
       "      <th>Population (historical estimates)</th>\n",
       "      <th>Continent</th>\n",
       "      <th>Gini index</th>\n",
       "    </tr>\n",
       "  </thead>\n",
       "  <tbody>\n",
       "    <tr>\n",
       "      <th>0</th>\n",
       "      <td>Albania</td>\n",
       "      <td>ALB</td>\n",
       "      <td>2005</td>\n",
       "      <td>4.634252</td>\n",
       "      <td>8040.878717</td>\n",
       "      <td>3086810.0</td>\n",
       "      <td>NaN</td>\n",
       "      <td>30.59566</td>\n",
       "    </tr>\n",
       "    <tr>\n",
       "      <th>1</th>\n",
       "      <td>Albania</td>\n",
       "      <td>ALB</td>\n",
       "      <td>2008</td>\n",
       "      <td>5.268937</td>\n",
       "      <td>9912.577242</td>\n",
       "      <td>3002683.0</td>\n",
       "      <td>NaN</td>\n",
       "      <td>29.98467</td>\n",
       "    </tr>\n",
       "    <tr>\n",
       "      <th>2</th>\n",
       "      <td>Albania</td>\n",
       "      <td>ALB</td>\n",
       "      <td>2012</td>\n",
       "      <td>4.813763</td>\n",
       "      <td>11227.994487</td>\n",
       "      <td>2914091.0</td>\n",
       "      <td>NaN</td>\n",
       "      <td>28.96048</td>\n",
       "    </tr>\n",
       "    <tr>\n",
       "      <th>3</th>\n",
       "      <td>Albania</td>\n",
       "      <td>ALB</td>\n",
       "      <td>2014</td>\n",
       "      <td>4.511101</td>\n",
       "      <td>11586.863767</td>\n",
       "      <td>2896307.0</td>\n",
       "      <td>NaN</td>\n",
       "      <td>34.59890</td>\n",
       "    </tr>\n",
       "    <tr>\n",
       "      <th>4</th>\n",
       "      <td>Albania</td>\n",
       "      <td>ALB</td>\n",
       "      <td>2015</td>\n",
       "      <td>4.639548</td>\n",
       "      <td>11878.488093</td>\n",
       "      <td>2890524.0</td>\n",
       "      <td>Europe</td>\n",
       "      <td>32.91291</td>\n",
       "    </tr>\n",
       "  </tbody>\n",
       "</table>\n",
       "</div>"
      ],
      "text/plain": [
       "    Entity Code  Year  \\\n",
       "0  Albania  ALB  2005   \n",
       "1  Albania  ALB  2008   \n",
       "2  Albania  ALB  2012   \n",
       "3  Albania  ALB  2014   \n",
       "4  Albania  ALB  2015   \n",
       "\n",
       "   Life satisfaction in Cantril Ladder (World Happiness Report 2022)  \\\n",
       "0                                           4.634252                   \n",
       "1                                           5.268937                   \n",
       "2                                           4.813763                   \n",
       "3                                           4.511101                   \n",
       "4                                           4.639548                   \n",
       "\n",
       "   GDP per capita, PPP (constant 2017 international $)  \\\n",
       "0                                        8040.878717     \n",
       "1                                        9912.577242     \n",
       "2                                       11227.994487     \n",
       "3                                       11586.863767     \n",
       "4                                       11878.488093     \n",
       "\n",
       "   Population (historical estimates) Continent  Gini index  \n",
       "0                          3086810.0       NaN    30.59566  \n",
       "1                          3002683.0       NaN    29.98467  \n",
       "2                          2914091.0       NaN    28.96048  \n",
       "3                          2896307.0       NaN    34.59890  \n",
       "4                          2890524.0    Europe    32.91291  "
      ]
     },
     "execution_count": 8,
     "metadata": {},
     "output_type": "execute_result"
    }
   ],
   "source": [
    "df = pd.read_csv(\"gdp-vs-happiness.csv\")\n",
    "df_gini = pd.read_csv(\"economic-inequality-gini-index.csv\")\n",
    "df = pd.merge(df, df_gini)\n",
    "print(\"Once merged, the dataset contains \" +str(len(df))+ \" rows of data for \" +str(df['Entity'].nunique())+ \n",
    "      \" countries spanning \" +str(df['Year'].nunique())+ \" years from \" +str(sorted(df['Year'].unique())[0])+ \n",
    "      \" until \" +str(sorted(df['Year'].unique())[-1])+ \".\")\n",
    "df.head()"
   ]
  },
  {
   "cell_type": "markdown",
   "id": "ee6b726f",
   "metadata": {},
   "source": [
    "__2) Cleaning Data__\n",
    "\n",
    "After loading and merging the data, it had to be cleaned. The column containing continent data was dropped entirely as it contained only very few entries. A few of the longer column titles were renamed to ease the coding process. Values on Life Satisfaction and Gini index were rounded to 2 decimal places in order to enable easier grouping in visualizations, while maintaining enough information to show slight changes from year to year. GDP per capita was rounded to 0 decimal places to ease visualization. Finally, all missing values were dropped.\n",
    "\n",
    "Once the data was cleaned, data for the years from 2008 to 2017 was selected. This was done for two reasons: 1) there was a lot of data available for these years 2) this specific time (post 2008 Global Financial Crisis) seemed a particularly interesting time to measure Life Satisfaction as it relates to GDP per capita and equality in society, as these variables were likely in fluctuation. Lastly a column containing continent data was added to allow for filtering."
   ]
  },
  {
   "cell_type": "code",
   "execution_count": 9,
   "id": "021a34a9",
   "metadata": {},
   "outputs": [],
   "source": [
    "df = df.drop(columns='Continent')\n",
    "df.rename(columns = {'Life satisfaction in Cantril Ladder (World Happiness Report 2022)':'Life Satisfaction',\n",
    "                     'GDP per capita, PPP (constant 2017 international $)':'GDP per capita',\n",
    "                     'Population (historical estimates)': 'Population'}, inplace = True)\n",
    "df[\"Life Satisfaction\"] = df[\"Life Satisfaction\"].round(2)\n",
    "df['Gini index'] = df['Gini index'].round(2)\n",
    "df['GDP per capita'] = df['GDP per capita'].round(0)\n",
    "df = df.dropna()\n",
    "df = df[df['Year'] > 2007]\n",
    "df = df[df['Year'] <= 2017]\n",
    "df['Continent'] = df['Code']\n",
    "df['Continent'] = df['Continent'].apply(lambda x: pc.country_alpha3_to_country_alpha2(x))\n",
    "df['Continent'] = df['Continent'].apply(lambda x: pc.country_alpha2_to_continent_code(x))"
   ]
  },
  {
   "cell_type": "markdown",
   "id": "28cc9127",
   "metadata": {},
   "source": [
    "Once the initial stages of the cleaning process were done, two further filtering steps were taken in order to make sure that data was consistent across countries to allow for meaningul comparisons to be made.\n",
    "\n",
    "In the first step, all data was dropped if there was less than 8 years of data available for individual countries for the years between 2008 and 2017. In this way, developments between years could be traced and compared accurately. \n",
    "\n",
    "Secondly, many country's Gini data wasn't recorded on a yearly basis, but was simply recorded once and then copied over a time span. To enable the tracing of developments over time, all countries in which Gini data between 2008 and 2017 wasn't uniquely recorded at least 8 seperate times were dropped.\n",
    "\n",
    "After this second stage of cleaning, the dataset contained 568 rows of data for 58 countries spanning 10 years from 2008 until 2017. This stage of filtering unfortunately excluded a lot of data from countries in Africa, Asia and Australasia. While being aware of the drawbacks, such as the inability to reach conclusions about global realities and developments, this was an explicit choice to avoid making such claims on incomplete data. In this case, quality was chosen over quantity, allowing for more robust analysis of specific parts of the world."
   ]
  },
  {
   "cell_type": "code",
   "execution_count": 10,
   "id": "49f27aed",
   "metadata": {},
   "outputs": [],
   "source": [
    "years_of_data_available_per_country = df.groupby('Code')['Year'].nunique().to_frame()\n",
    "years_of_data_available_per_country = years_of_data_available_per_country[years_of_data_available_per_country['Year'] >= 8]\n",
    "years_of_data_available_per_country['Code'] = years_of_data_available_per_country.index\n",
    "years_of_data_available_per_country.index.names = ['Index']\n",
    "df_min_amount_of_data_available = pd.merge(df, years_of_data_available_per_country['Code'])"
   ]
  },
  {
   "cell_type": "code",
   "execution_count": 11,
   "id": "3178ec39",
   "metadata": {},
   "outputs": [],
   "source": [
    "for i in range(len(years_of_data_available_per_country)):\n",
    "    code = years_of_data_available_per_country.iloc[i]['Code']\n",
    "    num_years = years_of_data_available_per_country.iloc[i]['Year']\n",
    "    unique_ginis_by_country = df_min_amount_of_data_available[df_min_amount_of_data_available['Code'] == code]['Gini index'].nunique()\n",
    "    if unique_ginis_by_country < 8:\n",
    "        df_unique_ginis = df_min_amount_of_data_available.drop(df_min_amount_of_data_available[df_min_amount_of_data_available.Code == code].index)"
   ]
  },
  {
   "cell_type": "code",
   "execution_count": 12,
   "id": "cb5642bd",
   "metadata": {},
   "outputs": [
    {
     "name": "stdout",
     "output_type": "stream",
     "text": [
      "After cleaning, the dataset contains 568 rows of data for 58 countries spanning 10 years from 2008 until 2017.\n"
     ]
    }
   ],
   "source": [
    "print(\"After cleaning, the dataset contains \" +str(len(df_unique_ginis))+\n",
    "      \" rows of data for \" +str(df_unique_ginis['Entity'].nunique())+\n",
    "      \" countries spanning \" +str(df_unique_ginis['Year'].nunique())+\n",
    "      \" years from \" +str(sorted(df_unique_ginis['Year'].unique())[0])+\n",
    "      \" until \" +str(sorted(df_unique_ginis['Year'].unique())[-1])+ \".\")"
   ]
  },
  {
   "cell_type": "markdown",
   "id": "11072140",
   "metadata": {},
   "source": [
    "__3) Visualizing Data__\n",
    "\n",
    "All visualizations were done using Plotly Express."
   ]
  },
  {
   "cell_type": "markdown",
   "id": "8ebb1543",
   "metadata": {},
   "source": [
    "a) Choropleth Map\n",
    "\n",
    "As the year 2013 provides the most data (58 countries, 55 Life Satisfaction entries, 58 GDP per capita entries, 58 population entries, 57 Gini index entries across 5 continents), a choropleth map provides a good picture of the extent of the data geographically in that year. Including a color scale for lifesatisfaction statistics also allows for an initial assessment of geographical distrubtion of the data. The colorscheme from blue to red to yellow scaled from 1 to 10, thereby consistent with the Cantril ladder scores from 1 to 10, clearly distinguishes country's life satisfaction on the map. Furthermore, the Gini index for each individual country can be viewed when hovering over the country. In this way, all data is combined on a map for the single year with the most datapoints."
   ]
  },
  {
   "cell_type": "code",
   "execution_count": 13,
   "id": "82c7de57",
   "metadata": {},
   "outputs": [
    {
     "data": {
      "text/html": [
       "<div>\n",
       "<style scoped>\n",
       "    .dataframe tbody tr th:only-of-type {\n",
       "        vertical-align: middle;\n",
       "    }\n",
       "\n",
       "    .dataframe tbody tr th {\n",
       "        vertical-align: top;\n",
       "    }\n",
       "\n",
       "    .dataframe thead th {\n",
       "        text-align: right;\n",
       "    }\n",
       "</style>\n",
       "<table border=\"1\" class=\"dataframe\">\n",
       "  <thead>\n",
       "    <tr style=\"text-align: right;\">\n",
       "      <th></th>\n",
       "      <th>Entity</th>\n",
       "      <th>Code</th>\n",
       "      <th>Life Satisfaction</th>\n",
       "      <th>GDP per capita</th>\n",
       "      <th>Population</th>\n",
       "      <th>Gini index</th>\n",
       "      <th>Continent</th>\n",
       "    </tr>\n",
       "    <tr>\n",
       "      <th>Year</th>\n",
       "      <th></th>\n",
       "      <th></th>\n",
       "      <th></th>\n",
       "      <th></th>\n",
       "      <th></th>\n",
       "      <th></th>\n",
       "      <th></th>\n",
       "    </tr>\n",
       "  </thead>\n",
       "  <tbody>\n",
       "    <tr>\n",
       "      <th>2008</th>\n",
       "      <td>54</td>\n",
       "      <td>54</td>\n",
       "      <td>51</td>\n",
       "      <td>54</td>\n",
       "      <td>54</td>\n",
       "      <td>54</td>\n",
       "      <td>4</td>\n",
       "    </tr>\n",
       "    <tr>\n",
       "      <th>2009</th>\n",
       "      <td>57</td>\n",
       "      <td>57</td>\n",
       "      <td>53</td>\n",
       "      <td>56</td>\n",
       "      <td>57</td>\n",
       "      <td>57</td>\n",
       "      <td>4</td>\n",
       "    </tr>\n",
       "    <tr>\n",
       "      <th>2010</th>\n",
       "      <td>56</td>\n",
       "      <td>56</td>\n",
       "      <td>53</td>\n",
       "      <td>56</td>\n",
       "      <td>56</td>\n",
       "      <td>55</td>\n",
       "      <td>5</td>\n",
       "    </tr>\n",
       "    <tr>\n",
       "      <th>2011</th>\n",
       "      <td>56</td>\n",
       "      <td>56</td>\n",
       "      <td>53</td>\n",
       "      <td>56</td>\n",
       "      <td>56</td>\n",
       "      <td>55</td>\n",
       "      <td>5</td>\n",
       "    </tr>\n",
       "    <tr>\n",
       "      <th>2012</th>\n",
       "      <td>58</td>\n",
       "      <td>58</td>\n",
       "      <td>53</td>\n",
       "      <td>58</td>\n",
       "      <td>58</td>\n",
       "      <td>58</td>\n",
       "      <td>5</td>\n",
       "    </tr>\n",
       "    <tr>\n",
       "      <th>2013</th>\n",
       "      <td>58</td>\n",
       "      <td>58</td>\n",
       "      <td>55</td>\n",
       "      <td>58</td>\n",
       "      <td>58</td>\n",
       "      <td>57</td>\n",
       "      <td>5</td>\n",
       "    </tr>\n",
       "    <tr>\n",
       "      <th>2014</th>\n",
       "      <td>58</td>\n",
       "      <td>58</td>\n",
       "      <td>52</td>\n",
       "      <td>58</td>\n",
       "      <td>58</td>\n",
       "      <td>58</td>\n",
       "      <td>5</td>\n",
       "    </tr>\n",
       "    <tr>\n",
       "      <th>2015</th>\n",
       "      <td>58</td>\n",
       "      <td>58</td>\n",
       "      <td>46</td>\n",
       "      <td>58</td>\n",
       "      <td>58</td>\n",
       "      <td>57</td>\n",
       "      <td>5</td>\n",
       "    </tr>\n",
       "    <tr>\n",
       "      <th>2016</th>\n",
       "      <td>57</td>\n",
       "      <td>57</td>\n",
       "      <td>49</td>\n",
       "      <td>57</td>\n",
       "      <td>57</td>\n",
       "      <td>56</td>\n",
       "      <td>5</td>\n",
       "    </tr>\n",
       "    <tr>\n",
       "      <th>2017</th>\n",
       "      <td>56</td>\n",
       "      <td>56</td>\n",
       "      <td>50</td>\n",
       "      <td>56</td>\n",
       "      <td>56</td>\n",
       "      <td>56</td>\n",
       "      <td>5</td>\n",
       "    </tr>\n",
       "  </tbody>\n",
       "</table>\n",
       "</div>"
      ],
      "text/plain": [
       "      Entity  Code  Life Satisfaction  GDP per capita  Population  Gini index  \\\n",
       "Year                                                                            \n",
       "2008      54    54                 51              54          54          54   \n",
       "2009      57    57                 53              56          57          57   \n",
       "2010      56    56                 53              56          56          55   \n",
       "2011      56    56                 53              56          56          55   \n",
       "2012      58    58                 53              58          58          58   \n",
       "2013      58    58                 55              58          58          57   \n",
       "2014      58    58                 52              58          58          58   \n",
       "2015      58    58                 46              58          58          57   \n",
       "2016      57    57                 49              57          57          56   \n",
       "2017      56    56                 50              56          56          56   \n",
       "\n",
       "      Continent  \n",
       "Year             \n",
       "2008          4  \n",
       "2009          4  \n",
       "2010          5  \n",
       "2011          5  \n",
       "2012          5  \n",
       "2013          5  \n",
       "2014          5  \n",
       "2015          5  \n",
       "2016          5  \n",
       "2017          5  "
      ]
     },
     "execution_count": 13,
     "metadata": {},
     "output_type": "execute_result"
    }
   ],
   "source": [
    "df_unique_ginis.groupby(\"Year\").nunique()"
   ]
  },
  {
   "cell_type": "code",
   "execution_count": 14,
   "id": "05510ef2",
   "metadata": {},
   "outputs": [
    {
     "data": {
      "application/vnd.plotly.v1+json": {
       "config": {
        "plotlyServerURL": "https://plot.ly"
       },
       "data": [
        {
         "coloraxis": "coloraxis",
         "customdata": [
          [
           "Armenia",
           "ARM",
           4.35,
           30.58
          ],
          [
           "Austria",
           "AUT",
           7.08,
           30.75
          ],
          [
           "Azerbaijan",
           "AZE",
           5.15,
           26.55
          ],
          [
           "Belarus",
           "BLR",
           5.72,
           26.58
          ],
          [
           "Belgium",
           "BEL",
           6.9,
           27.67
          ],
          [
           "Bolivia",
           "BOL",
           5.83,
           47.6
          ],
          [
           "Brazil",
           "BRA",
           6.55,
           52.75
          ],
          [
           "Bulgaria",
           "BGR",
           4.87,
           36.57
          ],
          [
           "Colombia",
           "COL",
           6.39,
           52.63
          ],
          [
           "Costa Rica",
           "CRI",
           6.85,
           49.27
          ],
          [
           "Croatia",
           "HRV",
           5.21,
           32
          ],
          [
           "Cyprus",
           "CYP",
           5.44,
           37.04
          ],
          [
           "Czechia",
           "CZE",
           6.61,
           26.47
          ],
          [
           "Denmark",
           "DNK",
           7.51,
           28.54
          ],
          [
           "Dominican Republic",
           "DOM",
           5.06,
           47.66
          ],
          [
           "Ecuador",
           "ECU",
           5.96,
           46.86
          ],
          [
           "El Salvador",
           "SLV",
           6.02,
           43.36
          ],
          [
           "Estonia",
           "EST",
           5.63,
           35.08
          ],
          [
           "Finland",
           "FIN",
           7.45,
           27.19
          ],
          [
           "France",
           "FRA",
           6.36,
           32.51
          ],
          [
           "Georgia",
           "GEO",
           4.12,
           38.59
          ],
          [
           "Germany",
           "DEU",
           7.04,
           31.15
          ],
          [
           "Greece",
           "GRC",
           5.62,
           36.13
          ],
          [
           "Honduras",
           "HND",
           4.85,
           52.58
          ],
          [
           "Hungary",
           "HUN",
           5.34,
           31.5
          ],
          [
           "Ireland",
           "IRL",
           6.83,
           33.49
          ],
          [
           "Italy",
           "ITA",
           5.85,
           34.91
          ],
          [
           "Kazakhstan",
           "KAZ",
           5.95,
           27.07
          ],
          [
           "Kyrgyzstan",
           "KGZ",
           4.91,
           28.82
          ],
          [
           "Latvia",
           "LVA",
           5.88,
           35.5
          ],
          [
           "Lebanon",
           "LBN",
           5.17,
           31.83
          ],
          [
           "Lithuania",
           "LTU",
           5.71,
           35.31
          ],
          [
           "Luxembourg",
           "LUX",
           6.7,
           32.04
          ],
          [
           "Mali",
           "MLI",
           4.58,
           33.04
          ],
          [
           "Malta",
           "MLT",
           6.61,
           28.84
          ],
          [
           "Moldova",
           "MDA",
           6.02,
           28.53
          ],
          [
           "Montenegro",
           "MNE",
           5.12,
           32.44
          ],
          [
           "Netherlands",
           "NLD",
           7.32,
           28.11
          ],
          [
           "North Macedonia",
           "MKD",
           4.98,
           36.24
          ],
          [
           "Panama",
           "PAN",
           6.61,
           51.46
          ],
          [
           "Paraguay",
           "PRY",
           5.56,
           47.94
          ],
          [
           "Peru",
           "PER",
           5.58,
           43.89
          ],
          [
           "Poland",
           "POL",
           6.01,
           32.55
          ],
          [
           "Portugal",
           "PRT",
           5.08,
           36.19
          ],
          [
           "Romania",
           "ROU",
           5.78,
           27.45
          ],
          [
           "Russia",
           "RUS",
           6,
           40.88
          ],
          [
           "Serbia",
           "SRB",
           5.32,
           29.02
          ],
          [
           "Slovakia",
           "SVK",
           6.16,
           28.09
          ],
          [
           "Slovenia",
           "SVN",
           5.74,
           26.24
          ],
          [
           "Spain",
           "ESP",
           6.38,
           36.19
          ],
          [
           "Sweden",
           "SWE",
           7.29,
           28.83
          ],
          [
           "Thailand",
           "THA",
           6.2,
           37.85
          ],
          [
           "Turkey",
           "TUR",
           5.51,
           40.18
          ],
          [
           "Turkmenistan",
           "TKM",
           5.79,
           40.81
          ],
          [
           "Ukraine",
           "UKR",
           3.96,
           24.55
          ],
          [
           "United Kingdom",
           "GBR",
           6.52,
           33.21
          ],
          [
           "United States",
           "USA",
           6.86,
           40.65
          ],
          [
           "Uruguay",
           "URY",
           6.63,
           40.45
          ]
         ],
         "geo": "geo",
         "hovertemplate": "Country: %{customdata[0]}<br>Happiness: %{customdata[2]}<br>Gini: %{customdata[3]}<extra></extra>",
         "hovertext": [
          "Armenia",
          "Austria",
          "Azerbaijan",
          "Belarus",
          "Belgium",
          "Bolivia",
          "Brazil",
          "Bulgaria",
          "Colombia",
          "Costa Rica",
          "Croatia",
          "Cyprus",
          "Czechia",
          "Denmark",
          "Dominican Republic",
          "Ecuador",
          "El Salvador",
          "Estonia",
          "Finland",
          "France",
          "Georgia",
          "Germany",
          "Greece",
          "Honduras",
          "Hungary",
          "Ireland",
          "Italy",
          "Kazakhstan",
          "Kyrgyzstan",
          "Latvia",
          "Lebanon",
          "Lithuania",
          "Luxembourg",
          "Mali",
          "Malta",
          "Moldova",
          "Montenegro",
          "Netherlands",
          "North Macedonia",
          "Panama",
          "Paraguay",
          "Peru",
          "Poland",
          "Portugal",
          "Romania",
          "Russia",
          "Serbia",
          "Slovakia",
          "Slovenia",
          "Spain",
          "Sweden",
          "Thailand",
          "Turkey",
          "Turkmenistan",
          "Ukraine",
          "United Kingdom",
          "United States",
          "Uruguay"
         ],
         "locations": [
          "ARM",
          "AUT",
          "AZE",
          "BLR",
          "BEL",
          "BOL",
          "BRA",
          "BGR",
          "COL",
          "CRI",
          "HRV",
          "CYP",
          "CZE",
          "DNK",
          "DOM",
          "ECU",
          "SLV",
          "EST",
          "FIN",
          "FRA",
          "GEO",
          "DEU",
          "GRC",
          "HND",
          "HUN",
          "IRL",
          "ITA",
          "KAZ",
          "KGZ",
          "LVA",
          "LBN",
          "LTU",
          "LUX",
          "MLI",
          "MLT",
          "MDA",
          "MNE",
          "NLD",
          "MKD",
          "PAN",
          "PRY",
          "PER",
          "POL",
          "PRT",
          "ROU",
          "RUS",
          "SRB",
          "SVK",
          "SVN",
          "ESP",
          "SWE",
          "THA",
          "TUR",
          "TKM",
          "UKR",
          "GBR",
          "USA",
          "URY"
         ],
         "name": "",
         "type": "choropleth",
         "z": [
          4.35,
          7.08,
          5.15,
          5.72,
          6.9,
          5.83,
          6.55,
          4.87,
          6.39,
          6.85,
          5.21,
          5.44,
          6.61,
          7.51,
          5.06,
          5.96,
          6.02,
          5.63,
          7.45,
          6.36,
          4.12,
          7.04,
          5.62,
          4.85,
          5.34,
          6.83,
          5.85,
          5.95,
          4.91,
          5.88,
          5.17,
          5.71,
          6.7,
          4.58,
          6.61,
          6.02,
          5.12,
          7.32,
          4.98,
          6.61,
          5.56,
          5.58,
          6.01,
          5.08,
          5.78,
          6,
          5.32,
          6.16,
          5.74,
          6.38,
          7.29,
          6.2,
          5.51,
          5.79,
          3.96,
          6.52,
          6.86,
          6.63
         ]
        }
       ],
       "layout": {
        "coloraxis": {
         "cmax": 10,
         "cmin": 0,
         "colorbar": {
          "title": {
           "text": ""
          }
         },
         "colorscale": [
          [
           0,
           "red"
          ],
          [
           0.5,
           "light blue"
          ],
          [
           1,
           "yellow"
          ]
         ]
        },
        "geo": {
         "center": {},
         "domain": {
          "x": [
           0,
           1
          ],
          "y": [
           0,
           1
          ]
         },
         "scope": "world"
        },
        "legend": {
         "tracegroupgap": 0
        },
        "template": {
         "data": {
          "bar": [
           {
            "error_x": {
             "color": "#2a3f5f"
            },
            "error_y": {
             "color": "#2a3f5f"
            },
            "marker": {
             "line": {
              "color": "#E5ECF6",
              "width": 0.5
             },
             "pattern": {
              "fillmode": "overlay",
              "size": 10,
              "solidity": 0.2
             }
            },
            "type": "bar"
           }
          ],
          "barpolar": [
           {
            "marker": {
             "line": {
              "color": "#E5ECF6",
              "width": 0.5
             },
             "pattern": {
              "fillmode": "overlay",
              "size": 10,
              "solidity": 0.2
             }
            },
            "type": "barpolar"
           }
          ],
          "carpet": [
           {
            "aaxis": {
             "endlinecolor": "#2a3f5f",
             "gridcolor": "white",
             "linecolor": "white",
             "minorgridcolor": "white",
             "startlinecolor": "#2a3f5f"
            },
            "baxis": {
             "endlinecolor": "#2a3f5f",
             "gridcolor": "white",
             "linecolor": "white",
             "minorgridcolor": "white",
             "startlinecolor": "#2a3f5f"
            },
            "type": "carpet"
           }
          ],
          "choropleth": [
           {
            "colorbar": {
             "outlinewidth": 0,
             "ticks": ""
            },
            "type": "choropleth"
           }
          ],
          "contour": [
           {
            "colorbar": {
             "outlinewidth": 0,
             "ticks": ""
            },
            "colorscale": [
             [
              0,
              "#0d0887"
             ],
             [
              0.1111111111111111,
              "#46039f"
             ],
             [
              0.2222222222222222,
              "#7201a8"
             ],
             [
              0.3333333333333333,
              "#9c179e"
             ],
             [
              0.4444444444444444,
              "#bd3786"
             ],
             [
              0.5555555555555556,
              "#d8576b"
             ],
             [
              0.6666666666666666,
              "#ed7953"
             ],
             [
              0.7777777777777778,
              "#fb9f3a"
             ],
             [
              0.8888888888888888,
              "#fdca26"
             ],
             [
              1,
              "#f0f921"
             ]
            ],
            "type": "contour"
           }
          ],
          "contourcarpet": [
           {
            "colorbar": {
             "outlinewidth": 0,
             "ticks": ""
            },
            "type": "contourcarpet"
           }
          ],
          "heatmap": [
           {
            "colorbar": {
             "outlinewidth": 0,
             "ticks": ""
            },
            "colorscale": [
             [
              0,
              "#0d0887"
             ],
             [
              0.1111111111111111,
              "#46039f"
             ],
             [
              0.2222222222222222,
              "#7201a8"
             ],
             [
              0.3333333333333333,
              "#9c179e"
             ],
             [
              0.4444444444444444,
              "#bd3786"
             ],
             [
              0.5555555555555556,
              "#d8576b"
             ],
             [
              0.6666666666666666,
              "#ed7953"
             ],
             [
              0.7777777777777778,
              "#fb9f3a"
             ],
             [
              0.8888888888888888,
              "#fdca26"
             ],
             [
              1,
              "#f0f921"
             ]
            ],
            "type": "heatmap"
           }
          ],
          "heatmapgl": [
           {
            "colorbar": {
             "outlinewidth": 0,
             "ticks": ""
            },
            "colorscale": [
             [
              0,
              "#0d0887"
             ],
             [
              0.1111111111111111,
              "#46039f"
             ],
             [
              0.2222222222222222,
              "#7201a8"
             ],
             [
              0.3333333333333333,
              "#9c179e"
             ],
             [
              0.4444444444444444,
              "#bd3786"
             ],
             [
              0.5555555555555556,
              "#d8576b"
             ],
             [
              0.6666666666666666,
              "#ed7953"
             ],
             [
              0.7777777777777778,
              "#fb9f3a"
             ],
             [
              0.8888888888888888,
              "#fdca26"
             ],
             [
              1,
              "#f0f921"
             ]
            ],
            "type": "heatmapgl"
           }
          ],
          "histogram": [
           {
            "marker": {
             "pattern": {
              "fillmode": "overlay",
              "size": 10,
              "solidity": 0.2
             }
            },
            "type": "histogram"
           }
          ],
          "histogram2d": [
           {
            "colorbar": {
             "outlinewidth": 0,
             "ticks": ""
            },
            "colorscale": [
             [
              0,
              "#0d0887"
             ],
             [
              0.1111111111111111,
              "#46039f"
             ],
             [
              0.2222222222222222,
              "#7201a8"
             ],
             [
              0.3333333333333333,
              "#9c179e"
             ],
             [
              0.4444444444444444,
              "#bd3786"
             ],
             [
              0.5555555555555556,
              "#d8576b"
             ],
             [
              0.6666666666666666,
              "#ed7953"
             ],
             [
              0.7777777777777778,
              "#fb9f3a"
             ],
             [
              0.8888888888888888,
              "#fdca26"
             ],
             [
              1,
              "#f0f921"
             ]
            ],
            "type": "histogram2d"
           }
          ],
          "histogram2dcontour": [
           {
            "colorbar": {
             "outlinewidth": 0,
             "ticks": ""
            },
            "colorscale": [
             [
              0,
              "#0d0887"
             ],
             [
              0.1111111111111111,
              "#46039f"
             ],
             [
              0.2222222222222222,
              "#7201a8"
             ],
             [
              0.3333333333333333,
              "#9c179e"
             ],
             [
              0.4444444444444444,
              "#bd3786"
             ],
             [
              0.5555555555555556,
              "#d8576b"
             ],
             [
              0.6666666666666666,
              "#ed7953"
             ],
             [
              0.7777777777777778,
              "#fb9f3a"
             ],
             [
              0.8888888888888888,
              "#fdca26"
             ],
             [
              1,
              "#f0f921"
             ]
            ],
            "type": "histogram2dcontour"
           }
          ],
          "mesh3d": [
           {
            "colorbar": {
             "outlinewidth": 0,
             "ticks": ""
            },
            "type": "mesh3d"
           }
          ],
          "parcoords": [
           {
            "line": {
             "colorbar": {
              "outlinewidth": 0,
              "ticks": ""
             }
            },
            "type": "parcoords"
           }
          ],
          "pie": [
           {
            "automargin": true,
            "type": "pie"
           }
          ],
          "scatter": [
           {
            "fillpattern": {
             "fillmode": "overlay",
             "size": 10,
             "solidity": 0.2
            },
            "type": "scatter"
           }
          ],
          "scatter3d": [
           {
            "line": {
             "colorbar": {
              "outlinewidth": 0,
              "ticks": ""
             }
            },
            "marker": {
             "colorbar": {
              "outlinewidth": 0,
              "ticks": ""
             }
            },
            "type": "scatter3d"
           }
          ],
          "scattercarpet": [
           {
            "marker": {
             "colorbar": {
              "outlinewidth": 0,
              "ticks": ""
             }
            },
            "type": "scattercarpet"
           }
          ],
          "scattergeo": [
           {
            "marker": {
             "colorbar": {
              "outlinewidth": 0,
              "ticks": ""
             }
            },
            "type": "scattergeo"
           }
          ],
          "scattergl": [
           {
            "marker": {
             "colorbar": {
              "outlinewidth": 0,
              "ticks": ""
             }
            },
            "type": "scattergl"
           }
          ],
          "scattermapbox": [
           {
            "marker": {
             "colorbar": {
              "outlinewidth": 0,
              "ticks": ""
             }
            },
            "type": "scattermapbox"
           }
          ],
          "scatterpolar": [
           {
            "marker": {
             "colorbar": {
              "outlinewidth": 0,
              "ticks": ""
             }
            },
            "type": "scatterpolar"
           }
          ],
          "scatterpolargl": [
           {
            "marker": {
             "colorbar": {
              "outlinewidth": 0,
              "ticks": ""
             }
            },
            "type": "scatterpolargl"
           }
          ],
          "scatterternary": [
           {
            "marker": {
             "colorbar": {
              "outlinewidth": 0,
              "ticks": ""
             }
            },
            "type": "scatterternary"
           }
          ],
          "surface": [
           {
            "colorbar": {
             "outlinewidth": 0,
             "ticks": ""
            },
            "colorscale": [
             [
              0,
              "#0d0887"
             ],
             [
              0.1111111111111111,
              "#46039f"
             ],
             [
              0.2222222222222222,
              "#7201a8"
             ],
             [
              0.3333333333333333,
              "#9c179e"
             ],
             [
              0.4444444444444444,
              "#bd3786"
             ],
             [
              0.5555555555555556,
              "#d8576b"
             ],
             [
              0.6666666666666666,
              "#ed7953"
             ],
             [
              0.7777777777777778,
              "#fb9f3a"
             ],
             [
              0.8888888888888888,
              "#fdca26"
             ],
             [
              1,
              "#f0f921"
             ]
            ],
            "type": "surface"
           }
          ],
          "table": [
           {
            "cells": {
             "fill": {
              "color": "#EBF0F8"
             },
             "line": {
              "color": "white"
             }
            },
            "header": {
             "fill": {
              "color": "#C8D4E3"
             },
             "line": {
              "color": "white"
             }
            },
            "type": "table"
           }
          ]
         },
         "layout": {
          "annotationdefaults": {
           "arrowcolor": "#2a3f5f",
           "arrowhead": 0,
           "arrowwidth": 1
          },
          "autotypenumbers": "strict",
          "coloraxis": {
           "colorbar": {
            "outlinewidth": 0,
            "ticks": ""
           }
          },
          "colorscale": {
           "diverging": [
            [
             0,
             "#8e0152"
            ],
            [
             0.1,
             "#c51b7d"
            ],
            [
             0.2,
             "#de77ae"
            ],
            [
             0.3,
             "#f1b6da"
            ],
            [
             0.4,
             "#fde0ef"
            ],
            [
             0.5,
             "#f7f7f7"
            ],
            [
             0.6,
             "#e6f5d0"
            ],
            [
             0.7,
             "#b8e186"
            ],
            [
             0.8,
             "#7fbc41"
            ],
            [
             0.9,
             "#4d9221"
            ],
            [
             1,
             "#276419"
            ]
           ],
           "sequential": [
            [
             0,
             "#0d0887"
            ],
            [
             0.1111111111111111,
             "#46039f"
            ],
            [
             0.2222222222222222,
             "#7201a8"
            ],
            [
             0.3333333333333333,
             "#9c179e"
            ],
            [
             0.4444444444444444,
             "#bd3786"
            ],
            [
             0.5555555555555556,
             "#d8576b"
            ],
            [
             0.6666666666666666,
             "#ed7953"
            ],
            [
             0.7777777777777778,
             "#fb9f3a"
            ],
            [
             0.8888888888888888,
             "#fdca26"
            ],
            [
             1,
             "#f0f921"
            ]
           ],
           "sequentialminus": [
            [
             0,
             "#0d0887"
            ],
            [
             0.1111111111111111,
             "#46039f"
            ],
            [
             0.2222222222222222,
             "#7201a8"
            ],
            [
             0.3333333333333333,
             "#9c179e"
            ],
            [
             0.4444444444444444,
             "#bd3786"
            ],
            [
             0.5555555555555556,
             "#d8576b"
            ],
            [
             0.6666666666666666,
             "#ed7953"
            ],
            [
             0.7777777777777778,
             "#fb9f3a"
            ],
            [
             0.8888888888888888,
             "#fdca26"
            ],
            [
             1,
             "#f0f921"
            ]
           ]
          },
          "colorway": [
           "#636efa",
           "#EF553B",
           "#00cc96",
           "#ab63fa",
           "#FFA15A",
           "#19d3f3",
           "#FF6692",
           "#B6E880",
           "#FF97FF",
           "#FECB52"
          ],
          "font": {
           "color": "#2a3f5f"
          },
          "geo": {
           "bgcolor": "white",
           "lakecolor": "white",
           "landcolor": "#E5ECF6",
           "showlakes": true,
           "showland": true,
           "subunitcolor": "white"
          },
          "hoverlabel": {
           "align": "left"
          },
          "hovermode": "closest",
          "mapbox": {
           "style": "light"
          },
          "paper_bgcolor": "white",
          "plot_bgcolor": "#E5ECF6",
          "polar": {
           "angularaxis": {
            "gridcolor": "white",
            "linecolor": "white",
            "ticks": ""
           },
           "bgcolor": "#E5ECF6",
           "radialaxis": {
            "gridcolor": "white",
            "linecolor": "white",
            "ticks": ""
           }
          },
          "scene": {
           "xaxis": {
            "backgroundcolor": "#E5ECF6",
            "gridcolor": "white",
            "gridwidth": 2,
            "linecolor": "white",
            "showbackground": true,
            "ticks": "",
            "zerolinecolor": "white"
           },
           "yaxis": {
            "backgroundcolor": "#E5ECF6",
            "gridcolor": "white",
            "gridwidth": 2,
            "linecolor": "white",
            "showbackground": true,
            "ticks": "",
            "zerolinecolor": "white"
           },
           "zaxis": {
            "backgroundcolor": "#E5ECF6",
            "gridcolor": "white",
            "gridwidth": 2,
            "linecolor": "white",
            "showbackground": true,
            "ticks": "",
            "zerolinecolor": "white"
           }
          },
          "shapedefaults": {
           "line": {
            "color": "#2a3f5f"
           }
          },
          "ternary": {
           "aaxis": {
            "gridcolor": "white",
            "linecolor": "white",
            "ticks": ""
           },
           "baxis": {
            "gridcolor": "white",
            "linecolor": "white",
            "ticks": ""
           },
           "bgcolor": "#E5ECF6",
           "caxis": {
            "gridcolor": "white",
            "linecolor": "white",
            "ticks": ""
           }
          },
          "title": {
           "x": 0.05
          },
          "xaxis": {
           "automargin": true,
           "gridcolor": "white",
           "linecolor": "white",
           "ticks": "",
           "title": {
            "standoff": 15
           },
           "zerolinecolor": "white",
           "zerolinewidth": 2
          },
          "yaxis": {
           "automargin": true,
           "gridcolor": "white",
           "linecolor": "white",
           "ticks": "",
           "title": {
            "standoff": 15
           },
           "zerolinecolor": "white",
           "zerolinewidth": 2
          }
         }
        },
        "title": {
         "text": "Country's life satisfaction in Cantril Ladder (World Happiness Report 2013)"
        }
       }
      },
      "text/html": [
       "<div>                            <div id=\"5b4c9cfb-c066-4442-bd52-2cb70fb3e70f\" class=\"plotly-graph-div\" style=\"height:525px; width:100%;\"></div>            <script type=\"text/javascript\">                require([\"plotly\"], function(Plotly) {                    window.PLOTLYENV=window.PLOTLYENV || {};                                    if (document.getElementById(\"5b4c9cfb-c066-4442-bd52-2cb70fb3e70f\")) {                    Plotly.newPlot(                        \"5b4c9cfb-c066-4442-bd52-2cb70fb3e70f\",                        [{\"coloraxis\":\"coloraxis\",\"customdata\":[[\"Armenia\",\"ARM\",4.35,30.58],[\"Austria\",\"AUT\",7.08,30.75],[\"Azerbaijan\",\"AZE\",5.15,26.55],[\"Belarus\",\"BLR\",5.72,26.58],[\"Belgium\",\"BEL\",6.9,27.67],[\"Bolivia\",\"BOL\",5.83,47.6],[\"Brazil\",\"BRA\",6.55,52.75],[\"Bulgaria\",\"BGR\",4.87,36.57],[\"Colombia\",\"COL\",6.39,52.63],[\"Costa Rica\",\"CRI\",6.85,49.27],[\"Croatia\",\"HRV\",5.21,32.0],[\"Cyprus\",\"CYP\",5.44,37.04],[\"Czechia\",\"CZE\",6.61,26.47],[\"Denmark\",\"DNK\",7.51,28.54],[\"Dominican Republic\",\"DOM\",5.06,47.66],[\"Ecuador\",\"ECU\",5.96,46.86],[\"El Salvador\",\"SLV\",6.02,43.36],[\"Estonia\",\"EST\",5.63,35.08],[\"Finland\",\"FIN\",7.45,27.19],[\"France\",\"FRA\",6.36,32.51],[\"Georgia\",\"GEO\",4.12,38.59],[\"Germany\",\"DEU\",7.04,31.15],[\"Greece\",\"GRC\",5.62,36.13],[\"Honduras\",\"HND\",4.85,52.58],[\"Hungary\",\"HUN\",5.34,31.5],[\"Ireland\",\"IRL\",6.83,33.49],[\"Italy\",\"ITA\",5.85,34.91],[\"Kazakhstan\",\"KAZ\",5.95,27.07],[\"Kyrgyzstan\",\"KGZ\",4.91,28.82],[\"Latvia\",\"LVA\",5.88,35.5],[\"Lebanon\",\"LBN\",5.17,31.83],[\"Lithuania\",\"LTU\",5.71,35.31],[\"Luxembourg\",\"LUX\",6.7,32.04],[\"Mali\",\"MLI\",4.58,33.04],[\"Malta\",\"MLT\",6.61,28.84],[\"Moldova\",\"MDA\",6.02,28.53],[\"Montenegro\",\"MNE\",5.12,32.44],[\"Netherlands\",\"NLD\",7.32,28.11],[\"North Macedonia\",\"MKD\",4.98,36.24],[\"Panama\",\"PAN\",6.61,51.46],[\"Paraguay\",\"PRY\",5.56,47.94],[\"Peru\",\"PER\",5.58,43.89],[\"Poland\",\"POL\",6.01,32.55],[\"Portugal\",\"PRT\",5.08,36.19],[\"Romania\",\"ROU\",5.78,27.45],[\"Russia\",\"RUS\",6.0,40.88],[\"Serbia\",\"SRB\",5.32,29.02],[\"Slovakia\",\"SVK\",6.16,28.09],[\"Slovenia\",\"SVN\",5.74,26.24],[\"Spain\",\"ESP\",6.38,36.19],[\"Sweden\",\"SWE\",7.29,28.83],[\"Thailand\",\"THA\",6.2,37.85],[\"Turkey\",\"TUR\",5.51,40.18],[\"Turkmenistan\",\"TKM\",5.79,40.81],[\"Ukraine\",\"UKR\",3.96,24.55],[\"United Kingdom\",\"GBR\",6.52,33.21],[\"United States\",\"USA\",6.86,40.65],[\"Uruguay\",\"URY\",6.63,40.45]],\"geo\":\"geo\",\"hovertemplate\":\"Country: %{customdata[0]}<br>Happiness: %{customdata[2]}<br>Gini: %{customdata[3]}<extra></extra>\",\"hovertext\":[\"Armenia\",\"Austria\",\"Azerbaijan\",\"Belarus\",\"Belgium\",\"Bolivia\",\"Brazil\",\"Bulgaria\",\"Colombia\",\"Costa Rica\",\"Croatia\",\"Cyprus\",\"Czechia\",\"Denmark\",\"Dominican Republic\",\"Ecuador\",\"El Salvador\",\"Estonia\",\"Finland\",\"France\",\"Georgia\",\"Germany\",\"Greece\",\"Honduras\",\"Hungary\",\"Ireland\",\"Italy\",\"Kazakhstan\",\"Kyrgyzstan\",\"Latvia\",\"Lebanon\",\"Lithuania\",\"Luxembourg\",\"Mali\",\"Malta\",\"Moldova\",\"Montenegro\",\"Netherlands\",\"North Macedonia\",\"Panama\",\"Paraguay\",\"Peru\",\"Poland\",\"Portugal\",\"Romania\",\"Russia\",\"Serbia\",\"Slovakia\",\"Slovenia\",\"Spain\",\"Sweden\",\"Thailand\",\"Turkey\",\"Turkmenistan\",\"Ukraine\",\"United Kingdom\",\"United States\",\"Uruguay\"],\"locations\":[\"ARM\",\"AUT\",\"AZE\",\"BLR\",\"BEL\",\"BOL\",\"BRA\",\"BGR\",\"COL\",\"CRI\",\"HRV\",\"CYP\",\"CZE\",\"DNK\",\"DOM\",\"ECU\",\"SLV\",\"EST\",\"FIN\",\"FRA\",\"GEO\",\"DEU\",\"GRC\",\"HND\",\"HUN\",\"IRL\",\"ITA\",\"KAZ\",\"KGZ\",\"LVA\",\"LBN\",\"LTU\",\"LUX\",\"MLI\",\"MLT\",\"MDA\",\"MNE\",\"NLD\",\"MKD\",\"PAN\",\"PRY\",\"PER\",\"POL\",\"PRT\",\"ROU\",\"RUS\",\"SRB\",\"SVK\",\"SVN\",\"ESP\",\"SWE\",\"THA\",\"TUR\",\"TKM\",\"UKR\",\"GBR\",\"USA\",\"URY\"],\"name\":\"\",\"z\":[4.35,7.08,5.15,5.72,6.9,5.83,6.55,4.87,6.39,6.85,5.21,5.44,6.61,7.51,5.06,5.96,6.02,5.63,7.45,6.36,4.12,7.04,5.62,4.85,5.34,6.83,5.85,5.95,4.91,5.88,5.17,5.71,6.7,4.58,6.61,6.02,5.12,7.32,4.98,6.61,5.56,5.58,6.01,5.08,5.78,6.0,5.32,6.16,5.74,6.38,7.29,6.2,5.51,5.79,3.96,6.52,6.86,6.63],\"type\":\"choropleth\"}],                        {\"template\":{\"data\":{\"histogram2dcontour\":[{\"type\":\"histogram2dcontour\",\"colorbar\":{\"outlinewidth\":0,\"ticks\":\"\"},\"colorscale\":[[0.0,\"#0d0887\"],[0.1111111111111111,\"#46039f\"],[0.2222222222222222,\"#7201a8\"],[0.3333333333333333,\"#9c179e\"],[0.4444444444444444,\"#bd3786\"],[0.5555555555555556,\"#d8576b\"],[0.6666666666666666,\"#ed7953\"],[0.7777777777777778,\"#fb9f3a\"],[0.8888888888888888,\"#fdca26\"],[1.0,\"#f0f921\"]]}],\"choropleth\":[{\"type\":\"choropleth\",\"colorbar\":{\"outlinewidth\":0,\"ticks\":\"\"}}],\"histogram2d\":[{\"type\":\"histogram2d\",\"colorbar\":{\"outlinewidth\":0,\"ticks\":\"\"},\"colorscale\":[[0.0,\"#0d0887\"],[0.1111111111111111,\"#46039f\"],[0.2222222222222222,\"#7201a8\"],[0.3333333333333333,\"#9c179e\"],[0.4444444444444444,\"#bd3786\"],[0.5555555555555556,\"#d8576b\"],[0.6666666666666666,\"#ed7953\"],[0.7777777777777778,\"#fb9f3a\"],[0.8888888888888888,\"#fdca26\"],[1.0,\"#f0f921\"]]}],\"heatmap\":[{\"type\":\"heatmap\",\"colorbar\":{\"outlinewidth\":0,\"ticks\":\"\"},\"colorscale\":[[0.0,\"#0d0887\"],[0.1111111111111111,\"#46039f\"],[0.2222222222222222,\"#7201a8\"],[0.3333333333333333,\"#9c179e\"],[0.4444444444444444,\"#bd3786\"],[0.5555555555555556,\"#d8576b\"],[0.6666666666666666,\"#ed7953\"],[0.7777777777777778,\"#fb9f3a\"],[0.8888888888888888,\"#fdca26\"],[1.0,\"#f0f921\"]]}],\"heatmapgl\":[{\"type\":\"heatmapgl\",\"colorbar\":{\"outlinewidth\":0,\"ticks\":\"\"},\"colorscale\":[[0.0,\"#0d0887\"],[0.1111111111111111,\"#46039f\"],[0.2222222222222222,\"#7201a8\"],[0.3333333333333333,\"#9c179e\"],[0.4444444444444444,\"#bd3786\"],[0.5555555555555556,\"#d8576b\"],[0.6666666666666666,\"#ed7953\"],[0.7777777777777778,\"#fb9f3a\"],[0.8888888888888888,\"#fdca26\"],[1.0,\"#f0f921\"]]}],\"contourcarpet\":[{\"type\":\"contourcarpet\",\"colorbar\":{\"outlinewidth\":0,\"ticks\":\"\"}}],\"contour\":[{\"type\":\"contour\",\"colorbar\":{\"outlinewidth\":0,\"ticks\":\"\"},\"colorscale\":[[0.0,\"#0d0887\"],[0.1111111111111111,\"#46039f\"],[0.2222222222222222,\"#7201a8\"],[0.3333333333333333,\"#9c179e\"],[0.4444444444444444,\"#bd3786\"],[0.5555555555555556,\"#d8576b\"],[0.6666666666666666,\"#ed7953\"],[0.7777777777777778,\"#fb9f3a\"],[0.8888888888888888,\"#fdca26\"],[1.0,\"#f0f921\"]]}],\"surface\":[{\"type\":\"surface\",\"colorbar\":{\"outlinewidth\":0,\"ticks\":\"\"},\"colorscale\":[[0.0,\"#0d0887\"],[0.1111111111111111,\"#46039f\"],[0.2222222222222222,\"#7201a8\"],[0.3333333333333333,\"#9c179e\"],[0.4444444444444444,\"#bd3786\"],[0.5555555555555556,\"#d8576b\"],[0.6666666666666666,\"#ed7953\"],[0.7777777777777778,\"#fb9f3a\"],[0.8888888888888888,\"#fdca26\"],[1.0,\"#f0f921\"]]}],\"mesh3d\":[{\"type\":\"mesh3d\",\"colorbar\":{\"outlinewidth\":0,\"ticks\":\"\"}}],\"scatter\":[{\"fillpattern\":{\"fillmode\":\"overlay\",\"size\":10,\"solidity\":0.2},\"type\":\"scatter\"}],\"parcoords\":[{\"type\":\"parcoords\",\"line\":{\"colorbar\":{\"outlinewidth\":0,\"ticks\":\"\"}}}],\"scatterpolargl\":[{\"type\":\"scatterpolargl\",\"marker\":{\"colorbar\":{\"outlinewidth\":0,\"ticks\":\"\"}}}],\"bar\":[{\"error_x\":{\"color\":\"#2a3f5f\"},\"error_y\":{\"color\":\"#2a3f5f\"},\"marker\":{\"line\":{\"color\":\"#E5ECF6\",\"width\":0.5},\"pattern\":{\"fillmode\":\"overlay\",\"size\":10,\"solidity\":0.2}},\"type\":\"bar\"}],\"scattergeo\":[{\"type\":\"scattergeo\",\"marker\":{\"colorbar\":{\"outlinewidth\":0,\"ticks\":\"\"}}}],\"scatterpolar\":[{\"type\":\"scatterpolar\",\"marker\":{\"colorbar\":{\"outlinewidth\":0,\"ticks\":\"\"}}}],\"histogram\":[{\"marker\":{\"pattern\":{\"fillmode\":\"overlay\",\"size\":10,\"solidity\":0.2}},\"type\":\"histogram\"}],\"scattergl\":[{\"type\":\"scattergl\",\"marker\":{\"colorbar\":{\"outlinewidth\":0,\"ticks\":\"\"}}}],\"scatter3d\":[{\"type\":\"scatter3d\",\"line\":{\"colorbar\":{\"outlinewidth\":0,\"ticks\":\"\"}},\"marker\":{\"colorbar\":{\"outlinewidth\":0,\"ticks\":\"\"}}}],\"scattermapbox\":[{\"type\":\"scattermapbox\",\"marker\":{\"colorbar\":{\"outlinewidth\":0,\"ticks\":\"\"}}}],\"scatterternary\":[{\"type\":\"scatterternary\",\"marker\":{\"colorbar\":{\"outlinewidth\":0,\"ticks\":\"\"}}}],\"scattercarpet\":[{\"type\":\"scattercarpet\",\"marker\":{\"colorbar\":{\"outlinewidth\":0,\"ticks\":\"\"}}}],\"carpet\":[{\"aaxis\":{\"endlinecolor\":\"#2a3f5f\",\"gridcolor\":\"white\",\"linecolor\":\"white\",\"minorgridcolor\":\"white\",\"startlinecolor\":\"#2a3f5f\"},\"baxis\":{\"endlinecolor\":\"#2a3f5f\",\"gridcolor\":\"white\",\"linecolor\":\"white\",\"minorgridcolor\":\"white\",\"startlinecolor\":\"#2a3f5f\"},\"type\":\"carpet\"}],\"table\":[{\"cells\":{\"fill\":{\"color\":\"#EBF0F8\"},\"line\":{\"color\":\"white\"}},\"header\":{\"fill\":{\"color\":\"#C8D4E3\"},\"line\":{\"color\":\"white\"}},\"type\":\"table\"}],\"barpolar\":[{\"marker\":{\"line\":{\"color\":\"#E5ECF6\",\"width\":0.5},\"pattern\":{\"fillmode\":\"overlay\",\"size\":10,\"solidity\":0.2}},\"type\":\"barpolar\"}],\"pie\":[{\"automargin\":true,\"type\":\"pie\"}]},\"layout\":{\"autotypenumbers\":\"strict\",\"colorway\":[\"#636efa\",\"#EF553B\",\"#00cc96\",\"#ab63fa\",\"#FFA15A\",\"#19d3f3\",\"#FF6692\",\"#B6E880\",\"#FF97FF\",\"#FECB52\"],\"font\":{\"color\":\"#2a3f5f\"},\"hovermode\":\"closest\",\"hoverlabel\":{\"align\":\"left\"},\"paper_bgcolor\":\"white\",\"plot_bgcolor\":\"#E5ECF6\",\"polar\":{\"bgcolor\":\"#E5ECF6\",\"angularaxis\":{\"gridcolor\":\"white\",\"linecolor\":\"white\",\"ticks\":\"\"},\"radialaxis\":{\"gridcolor\":\"white\",\"linecolor\":\"white\",\"ticks\":\"\"}},\"ternary\":{\"bgcolor\":\"#E5ECF6\",\"aaxis\":{\"gridcolor\":\"white\",\"linecolor\":\"white\",\"ticks\":\"\"},\"baxis\":{\"gridcolor\":\"white\",\"linecolor\":\"white\",\"ticks\":\"\"},\"caxis\":{\"gridcolor\":\"white\",\"linecolor\":\"white\",\"ticks\":\"\"}},\"coloraxis\":{\"colorbar\":{\"outlinewidth\":0,\"ticks\":\"\"}},\"colorscale\":{\"sequential\":[[0.0,\"#0d0887\"],[0.1111111111111111,\"#46039f\"],[0.2222222222222222,\"#7201a8\"],[0.3333333333333333,\"#9c179e\"],[0.4444444444444444,\"#bd3786\"],[0.5555555555555556,\"#d8576b\"],[0.6666666666666666,\"#ed7953\"],[0.7777777777777778,\"#fb9f3a\"],[0.8888888888888888,\"#fdca26\"],[1.0,\"#f0f921\"]],\"sequentialminus\":[[0.0,\"#0d0887\"],[0.1111111111111111,\"#46039f\"],[0.2222222222222222,\"#7201a8\"],[0.3333333333333333,\"#9c179e\"],[0.4444444444444444,\"#bd3786\"],[0.5555555555555556,\"#d8576b\"],[0.6666666666666666,\"#ed7953\"],[0.7777777777777778,\"#fb9f3a\"],[0.8888888888888888,\"#fdca26\"],[1.0,\"#f0f921\"]],\"diverging\":[[0,\"#8e0152\"],[0.1,\"#c51b7d\"],[0.2,\"#de77ae\"],[0.3,\"#f1b6da\"],[0.4,\"#fde0ef\"],[0.5,\"#f7f7f7\"],[0.6,\"#e6f5d0\"],[0.7,\"#b8e186\"],[0.8,\"#7fbc41\"],[0.9,\"#4d9221\"],[1,\"#276419\"]]},\"xaxis\":{\"gridcolor\":\"white\",\"linecolor\":\"white\",\"ticks\":\"\",\"title\":{\"standoff\":15},\"zerolinecolor\":\"white\",\"automargin\":true,\"zerolinewidth\":2},\"yaxis\":{\"gridcolor\":\"white\",\"linecolor\":\"white\",\"ticks\":\"\",\"title\":{\"standoff\":15},\"zerolinecolor\":\"white\",\"automargin\":true,\"zerolinewidth\":2},\"scene\":{\"xaxis\":{\"backgroundcolor\":\"#E5ECF6\",\"gridcolor\":\"white\",\"linecolor\":\"white\",\"showbackground\":true,\"ticks\":\"\",\"zerolinecolor\":\"white\",\"gridwidth\":2},\"yaxis\":{\"backgroundcolor\":\"#E5ECF6\",\"gridcolor\":\"white\",\"linecolor\":\"white\",\"showbackground\":true,\"ticks\":\"\",\"zerolinecolor\":\"white\",\"gridwidth\":2},\"zaxis\":{\"backgroundcolor\":\"#E5ECF6\",\"gridcolor\":\"white\",\"linecolor\":\"white\",\"showbackground\":true,\"ticks\":\"\",\"zerolinecolor\":\"white\",\"gridwidth\":2}},\"shapedefaults\":{\"line\":{\"color\":\"#2a3f5f\"}},\"annotationdefaults\":{\"arrowcolor\":\"#2a3f5f\",\"arrowhead\":0,\"arrowwidth\":1},\"geo\":{\"bgcolor\":\"white\",\"landcolor\":\"#E5ECF6\",\"subunitcolor\":\"white\",\"showland\":true,\"showlakes\":true,\"lakecolor\":\"white\"},\"title\":{\"x\":0.05},\"mapbox\":{\"style\":\"light\"}}},\"geo\":{\"domain\":{\"x\":[0.0,1.0],\"y\":[0.0,1.0]},\"center\":{},\"scope\":\"world\"},\"coloraxis\":{\"colorbar\":{\"title\":{\"text\":\"\"}},\"colorscale\":[[0.0,\"red\"],[0.5,\"light blue\"],[1.0,\"yellow\"]],\"cmin\":0,\"cmax\":10},\"legend\":{\"tracegroupgap\":0},\"title\":{\"text\":\"Country's life satisfaction in Cantril Ladder (World Happiness Report 2013)\"}},                        {\"responsive\": true}                    ).then(function(){\n",
       "                            \n",
       "var gd = document.getElementById('5b4c9cfb-c066-4442-bd52-2cb70fb3e70f');\n",
       "var x = new MutationObserver(function (mutations, observer) {{\n",
       "        var display = window.getComputedStyle(gd).display;\n",
       "        if (!display || display === 'none') {{\n",
       "            console.log([gd, 'removed!']);\n",
       "            Plotly.purge(gd);\n",
       "            observer.disconnect();\n",
       "        }}\n",
       "}});\n",
       "\n",
       "// Listen for the removal of the full notebook cells\n",
       "var notebookContainer = gd.closest('#notebook-container');\n",
       "if (notebookContainer) {{\n",
       "    x.observe(notebookContainer, {childList: true});\n",
       "}}\n",
       "\n",
       "// Listen for the clearing of the current output cell\n",
       "var outputEl = gd.closest('.output');\n",
       "if (outputEl) {{\n",
       "    x.observe(outputEl, {childList: true});\n",
       "}}\n",
       "\n",
       "                        })                };                });            </script>        </div>"
      ]
     },
     "metadata": {},
     "output_type": "display_data"
    }
   ],
   "source": [
    "#Visualize Dataset df_unique_ginis on map\n",
    "choropleth_fig = px.choropleth(df_unique_ginis.query(\"Year==2013\"), \n",
    "                    title=\"Country's life satisfaction in Cantril Ladder (World Happiness Report 2013)\",\n",
    "                    locations=\"Code\", color=\"Life Satisfaction\",\n",
    "                    color_continuous_scale=[\"red\", \"light blue\", \"yellow\"],\n",
    "                    range_color=(0, 10),\n",
    "                    scope=\"world\", hover_name=\"Entity\",\n",
    "                    hover_data={\"Entity\": True, \"Code\": False, \"Life Satisfaction\": False, \"Gini index\": False, },)\n",
    "choropleth_fig.update_traces(hovertemplate = 'Country: %{customdata[0]}<br>Happiness: %{customdata[2]}<br>Gini: %{customdata[3]}<extra></extra>')\n",
    "choropleth_fig.update_layout(coloraxis_colorbar=dict(title=\"\",))\n",
    "choropleth_fig.show()"
   ]
  },
  {
   "cell_type": "markdown",
   "id": "5276f52a",
   "metadata": {},
   "source": [
    "b) Scatterplots for individual countries\n",
    "\n",
    "The weakness of the choropleth map was that development of Life Satisfaction, GDP per capita and Gini index could not be tracked over time. Furthermore, the Gini index, although available, wasn't immediately visible and could therefore not be compared as easily. Instead, a scatterplot with Life Satisfaction on the y-axis and GDP per capita on the x-axis was drawn up and contrasted with a seperate second graph where GDP per capita was replaced with the Gini index on the x-axis. Unfortunately, in this way, time could not be visualized on the x-axis like in a classic time series graph without removing one of the other statistics. The solution to this problem was to visualize time in arrow form. The tail of an arrow would be placed on the chronologically first year's data point, while its head would point towards the datapoint representing the year after. This was done for each datapoint. A red ordinary least squares trendline was included to allow for an instant visualization of the initial conclusion provided by the graph. The title of the graph as well as the axis titles provided almost all relevant information. The year of each datapoint was placed to the bottom right of the point to enable smoother reading and less crossover. The symbols (diamond) and size of the symbols were chosen carefully to allow for information to be clearly read and understood. The color of the arrows (black) and symbols (blue) contrast with the red trendline while also seperating themselves from each other. Hoverframes were removed to avoid confusion, as all relevant information was already portrayed."
   ]
  },
  {
   "cell_type": "code",
   "execution_count": 15,
   "id": "62ea84c5",
   "metadata": {},
   "outputs": [],
   "source": [
    "#Function for visualizing scatterplots of Happiness/GDP Data with arrows tracing chronologically for countries of choice\n",
    "def arrow_scatterplot_gdp(code, df):\n",
    "    df_country = df[df['Code'] == code]\n",
    "    scatter_country_gdp_fig = px.scatter(df_country, x = 'GDP per capita', y = 'Life Satisfaction',\n",
    "                                         symbol_sequence=[\"diamond\"], text = 'Year', \n",
    "                                         trendline='ols', trendline_color_override = \"red\", \n",
    "                                         title=\"Life Satisfaction/GDP per capita Scatterplot (\" +df[df['Code'] == code]['Entity'].tolist()[0]+ \")\")\n",
    "    scatter_country_gdp_fig.update_traces(textposition=\"bottom right\", textfont_size=15,\n",
    "                                          hovertemplate=None, hoverinfo='skip',\n",
    "                                          marker={'size': 10})\n",
    "    for t in range(len(df_country)-1):\n",
    "        scatter_country_gdp_fig.add_annotation(\n",
    "            x= df_country.iloc[t+1]['GDP per capita'],  # arrows' head\n",
    "            y=df_country.iloc[t+1]['Life Satisfaction'],  # arrows' head\n",
    "            ax=df_country.iloc[t]['GDP per capita'],  # arrows' tail\n",
    "            ay=df_country.iloc[t]['Life Satisfaction'],  # arrows' tail\n",
    "            xref='x',\n",
    "            yref='y',\n",
    "            axref='x',\n",
    "            ayref='y',\n",
    "            text='',\n",
    "            showarrow=True,\n",
    "            arrowhead=1,\n",
    "            arrowsize=1,\n",
    "            arrowwidth=2,\n",
    "            arrowcolor='black'\n",
    "        )\n",
    "    return scatter_country_gdp_fig"
   ]
  },
  {
   "cell_type": "code",
   "execution_count": 16,
   "id": "20534b19",
   "metadata": {},
   "outputs": [],
   "source": [
    "#Function for visualizing scatterplots of Happiness/Gini Data with arrows for countries of choice\n",
    "def arrow_scatterplot_gini(code, df):\n",
    "    df_country = df[df['Code'] == code]\n",
    "    scatter_country_gini_fig = px.scatter(df_country, x = 'Gini index', y = 'Life Satisfaction',\n",
    "                                          symbol_sequence=[\"diamond\"], text = 'Year',\n",
    "                                          trendline='ols', trendline_color_override = \"red\",\n",
    "                                          title=\"Life Satisfaction/Gini index Scatterplot (\" +df[df['Code'] == code]['Entity'].tolist()[0]+ \")\")\n",
    "    scatter_country_gini_fig.update_traces(textposition=\"bottom right\", textfont_size=15,\n",
    "                                          hovertemplate=None, hoverinfo='skip',\n",
    "                                          marker={'size': 10})\n",
    "    for t in range(len(df_country)-1):\n",
    "        scatter_country_gini_fig.add_annotation(\n",
    "            x= df_country.iloc[t+1]['Gini index'],  # arrows' head\n",
    "            y=df_country.iloc[t+1]['Life Satisfaction'],  # arrows' head\n",
    "            ax=df_country.iloc[t]['Gini index'],  # arrows' tail\n",
    "            ay=df_country.iloc[t]['Life Satisfaction'],  # arrows' tail\n",
    "            xref='x',\n",
    "            yref='y',\n",
    "            axref='x',\n",
    "            ayref='y',\n",
    "            text='',\n",
    "            showarrow=True,\n",
    "            arrowhead=1,\n",
    "            arrowsize=1,\n",
    "            arrowwidth=2,\n",
    "            arrowcolor='black'\n",
    "        )\n",
    "    return scatter_country_gini_fig"
   ]
  },
  {
   "cell_type": "code",
   "execution_count": 17,
   "id": "8cb61f87",
   "metadata": {},
   "outputs": [
    {
     "data": {
      "application/vnd.plotly.v1+json": {
       "config": {
        "plotlyServerURL": "https://plot.ly"
       },
       "data": [
        {
         "hoverinfo": "skip",
         "legendgroup": "",
         "marker": {
          "color": "#636efa",
          "size": 10,
          "symbol": "diamond"
         },
         "mode": "markers+text",
         "name": "",
         "orientation": "v",
         "showlegend": false,
         "text": [
          2008,
          2009,
          2010,
          2011,
          2012,
          2013,
          2014,
          2015,
          2016,
          2017
         ],
         "textfont": {
          "size": 15
         },
         "textposition": "bottom right",
         "type": "scatter",
         "x": [
          55272,
          53399,
          54316,
          54759,
          55581,
          56214,
          57213,
          58540,
          59112,
          60110
         ],
         "xaxis": "x",
         "y": [
          7.16,
          7.12,
          7.03,
          7.25,
          7.15,
          6.86,
          6.8,
          6.99,
          6.88,
          6.94
         ],
         "yaxis": "y"
        },
        {
         "hoverinfo": "skip",
         "legendgroup": "",
         "line": {
          "color": "red"
         },
         "marker": {
          "color": "#636efa",
          "size": 10,
          "symbol": "diamond"
         },
         "mode": "lines",
         "name": "",
         "showlegend": false,
         "textfont": {
          "size": 15
         },
         "textposition": "bottom right",
         "type": "scatter",
         "x": [
          53399,
          54316,
          54759,
          55272,
          55581,
          56214,
          57213,
          58540,
          59112,
          60110
         ],
         "xaxis": "x",
         "y": [
          7.145431195902114,
          7.107150908068056,
          7.088657813727284,
          7.067242560009866,
          7.0543433136186735,
          7.027918643827006,
          6.986215255008878,
          6.930819462254465,
          6.906941245633875,
          6.865279601949698
         ],
         "yaxis": "y"
        }
       ],
       "layout": {
        "annotations": [
         {
          "arrowcolor": "black",
          "arrowhead": 1,
          "arrowsize": 1,
          "arrowwidth": 2,
          "ax": 55272,
          "axref": "x",
          "ay": 7.16,
          "ayref": "y",
          "showarrow": true,
          "text": "",
          "x": 53399,
          "xref": "x",
          "y": 7.12,
          "yref": "y"
         },
         {
          "arrowcolor": "black",
          "arrowhead": 1,
          "arrowsize": 1,
          "arrowwidth": 2,
          "ax": 53399,
          "axref": "x",
          "ay": 7.12,
          "ayref": "y",
          "showarrow": true,
          "text": "",
          "x": 54316,
          "xref": "x",
          "y": 7.03,
          "yref": "y"
         },
         {
          "arrowcolor": "black",
          "arrowhead": 1,
          "arrowsize": 1,
          "arrowwidth": 2,
          "ax": 54316,
          "axref": "x",
          "ay": 7.03,
          "ayref": "y",
          "showarrow": true,
          "text": "",
          "x": 54759,
          "xref": "x",
          "y": 7.25,
          "yref": "y"
         },
         {
          "arrowcolor": "black",
          "arrowhead": 1,
          "arrowsize": 1,
          "arrowwidth": 2,
          "ax": 54759,
          "axref": "x",
          "ay": 7.25,
          "ayref": "y",
          "showarrow": true,
          "text": "",
          "x": 55581,
          "xref": "x",
          "y": 7.15,
          "yref": "y"
         },
         {
          "arrowcolor": "black",
          "arrowhead": 1,
          "arrowsize": 1,
          "arrowwidth": 2,
          "ax": 55581,
          "axref": "x",
          "ay": 7.15,
          "ayref": "y",
          "showarrow": true,
          "text": "",
          "x": 56214,
          "xref": "x",
          "y": 6.86,
          "yref": "y"
         },
         {
          "arrowcolor": "black",
          "arrowhead": 1,
          "arrowsize": 1,
          "arrowwidth": 2,
          "ax": 56214,
          "axref": "x",
          "ay": 6.86,
          "ayref": "y",
          "showarrow": true,
          "text": "",
          "x": 57213,
          "xref": "x",
          "y": 6.8,
          "yref": "y"
         },
         {
          "arrowcolor": "black",
          "arrowhead": 1,
          "arrowsize": 1,
          "arrowwidth": 2,
          "ax": 57213,
          "axref": "x",
          "ay": 6.8,
          "ayref": "y",
          "showarrow": true,
          "text": "",
          "x": 58540,
          "xref": "x",
          "y": 6.99,
          "yref": "y"
         },
         {
          "arrowcolor": "black",
          "arrowhead": 1,
          "arrowsize": 1,
          "arrowwidth": 2,
          "ax": 58540,
          "axref": "x",
          "ay": 6.99,
          "ayref": "y",
          "showarrow": true,
          "text": "",
          "x": 59112,
          "xref": "x",
          "y": 6.88,
          "yref": "y"
         },
         {
          "arrowcolor": "black",
          "arrowhead": 1,
          "arrowsize": 1,
          "arrowwidth": 2,
          "ax": 59112,
          "axref": "x",
          "ay": 6.88,
          "ayref": "y",
          "showarrow": true,
          "text": "",
          "x": 60110,
          "xref": "x",
          "y": 6.94,
          "yref": "y"
         }
        ],
        "legend": {
         "tracegroupgap": 0
        },
        "template": {
         "data": {
          "bar": [
           {
            "error_x": {
             "color": "#2a3f5f"
            },
            "error_y": {
             "color": "#2a3f5f"
            },
            "marker": {
             "line": {
              "color": "#E5ECF6",
              "width": 0.5
             },
             "pattern": {
              "fillmode": "overlay",
              "size": 10,
              "solidity": 0.2
             }
            },
            "type": "bar"
           }
          ],
          "barpolar": [
           {
            "marker": {
             "line": {
              "color": "#E5ECF6",
              "width": 0.5
             },
             "pattern": {
              "fillmode": "overlay",
              "size": 10,
              "solidity": 0.2
             }
            },
            "type": "barpolar"
           }
          ],
          "carpet": [
           {
            "aaxis": {
             "endlinecolor": "#2a3f5f",
             "gridcolor": "white",
             "linecolor": "white",
             "minorgridcolor": "white",
             "startlinecolor": "#2a3f5f"
            },
            "baxis": {
             "endlinecolor": "#2a3f5f",
             "gridcolor": "white",
             "linecolor": "white",
             "minorgridcolor": "white",
             "startlinecolor": "#2a3f5f"
            },
            "type": "carpet"
           }
          ],
          "choropleth": [
           {
            "colorbar": {
             "outlinewidth": 0,
             "ticks": ""
            },
            "type": "choropleth"
           }
          ],
          "contour": [
           {
            "colorbar": {
             "outlinewidth": 0,
             "ticks": ""
            },
            "colorscale": [
             [
              0,
              "#0d0887"
             ],
             [
              0.1111111111111111,
              "#46039f"
             ],
             [
              0.2222222222222222,
              "#7201a8"
             ],
             [
              0.3333333333333333,
              "#9c179e"
             ],
             [
              0.4444444444444444,
              "#bd3786"
             ],
             [
              0.5555555555555556,
              "#d8576b"
             ],
             [
              0.6666666666666666,
              "#ed7953"
             ],
             [
              0.7777777777777778,
              "#fb9f3a"
             ],
             [
              0.8888888888888888,
              "#fdca26"
             ],
             [
              1,
              "#f0f921"
             ]
            ],
            "type": "contour"
           }
          ],
          "contourcarpet": [
           {
            "colorbar": {
             "outlinewidth": 0,
             "ticks": ""
            },
            "type": "contourcarpet"
           }
          ],
          "heatmap": [
           {
            "colorbar": {
             "outlinewidth": 0,
             "ticks": ""
            },
            "colorscale": [
             [
              0,
              "#0d0887"
             ],
             [
              0.1111111111111111,
              "#46039f"
             ],
             [
              0.2222222222222222,
              "#7201a8"
             ],
             [
              0.3333333333333333,
              "#9c179e"
             ],
             [
              0.4444444444444444,
              "#bd3786"
             ],
             [
              0.5555555555555556,
              "#d8576b"
             ],
             [
              0.6666666666666666,
              "#ed7953"
             ],
             [
              0.7777777777777778,
              "#fb9f3a"
             ],
             [
              0.8888888888888888,
              "#fdca26"
             ],
             [
              1,
              "#f0f921"
             ]
            ],
            "type": "heatmap"
           }
          ],
          "heatmapgl": [
           {
            "colorbar": {
             "outlinewidth": 0,
             "ticks": ""
            },
            "colorscale": [
             [
              0,
              "#0d0887"
             ],
             [
              0.1111111111111111,
              "#46039f"
             ],
             [
              0.2222222222222222,
              "#7201a8"
             ],
             [
              0.3333333333333333,
              "#9c179e"
             ],
             [
              0.4444444444444444,
              "#bd3786"
             ],
             [
              0.5555555555555556,
              "#d8576b"
             ],
             [
              0.6666666666666666,
              "#ed7953"
             ],
             [
              0.7777777777777778,
              "#fb9f3a"
             ],
             [
              0.8888888888888888,
              "#fdca26"
             ],
             [
              1,
              "#f0f921"
             ]
            ],
            "type": "heatmapgl"
           }
          ],
          "histogram": [
           {
            "marker": {
             "pattern": {
              "fillmode": "overlay",
              "size": 10,
              "solidity": 0.2
             }
            },
            "type": "histogram"
           }
          ],
          "histogram2d": [
           {
            "colorbar": {
             "outlinewidth": 0,
             "ticks": ""
            },
            "colorscale": [
             [
              0,
              "#0d0887"
             ],
             [
              0.1111111111111111,
              "#46039f"
             ],
             [
              0.2222222222222222,
              "#7201a8"
             ],
             [
              0.3333333333333333,
              "#9c179e"
             ],
             [
              0.4444444444444444,
              "#bd3786"
             ],
             [
              0.5555555555555556,
              "#d8576b"
             ],
             [
              0.6666666666666666,
              "#ed7953"
             ],
             [
              0.7777777777777778,
              "#fb9f3a"
             ],
             [
              0.8888888888888888,
              "#fdca26"
             ],
             [
              1,
              "#f0f921"
             ]
            ],
            "type": "histogram2d"
           }
          ],
          "histogram2dcontour": [
           {
            "colorbar": {
             "outlinewidth": 0,
             "ticks": ""
            },
            "colorscale": [
             [
              0,
              "#0d0887"
             ],
             [
              0.1111111111111111,
              "#46039f"
             ],
             [
              0.2222222222222222,
              "#7201a8"
             ],
             [
              0.3333333333333333,
              "#9c179e"
             ],
             [
              0.4444444444444444,
              "#bd3786"
             ],
             [
              0.5555555555555556,
              "#d8576b"
             ],
             [
              0.6666666666666666,
              "#ed7953"
             ],
             [
              0.7777777777777778,
              "#fb9f3a"
             ],
             [
              0.8888888888888888,
              "#fdca26"
             ],
             [
              1,
              "#f0f921"
             ]
            ],
            "type": "histogram2dcontour"
           }
          ],
          "mesh3d": [
           {
            "colorbar": {
             "outlinewidth": 0,
             "ticks": ""
            },
            "type": "mesh3d"
           }
          ],
          "parcoords": [
           {
            "line": {
             "colorbar": {
              "outlinewidth": 0,
              "ticks": ""
             }
            },
            "type": "parcoords"
           }
          ],
          "pie": [
           {
            "automargin": true,
            "type": "pie"
           }
          ],
          "scatter": [
           {
            "fillpattern": {
             "fillmode": "overlay",
             "size": 10,
             "solidity": 0.2
            },
            "type": "scatter"
           }
          ],
          "scatter3d": [
           {
            "line": {
             "colorbar": {
              "outlinewidth": 0,
              "ticks": ""
             }
            },
            "marker": {
             "colorbar": {
              "outlinewidth": 0,
              "ticks": ""
             }
            },
            "type": "scatter3d"
           }
          ],
          "scattercarpet": [
           {
            "marker": {
             "colorbar": {
              "outlinewidth": 0,
              "ticks": ""
             }
            },
            "type": "scattercarpet"
           }
          ],
          "scattergeo": [
           {
            "marker": {
             "colorbar": {
              "outlinewidth": 0,
              "ticks": ""
             }
            },
            "type": "scattergeo"
           }
          ],
          "scattergl": [
           {
            "marker": {
             "colorbar": {
              "outlinewidth": 0,
              "ticks": ""
             }
            },
            "type": "scattergl"
           }
          ],
          "scattermapbox": [
           {
            "marker": {
             "colorbar": {
              "outlinewidth": 0,
              "ticks": ""
             }
            },
            "type": "scattermapbox"
           }
          ],
          "scatterpolar": [
           {
            "marker": {
             "colorbar": {
              "outlinewidth": 0,
              "ticks": ""
             }
            },
            "type": "scatterpolar"
           }
          ],
          "scatterpolargl": [
           {
            "marker": {
             "colorbar": {
              "outlinewidth": 0,
              "ticks": ""
             }
            },
            "type": "scatterpolargl"
           }
          ],
          "scatterternary": [
           {
            "marker": {
             "colorbar": {
              "outlinewidth": 0,
              "ticks": ""
             }
            },
            "type": "scatterternary"
           }
          ],
          "surface": [
           {
            "colorbar": {
             "outlinewidth": 0,
             "ticks": ""
            },
            "colorscale": [
             [
              0,
              "#0d0887"
             ],
             [
              0.1111111111111111,
              "#46039f"
             ],
             [
              0.2222222222222222,
              "#7201a8"
             ],
             [
              0.3333333333333333,
              "#9c179e"
             ],
             [
              0.4444444444444444,
              "#bd3786"
             ],
             [
              0.5555555555555556,
              "#d8576b"
             ],
             [
              0.6666666666666666,
              "#ed7953"
             ],
             [
              0.7777777777777778,
              "#fb9f3a"
             ],
             [
              0.8888888888888888,
              "#fdca26"
             ],
             [
              1,
              "#f0f921"
             ]
            ],
            "type": "surface"
           }
          ],
          "table": [
           {
            "cells": {
             "fill": {
              "color": "#EBF0F8"
             },
             "line": {
              "color": "white"
             }
            },
            "header": {
             "fill": {
              "color": "#C8D4E3"
             },
             "line": {
              "color": "white"
             }
            },
            "type": "table"
           }
          ]
         },
         "layout": {
          "annotationdefaults": {
           "arrowcolor": "#2a3f5f",
           "arrowhead": 0,
           "arrowwidth": 1
          },
          "autotypenumbers": "strict",
          "coloraxis": {
           "colorbar": {
            "outlinewidth": 0,
            "ticks": ""
           }
          },
          "colorscale": {
           "diverging": [
            [
             0,
             "#8e0152"
            ],
            [
             0.1,
             "#c51b7d"
            ],
            [
             0.2,
             "#de77ae"
            ],
            [
             0.3,
             "#f1b6da"
            ],
            [
             0.4,
             "#fde0ef"
            ],
            [
             0.5,
             "#f7f7f7"
            ],
            [
             0.6,
             "#e6f5d0"
            ],
            [
             0.7,
             "#b8e186"
            ],
            [
             0.8,
             "#7fbc41"
            ],
            [
             0.9,
             "#4d9221"
            ],
            [
             1,
             "#276419"
            ]
           ],
           "sequential": [
            [
             0,
             "#0d0887"
            ],
            [
             0.1111111111111111,
             "#46039f"
            ],
            [
             0.2222222222222222,
             "#7201a8"
            ],
            [
             0.3333333333333333,
             "#9c179e"
            ],
            [
             0.4444444444444444,
             "#bd3786"
            ],
            [
             0.5555555555555556,
             "#d8576b"
            ],
            [
             0.6666666666666666,
             "#ed7953"
            ],
            [
             0.7777777777777778,
             "#fb9f3a"
            ],
            [
             0.8888888888888888,
             "#fdca26"
            ],
            [
             1,
             "#f0f921"
            ]
           ],
           "sequentialminus": [
            [
             0,
             "#0d0887"
            ],
            [
             0.1111111111111111,
             "#46039f"
            ],
            [
             0.2222222222222222,
             "#7201a8"
            ],
            [
             0.3333333333333333,
             "#9c179e"
            ],
            [
             0.4444444444444444,
             "#bd3786"
            ],
            [
             0.5555555555555556,
             "#d8576b"
            ],
            [
             0.6666666666666666,
             "#ed7953"
            ],
            [
             0.7777777777777778,
             "#fb9f3a"
            ],
            [
             0.8888888888888888,
             "#fdca26"
            ],
            [
             1,
             "#f0f921"
            ]
           ]
          },
          "colorway": [
           "#636efa",
           "#EF553B",
           "#00cc96",
           "#ab63fa",
           "#FFA15A",
           "#19d3f3",
           "#FF6692",
           "#B6E880",
           "#FF97FF",
           "#FECB52"
          ],
          "font": {
           "color": "#2a3f5f"
          },
          "geo": {
           "bgcolor": "white",
           "lakecolor": "white",
           "landcolor": "#E5ECF6",
           "showlakes": true,
           "showland": true,
           "subunitcolor": "white"
          },
          "hoverlabel": {
           "align": "left"
          },
          "hovermode": "closest",
          "mapbox": {
           "style": "light"
          },
          "paper_bgcolor": "white",
          "plot_bgcolor": "#E5ECF6",
          "polar": {
           "angularaxis": {
            "gridcolor": "white",
            "linecolor": "white",
            "ticks": ""
           },
           "bgcolor": "#E5ECF6",
           "radialaxis": {
            "gridcolor": "white",
            "linecolor": "white",
            "ticks": ""
           }
          },
          "scene": {
           "xaxis": {
            "backgroundcolor": "#E5ECF6",
            "gridcolor": "white",
            "gridwidth": 2,
            "linecolor": "white",
            "showbackground": true,
            "ticks": "",
            "zerolinecolor": "white"
           },
           "yaxis": {
            "backgroundcolor": "#E5ECF6",
            "gridcolor": "white",
            "gridwidth": 2,
            "linecolor": "white",
            "showbackground": true,
            "ticks": "",
            "zerolinecolor": "white"
           },
           "zaxis": {
            "backgroundcolor": "#E5ECF6",
            "gridcolor": "white",
            "gridwidth": 2,
            "linecolor": "white",
            "showbackground": true,
            "ticks": "",
            "zerolinecolor": "white"
           }
          },
          "shapedefaults": {
           "line": {
            "color": "#2a3f5f"
           }
          },
          "ternary": {
           "aaxis": {
            "gridcolor": "white",
            "linecolor": "white",
            "ticks": ""
           },
           "baxis": {
            "gridcolor": "white",
            "linecolor": "white",
            "ticks": ""
           },
           "bgcolor": "#E5ECF6",
           "caxis": {
            "gridcolor": "white",
            "linecolor": "white",
            "ticks": ""
           }
          },
          "title": {
           "x": 0.05
          },
          "xaxis": {
           "automargin": true,
           "gridcolor": "white",
           "linecolor": "white",
           "ticks": "",
           "title": {
            "standoff": 15
           },
           "zerolinecolor": "white",
           "zerolinewidth": 2
          },
          "yaxis": {
           "automargin": true,
           "gridcolor": "white",
           "linecolor": "white",
           "ticks": "",
           "title": {
            "standoff": 15
           },
           "zerolinecolor": "white",
           "zerolinewidth": 2
          }
         }
        },
        "title": {
         "text": "Life Satisfaction/GDP per capita Scatterplot (United States)"
        },
        "xaxis": {
         "anchor": "y",
         "domain": [
          0,
          1
         ],
         "title": {
          "text": "GDP per capita"
         }
        },
        "yaxis": {
         "anchor": "x",
         "domain": [
          0,
          1
         ],
         "title": {
          "text": "Life Satisfaction"
         }
        }
       }
      },
      "text/html": [
       "<div>                            <div id=\"c94b29e6-8b41-4bde-88b0-d52e074af097\" class=\"plotly-graph-div\" style=\"height:525px; width:100%;\"></div>            <script type=\"text/javascript\">                require([\"plotly\"], function(Plotly) {                    window.PLOTLYENV=window.PLOTLYENV || {};                                    if (document.getElementById(\"c94b29e6-8b41-4bde-88b0-d52e074af097\")) {                    Plotly.newPlot(                        \"c94b29e6-8b41-4bde-88b0-d52e074af097\",                        [{\"legendgroup\":\"\",\"marker\":{\"color\":\"#636efa\",\"symbol\":\"diamond\",\"size\":10},\"mode\":\"markers+text\",\"name\":\"\",\"orientation\":\"v\",\"showlegend\":false,\"text\":[2008.0,2009.0,2010.0,2011.0,2012.0,2013.0,2014.0,2015.0,2016.0,2017.0],\"x\":[55272.0,53399.0,54316.0,54759.0,55581.0,56214.0,57213.0,58540.0,59112.0,60110.0],\"xaxis\":\"x\",\"y\":[7.16,7.12,7.03,7.25,7.15,6.86,6.8,6.99,6.88,6.94],\"yaxis\":\"y\",\"type\":\"scatter\",\"textfont\":{\"size\":15},\"hoverinfo\":\"skip\",\"textposition\":\"bottom right\"},{\"legendgroup\":\"\",\"line\":{\"color\":\"red\"},\"marker\":{\"color\":\"#636efa\",\"symbol\":\"diamond\",\"size\":10},\"mode\":\"lines\",\"name\":\"\",\"showlegend\":false,\"x\":[53399.0,54316.0,54759.0,55272.0,55581.0,56214.0,57213.0,58540.0,59112.0,60110.0],\"xaxis\":\"x\",\"y\":[7.145431195902114,7.107150908068056,7.088657813727284,7.067242560009866,7.0543433136186735,7.027918643827006,6.986215255008878,6.930819462254465,6.906941245633875,6.865279601949698],\"yaxis\":\"y\",\"type\":\"scatter\",\"textfont\":{\"size\":15},\"hoverinfo\":\"skip\",\"textposition\":\"bottom right\"}],                        {\"template\":{\"data\":{\"histogram2dcontour\":[{\"type\":\"histogram2dcontour\",\"colorbar\":{\"outlinewidth\":0,\"ticks\":\"\"},\"colorscale\":[[0.0,\"#0d0887\"],[0.1111111111111111,\"#46039f\"],[0.2222222222222222,\"#7201a8\"],[0.3333333333333333,\"#9c179e\"],[0.4444444444444444,\"#bd3786\"],[0.5555555555555556,\"#d8576b\"],[0.6666666666666666,\"#ed7953\"],[0.7777777777777778,\"#fb9f3a\"],[0.8888888888888888,\"#fdca26\"],[1.0,\"#f0f921\"]]}],\"choropleth\":[{\"type\":\"choropleth\",\"colorbar\":{\"outlinewidth\":0,\"ticks\":\"\"}}],\"histogram2d\":[{\"type\":\"histogram2d\",\"colorbar\":{\"outlinewidth\":0,\"ticks\":\"\"},\"colorscale\":[[0.0,\"#0d0887\"],[0.1111111111111111,\"#46039f\"],[0.2222222222222222,\"#7201a8\"],[0.3333333333333333,\"#9c179e\"],[0.4444444444444444,\"#bd3786\"],[0.5555555555555556,\"#d8576b\"],[0.6666666666666666,\"#ed7953\"],[0.7777777777777778,\"#fb9f3a\"],[0.8888888888888888,\"#fdca26\"],[1.0,\"#f0f921\"]]}],\"heatmap\":[{\"type\":\"heatmap\",\"colorbar\":{\"outlinewidth\":0,\"ticks\":\"\"},\"colorscale\":[[0.0,\"#0d0887\"],[0.1111111111111111,\"#46039f\"],[0.2222222222222222,\"#7201a8\"],[0.3333333333333333,\"#9c179e\"],[0.4444444444444444,\"#bd3786\"],[0.5555555555555556,\"#d8576b\"],[0.6666666666666666,\"#ed7953\"],[0.7777777777777778,\"#fb9f3a\"],[0.8888888888888888,\"#fdca26\"],[1.0,\"#f0f921\"]]}],\"heatmapgl\":[{\"type\":\"heatmapgl\",\"colorbar\":{\"outlinewidth\":0,\"ticks\":\"\"},\"colorscale\":[[0.0,\"#0d0887\"],[0.1111111111111111,\"#46039f\"],[0.2222222222222222,\"#7201a8\"],[0.3333333333333333,\"#9c179e\"],[0.4444444444444444,\"#bd3786\"],[0.5555555555555556,\"#d8576b\"],[0.6666666666666666,\"#ed7953\"],[0.7777777777777778,\"#fb9f3a\"],[0.8888888888888888,\"#fdca26\"],[1.0,\"#f0f921\"]]}],\"contourcarpet\":[{\"type\":\"contourcarpet\",\"colorbar\":{\"outlinewidth\":0,\"ticks\":\"\"}}],\"contour\":[{\"type\":\"contour\",\"colorbar\":{\"outlinewidth\":0,\"ticks\":\"\"},\"colorscale\":[[0.0,\"#0d0887\"],[0.1111111111111111,\"#46039f\"],[0.2222222222222222,\"#7201a8\"],[0.3333333333333333,\"#9c179e\"],[0.4444444444444444,\"#bd3786\"],[0.5555555555555556,\"#d8576b\"],[0.6666666666666666,\"#ed7953\"],[0.7777777777777778,\"#fb9f3a\"],[0.8888888888888888,\"#fdca26\"],[1.0,\"#f0f921\"]]}],\"surface\":[{\"type\":\"surface\",\"colorbar\":{\"outlinewidth\":0,\"ticks\":\"\"},\"colorscale\":[[0.0,\"#0d0887\"],[0.1111111111111111,\"#46039f\"],[0.2222222222222222,\"#7201a8\"],[0.3333333333333333,\"#9c179e\"],[0.4444444444444444,\"#bd3786\"],[0.5555555555555556,\"#d8576b\"],[0.6666666666666666,\"#ed7953\"],[0.7777777777777778,\"#fb9f3a\"],[0.8888888888888888,\"#fdca26\"],[1.0,\"#f0f921\"]]}],\"mesh3d\":[{\"type\":\"mesh3d\",\"colorbar\":{\"outlinewidth\":0,\"ticks\":\"\"}}],\"scatter\":[{\"fillpattern\":{\"fillmode\":\"overlay\",\"size\":10,\"solidity\":0.2},\"type\":\"scatter\"}],\"parcoords\":[{\"type\":\"parcoords\",\"line\":{\"colorbar\":{\"outlinewidth\":0,\"ticks\":\"\"}}}],\"scatterpolargl\":[{\"type\":\"scatterpolargl\",\"marker\":{\"colorbar\":{\"outlinewidth\":0,\"ticks\":\"\"}}}],\"bar\":[{\"error_x\":{\"color\":\"#2a3f5f\"},\"error_y\":{\"color\":\"#2a3f5f\"},\"marker\":{\"line\":{\"color\":\"#E5ECF6\",\"width\":0.5},\"pattern\":{\"fillmode\":\"overlay\",\"size\":10,\"solidity\":0.2}},\"type\":\"bar\"}],\"scattergeo\":[{\"type\":\"scattergeo\",\"marker\":{\"colorbar\":{\"outlinewidth\":0,\"ticks\":\"\"}}}],\"scatterpolar\":[{\"type\":\"scatterpolar\",\"marker\":{\"colorbar\":{\"outlinewidth\":0,\"ticks\":\"\"}}}],\"histogram\":[{\"marker\":{\"pattern\":{\"fillmode\":\"overlay\",\"size\":10,\"solidity\":0.2}},\"type\":\"histogram\"}],\"scattergl\":[{\"type\":\"scattergl\",\"marker\":{\"colorbar\":{\"outlinewidth\":0,\"ticks\":\"\"}}}],\"scatter3d\":[{\"type\":\"scatter3d\",\"line\":{\"colorbar\":{\"outlinewidth\":0,\"ticks\":\"\"}},\"marker\":{\"colorbar\":{\"outlinewidth\":0,\"ticks\":\"\"}}}],\"scattermapbox\":[{\"type\":\"scattermapbox\",\"marker\":{\"colorbar\":{\"outlinewidth\":0,\"ticks\":\"\"}}}],\"scatterternary\":[{\"type\":\"scatterternary\",\"marker\":{\"colorbar\":{\"outlinewidth\":0,\"ticks\":\"\"}}}],\"scattercarpet\":[{\"type\":\"scattercarpet\",\"marker\":{\"colorbar\":{\"outlinewidth\":0,\"ticks\":\"\"}}}],\"carpet\":[{\"aaxis\":{\"endlinecolor\":\"#2a3f5f\",\"gridcolor\":\"white\",\"linecolor\":\"white\",\"minorgridcolor\":\"white\",\"startlinecolor\":\"#2a3f5f\"},\"baxis\":{\"endlinecolor\":\"#2a3f5f\",\"gridcolor\":\"white\",\"linecolor\":\"white\",\"minorgridcolor\":\"white\",\"startlinecolor\":\"#2a3f5f\"},\"type\":\"carpet\"}],\"table\":[{\"cells\":{\"fill\":{\"color\":\"#EBF0F8\"},\"line\":{\"color\":\"white\"}},\"header\":{\"fill\":{\"color\":\"#C8D4E3\"},\"line\":{\"color\":\"white\"}},\"type\":\"table\"}],\"barpolar\":[{\"marker\":{\"line\":{\"color\":\"#E5ECF6\",\"width\":0.5},\"pattern\":{\"fillmode\":\"overlay\",\"size\":10,\"solidity\":0.2}},\"type\":\"barpolar\"}],\"pie\":[{\"automargin\":true,\"type\":\"pie\"}]},\"layout\":{\"autotypenumbers\":\"strict\",\"colorway\":[\"#636efa\",\"#EF553B\",\"#00cc96\",\"#ab63fa\",\"#FFA15A\",\"#19d3f3\",\"#FF6692\",\"#B6E880\",\"#FF97FF\",\"#FECB52\"],\"font\":{\"color\":\"#2a3f5f\"},\"hovermode\":\"closest\",\"hoverlabel\":{\"align\":\"left\"},\"paper_bgcolor\":\"white\",\"plot_bgcolor\":\"#E5ECF6\",\"polar\":{\"bgcolor\":\"#E5ECF6\",\"angularaxis\":{\"gridcolor\":\"white\",\"linecolor\":\"white\",\"ticks\":\"\"},\"radialaxis\":{\"gridcolor\":\"white\",\"linecolor\":\"white\",\"ticks\":\"\"}},\"ternary\":{\"bgcolor\":\"#E5ECF6\",\"aaxis\":{\"gridcolor\":\"white\",\"linecolor\":\"white\",\"ticks\":\"\"},\"baxis\":{\"gridcolor\":\"white\",\"linecolor\":\"white\",\"ticks\":\"\"},\"caxis\":{\"gridcolor\":\"white\",\"linecolor\":\"white\",\"ticks\":\"\"}},\"coloraxis\":{\"colorbar\":{\"outlinewidth\":0,\"ticks\":\"\"}},\"colorscale\":{\"sequential\":[[0.0,\"#0d0887\"],[0.1111111111111111,\"#46039f\"],[0.2222222222222222,\"#7201a8\"],[0.3333333333333333,\"#9c179e\"],[0.4444444444444444,\"#bd3786\"],[0.5555555555555556,\"#d8576b\"],[0.6666666666666666,\"#ed7953\"],[0.7777777777777778,\"#fb9f3a\"],[0.8888888888888888,\"#fdca26\"],[1.0,\"#f0f921\"]],\"sequentialminus\":[[0.0,\"#0d0887\"],[0.1111111111111111,\"#46039f\"],[0.2222222222222222,\"#7201a8\"],[0.3333333333333333,\"#9c179e\"],[0.4444444444444444,\"#bd3786\"],[0.5555555555555556,\"#d8576b\"],[0.6666666666666666,\"#ed7953\"],[0.7777777777777778,\"#fb9f3a\"],[0.8888888888888888,\"#fdca26\"],[1.0,\"#f0f921\"]],\"diverging\":[[0,\"#8e0152\"],[0.1,\"#c51b7d\"],[0.2,\"#de77ae\"],[0.3,\"#f1b6da\"],[0.4,\"#fde0ef\"],[0.5,\"#f7f7f7\"],[0.6,\"#e6f5d0\"],[0.7,\"#b8e186\"],[0.8,\"#7fbc41\"],[0.9,\"#4d9221\"],[1,\"#276419\"]]},\"xaxis\":{\"gridcolor\":\"white\",\"linecolor\":\"white\",\"ticks\":\"\",\"title\":{\"standoff\":15},\"zerolinecolor\":\"white\",\"automargin\":true,\"zerolinewidth\":2},\"yaxis\":{\"gridcolor\":\"white\",\"linecolor\":\"white\",\"ticks\":\"\",\"title\":{\"standoff\":15},\"zerolinecolor\":\"white\",\"automargin\":true,\"zerolinewidth\":2},\"scene\":{\"xaxis\":{\"backgroundcolor\":\"#E5ECF6\",\"gridcolor\":\"white\",\"linecolor\":\"white\",\"showbackground\":true,\"ticks\":\"\",\"zerolinecolor\":\"white\",\"gridwidth\":2},\"yaxis\":{\"backgroundcolor\":\"#E5ECF6\",\"gridcolor\":\"white\",\"linecolor\":\"white\",\"showbackground\":true,\"ticks\":\"\",\"zerolinecolor\":\"white\",\"gridwidth\":2},\"zaxis\":{\"backgroundcolor\":\"#E5ECF6\",\"gridcolor\":\"white\",\"linecolor\":\"white\",\"showbackground\":true,\"ticks\":\"\",\"zerolinecolor\":\"white\",\"gridwidth\":2}},\"shapedefaults\":{\"line\":{\"color\":\"#2a3f5f\"}},\"annotationdefaults\":{\"arrowcolor\":\"#2a3f5f\",\"arrowhead\":0,\"arrowwidth\":1},\"geo\":{\"bgcolor\":\"white\",\"landcolor\":\"#E5ECF6\",\"subunitcolor\":\"white\",\"showland\":true,\"showlakes\":true,\"lakecolor\":\"white\"},\"title\":{\"x\":0.05},\"mapbox\":{\"style\":\"light\"}}},\"xaxis\":{\"anchor\":\"y\",\"domain\":[0.0,1.0],\"title\":{\"text\":\"GDP per capita\"}},\"yaxis\":{\"anchor\":\"x\",\"domain\":[0.0,1.0],\"title\":{\"text\":\"Life Satisfaction\"}},\"legend\":{\"tracegroupgap\":0},\"title\":{\"text\":\"Life Satisfaction/GDP per capita Scatterplot (United States)\"},\"annotations\":[{\"arrowcolor\":\"black\",\"arrowhead\":1,\"arrowsize\":1,\"arrowwidth\":2,\"ax\":55272.0,\"axref\":\"x\",\"ay\":7.16,\"ayref\":\"y\",\"showarrow\":true,\"text\":\"\",\"x\":53399.0,\"xref\":\"x\",\"y\":7.12,\"yref\":\"y\"},{\"arrowcolor\":\"black\",\"arrowhead\":1,\"arrowsize\":1,\"arrowwidth\":2,\"ax\":53399.0,\"axref\":\"x\",\"ay\":7.12,\"ayref\":\"y\",\"showarrow\":true,\"text\":\"\",\"x\":54316.0,\"xref\":\"x\",\"y\":7.03,\"yref\":\"y\"},{\"arrowcolor\":\"black\",\"arrowhead\":1,\"arrowsize\":1,\"arrowwidth\":2,\"ax\":54316.0,\"axref\":\"x\",\"ay\":7.03,\"ayref\":\"y\",\"showarrow\":true,\"text\":\"\",\"x\":54759.0,\"xref\":\"x\",\"y\":7.25,\"yref\":\"y\"},{\"arrowcolor\":\"black\",\"arrowhead\":1,\"arrowsize\":1,\"arrowwidth\":2,\"ax\":54759.0,\"axref\":\"x\",\"ay\":7.25,\"ayref\":\"y\",\"showarrow\":true,\"text\":\"\",\"x\":55581.0,\"xref\":\"x\",\"y\":7.15,\"yref\":\"y\"},{\"arrowcolor\":\"black\",\"arrowhead\":1,\"arrowsize\":1,\"arrowwidth\":2,\"ax\":55581.0,\"axref\":\"x\",\"ay\":7.15,\"ayref\":\"y\",\"showarrow\":true,\"text\":\"\",\"x\":56214.0,\"xref\":\"x\",\"y\":6.86,\"yref\":\"y\"},{\"arrowcolor\":\"black\",\"arrowhead\":1,\"arrowsize\":1,\"arrowwidth\":2,\"ax\":56214.0,\"axref\":\"x\",\"ay\":6.86,\"ayref\":\"y\",\"showarrow\":true,\"text\":\"\",\"x\":57213.0,\"xref\":\"x\",\"y\":6.8,\"yref\":\"y\"},{\"arrowcolor\":\"black\",\"arrowhead\":1,\"arrowsize\":1,\"arrowwidth\":2,\"ax\":57213.0,\"axref\":\"x\",\"ay\":6.8,\"ayref\":\"y\",\"showarrow\":true,\"text\":\"\",\"x\":58540.0,\"xref\":\"x\",\"y\":6.99,\"yref\":\"y\"},{\"arrowcolor\":\"black\",\"arrowhead\":1,\"arrowsize\":1,\"arrowwidth\":2,\"ax\":58540.0,\"axref\":\"x\",\"ay\":6.99,\"ayref\":\"y\",\"showarrow\":true,\"text\":\"\",\"x\":59112.0,\"xref\":\"x\",\"y\":6.88,\"yref\":\"y\"},{\"arrowcolor\":\"black\",\"arrowhead\":1,\"arrowsize\":1,\"arrowwidth\":2,\"ax\":59112.0,\"axref\":\"x\",\"ay\":6.88,\"ayref\":\"y\",\"showarrow\":true,\"text\":\"\",\"x\":60110.0,\"xref\":\"x\",\"y\":6.94,\"yref\":\"y\"}]},                        {\"responsive\": true}                    ).then(function(){\n",
       "                            \n",
       "var gd = document.getElementById('c94b29e6-8b41-4bde-88b0-d52e074af097');\n",
       "var x = new MutationObserver(function (mutations, observer) {{\n",
       "        var display = window.getComputedStyle(gd).display;\n",
       "        if (!display || display === 'none') {{\n",
       "            console.log([gd, 'removed!']);\n",
       "            Plotly.purge(gd);\n",
       "            observer.disconnect();\n",
       "        }}\n",
       "}});\n",
       "\n",
       "// Listen for the removal of the full notebook cells\n",
       "var notebookContainer = gd.closest('#notebook-container');\n",
       "if (notebookContainer) {{\n",
       "    x.observe(notebookContainer, {childList: true});\n",
       "}}\n",
       "\n",
       "// Listen for the clearing of the current output cell\n",
       "var outputEl = gd.closest('.output');\n",
       "if (outputEl) {{\n",
       "    x.observe(outputEl, {childList: true});\n",
       "}}\n",
       "\n",
       "                        })                };                });            </script>        </div>"
      ]
     },
     "metadata": {},
     "output_type": "display_data"
    },
    {
     "data": {
      "application/vnd.plotly.v1+json": {
       "config": {
        "plotlyServerURL": "https://plot.ly"
       },
       "data": [
        {
         "hoverinfo": "skip",
         "legendgroup": "",
         "marker": {
          "color": "#636efa",
          "size": 10,
          "symbol": "diamond"
         },
         "mode": "markers+text",
         "name": "",
         "orientation": "v",
         "showlegend": false,
         "text": [
          2008,
          2009,
          2010,
          2011,
          2012,
          2013,
          2014,
          2015,
          2016,
          2017
         ],
         "textfont": {
          "size": 15
         },
         "textposition": "bottom right",
         "type": "scatter",
         "x": [
          40.81,
          40.61,
          40.01,
          40.94,
          40.94,
          40.65,
          41.51,
          41.24,
          41.12,
          41.18
         ],
         "xaxis": "x",
         "y": [
          7.16,
          7.12,
          7.03,
          7.25,
          7.15,
          6.86,
          6.8,
          6.99,
          6.88,
          6.94
         ],
         "yaxis": "y"
        },
        {
         "hoverinfo": "skip",
         "legendgroup": "",
         "line": {
          "color": "red"
         },
         "marker": {
          "color": "#636efa",
          "size": 10,
          "symbol": "diamond"
         },
         "mode": "lines",
         "name": "",
         "showlegend": false,
         "textfont": {
          "size": 15
         },
         "textposition": "bottom right",
         "type": "scatter",
         "x": [
          40.01,
          40.61,
          40.65,
          40.81,
          40.94,
          40.94,
          41.12,
          41.18,
          41.24,
          41.51
         ],
         "xaxis": "x",
         "y": [
          7.128303600534358,
          7.054025081656008,
          7.049073180397452,
          7.029265575363225,
          7.013171896272916,
          7.013171896272916,
          6.990888340609412,
          6.983460488721577,
          6.976032636833741,
          6.942607303338485
         ],
         "yaxis": "y"
        }
       ],
       "layout": {
        "annotations": [
         {
          "arrowcolor": "black",
          "arrowhead": 1,
          "arrowsize": 1,
          "arrowwidth": 2,
          "ax": 40.81,
          "axref": "x",
          "ay": 7.16,
          "ayref": "y",
          "showarrow": true,
          "text": "",
          "x": 40.61,
          "xref": "x",
          "y": 7.12,
          "yref": "y"
         },
         {
          "arrowcolor": "black",
          "arrowhead": 1,
          "arrowsize": 1,
          "arrowwidth": 2,
          "ax": 40.61,
          "axref": "x",
          "ay": 7.12,
          "ayref": "y",
          "showarrow": true,
          "text": "",
          "x": 40.01,
          "xref": "x",
          "y": 7.03,
          "yref": "y"
         },
         {
          "arrowcolor": "black",
          "arrowhead": 1,
          "arrowsize": 1,
          "arrowwidth": 2,
          "ax": 40.01,
          "axref": "x",
          "ay": 7.03,
          "ayref": "y",
          "showarrow": true,
          "text": "",
          "x": 40.94,
          "xref": "x",
          "y": 7.25,
          "yref": "y"
         },
         {
          "arrowcolor": "black",
          "arrowhead": 1,
          "arrowsize": 1,
          "arrowwidth": 2,
          "ax": 40.94,
          "axref": "x",
          "ay": 7.25,
          "ayref": "y",
          "showarrow": true,
          "text": "",
          "x": 40.94,
          "xref": "x",
          "y": 7.15,
          "yref": "y"
         },
         {
          "arrowcolor": "black",
          "arrowhead": 1,
          "arrowsize": 1,
          "arrowwidth": 2,
          "ax": 40.94,
          "axref": "x",
          "ay": 7.15,
          "ayref": "y",
          "showarrow": true,
          "text": "",
          "x": 40.65,
          "xref": "x",
          "y": 6.86,
          "yref": "y"
         },
         {
          "arrowcolor": "black",
          "arrowhead": 1,
          "arrowsize": 1,
          "arrowwidth": 2,
          "ax": 40.65,
          "axref": "x",
          "ay": 6.86,
          "ayref": "y",
          "showarrow": true,
          "text": "",
          "x": 41.51,
          "xref": "x",
          "y": 6.8,
          "yref": "y"
         },
         {
          "arrowcolor": "black",
          "arrowhead": 1,
          "arrowsize": 1,
          "arrowwidth": 2,
          "ax": 41.51,
          "axref": "x",
          "ay": 6.8,
          "ayref": "y",
          "showarrow": true,
          "text": "",
          "x": 41.24,
          "xref": "x",
          "y": 6.99,
          "yref": "y"
         },
         {
          "arrowcolor": "black",
          "arrowhead": 1,
          "arrowsize": 1,
          "arrowwidth": 2,
          "ax": 41.24,
          "axref": "x",
          "ay": 6.99,
          "ayref": "y",
          "showarrow": true,
          "text": "",
          "x": 41.12,
          "xref": "x",
          "y": 6.88,
          "yref": "y"
         },
         {
          "arrowcolor": "black",
          "arrowhead": 1,
          "arrowsize": 1,
          "arrowwidth": 2,
          "ax": 41.12,
          "axref": "x",
          "ay": 6.88,
          "ayref": "y",
          "showarrow": true,
          "text": "",
          "x": 41.18,
          "xref": "x",
          "y": 6.94,
          "yref": "y"
         }
        ],
        "legend": {
         "tracegroupgap": 0
        },
        "template": {
         "data": {
          "bar": [
           {
            "error_x": {
             "color": "#2a3f5f"
            },
            "error_y": {
             "color": "#2a3f5f"
            },
            "marker": {
             "line": {
              "color": "#E5ECF6",
              "width": 0.5
             },
             "pattern": {
              "fillmode": "overlay",
              "size": 10,
              "solidity": 0.2
             }
            },
            "type": "bar"
           }
          ],
          "barpolar": [
           {
            "marker": {
             "line": {
              "color": "#E5ECF6",
              "width": 0.5
             },
             "pattern": {
              "fillmode": "overlay",
              "size": 10,
              "solidity": 0.2
             }
            },
            "type": "barpolar"
           }
          ],
          "carpet": [
           {
            "aaxis": {
             "endlinecolor": "#2a3f5f",
             "gridcolor": "white",
             "linecolor": "white",
             "minorgridcolor": "white",
             "startlinecolor": "#2a3f5f"
            },
            "baxis": {
             "endlinecolor": "#2a3f5f",
             "gridcolor": "white",
             "linecolor": "white",
             "minorgridcolor": "white",
             "startlinecolor": "#2a3f5f"
            },
            "type": "carpet"
           }
          ],
          "choropleth": [
           {
            "colorbar": {
             "outlinewidth": 0,
             "ticks": ""
            },
            "type": "choropleth"
           }
          ],
          "contour": [
           {
            "colorbar": {
             "outlinewidth": 0,
             "ticks": ""
            },
            "colorscale": [
             [
              0,
              "#0d0887"
             ],
             [
              0.1111111111111111,
              "#46039f"
             ],
             [
              0.2222222222222222,
              "#7201a8"
             ],
             [
              0.3333333333333333,
              "#9c179e"
             ],
             [
              0.4444444444444444,
              "#bd3786"
             ],
             [
              0.5555555555555556,
              "#d8576b"
             ],
             [
              0.6666666666666666,
              "#ed7953"
             ],
             [
              0.7777777777777778,
              "#fb9f3a"
             ],
             [
              0.8888888888888888,
              "#fdca26"
             ],
             [
              1,
              "#f0f921"
             ]
            ],
            "type": "contour"
           }
          ],
          "contourcarpet": [
           {
            "colorbar": {
             "outlinewidth": 0,
             "ticks": ""
            },
            "type": "contourcarpet"
           }
          ],
          "heatmap": [
           {
            "colorbar": {
             "outlinewidth": 0,
             "ticks": ""
            },
            "colorscale": [
             [
              0,
              "#0d0887"
             ],
             [
              0.1111111111111111,
              "#46039f"
             ],
             [
              0.2222222222222222,
              "#7201a8"
             ],
             [
              0.3333333333333333,
              "#9c179e"
             ],
             [
              0.4444444444444444,
              "#bd3786"
             ],
             [
              0.5555555555555556,
              "#d8576b"
             ],
             [
              0.6666666666666666,
              "#ed7953"
             ],
             [
              0.7777777777777778,
              "#fb9f3a"
             ],
             [
              0.8888888888888888,
              "#fdca26"
             ],
             [
              1,
              "#f0f921"
             ]
            ],
            "type": "heatmap"
           }
          ],
          "heatmapgl": [
           {
            "colorbar": {
             "outlinewidth": 0,
             "ticks": ""
            },
            "colorscale": [
             [
              0,
              "#0d0887"
             ],
             [
              0.1111111111111111,
              "#46039f"
             ],
             [
              0.2222222222222222,
              "#7201a8"
             ],
             [
              0.3333333333333333,
              "#9c179e"
             ],
             [
              0.4444444444444444,
              "#bd3786"
             ],
             [
              0.5555555555555556,
              "#d8576b"
             ],
             [
              0.6666666666666666,
              "#ed7953"
             ],
             [
              0.7777777777777778,
              "#fb9f3a"
             ],
             [
              0.8888888888888888,
              "#fdca26"
             ],
             [
              1,
              "#f0f921"
             ]
            ],
            "type": "heatmapgl"
           }
          ],
          "histogram": [
           {
            "marker": {
             "pattern": {
              "fillmode": "overlay",
              "size": 10,
              "solidity": 0.2
             }
            },
            "type": "histogram"
           }
          ],
          "histogram2d": [
           {
            "colorbar": {
             "outlinewidth": 0,
             "ticks": ""
            },
            "colorscale": [
             [
              0,
              "#0d0887"
             ],
             [
              0.1111111111111111,
              "#46039f"
             ],
             [
              0.2222222222222222,
              "#7201a8"
             ],
             [
              0.3333333333333333,
              "#9c179e"
             ],
             [
              0.4444444444444444,
              "#bd3786"
             ],
             [
              0.5555555555555556,
              "#d8576b"
             ],
             [
              0.6666666666666666,
              "#ed7953"
             ],
             [
              0.7777777777777778,
              "#fb9f3a"
             ],
             [
              0.8888888888888888,
              "#fdca26"
             ],
             [
              1,
              "#f0f921"
             ]
            ],
            "type": "histogram2d"
           }
          ],
          "histogram2dcontour": [
           {
            "colorbar": {
             "outlinewidth": 0,
             "ticks": ""
            },
            "colorscale": [
             [
              0,
              "#0d0887"
             ],
             [
              0.1111111111111111,
              "#46039f"
             ],
             [
              0.2222222222222222,
              "#7201a8"
             ],
             [
              0.3333333333333333,
              "#9c179e"
             ],
             [
              0.4444444444444444,
              "#bd3786"
             ],
             [
              0.5555555555555556,
              "#d8576b"
             ],
             [
              0.6666666666666666,
              "#ed7953"
             ],
             [
              0.7777777777777778,
              "#fb9f3a"
             ],
             [
              0.8888888888888888,
              "#fdca26"
             ],
             [
              1,
              "#f0f921"
             ]
            ],
            "type": "histogram2dcontour"
           }
          ],
          "mesh3d": [
           {
            "colorbar": {
             "outlinewidth": 0,
             "ticks": ""
            },
            "type": "mesh3d"
           }
          ],
          "parcoords": [
           {
            "line": {
             "colorbar": {
              "outlinewidth": 0,
              "ticks": ""
             }
            },
            "type": "parcoords"
           }
          ],
          "pie": [
           {
            "automargin": true,
            "type": "pie"
           }
          ],
          "scatter": [
           {
            "fillpattern": {
             "fillmode": "overlay",
             "size": 10,
             "solidity": 0.2
            },
            "type": "scatter"
           }
          ],
          "scatter3d": [
           {
            "line": {
             "colorbar": {
              "outlinewidth": 0,
              "ticks": ""
             }
            },
            "marker": {
             "colorbar": {
              "outlinewidth": 0,
              "ticks": ""
             }
            },
            "type": "scatter3d"
           }
          ],
          "scattercarpet": [
           {
            "marker": {
             "colorbar": {
              "outlinewidth": 0,
              "ticks": ""
             }
            },
            "type": "scattercarpet"
           }
          ],
          "scattergeo": [
           {
            "marker": {
             "colorbar": {
              "outlinewidth": 0,
              "ticks": ""
             }
            },
            "type": "scattergeo"
           }
          ],
          "scattergl": [
           {
            "marker": {
             "colorbar": {
              "outlinewidth": 0,
              "ticks": ""
             }
            },
            "type": "scattergl"
           }
          ],
          "scattermapbox": [
           {
            "marker": {
             "colorbar": {
              "outlinewidth": 0,
              "ticks": ""
             }
            },
            "type": "scattermapbox"
           }
          ],
          "scatterpolar": [
           {
            "marker": {
             "colorbar": {
              "outlinewidth": 0,
              "ticks": ""
             }
            },
            "type": "scatterpolar"
           }
          ],
          "scatterpolargl": [
           {
            "marker": {
             "colorbar": {
              "outlinewidth": 0,
              "ticks": ""
             }
            },
            "type": "scatterpolargl"
           }
          ],
          "scatterternary": [
           {
            "marker": {
             "colorbar": {
              "outlinewidth": 0,
              "ticks": ""
             }
            },
            "type": "scatterternary"
           }
          ],
          "surface": [
           {
            "colorbar": {
             "outlinewidth": 0,
             "ticks": ""
            },
            "colorscale": [
             [
              0,
              "#0d0887"
             ],
             [
              0.1111111111111111,
              "#46039f"
             ],
             [
              0.2222222222222222,
              "#7201a8"
             ],
             [
              0.3333333333333333,
              "#9c179e"
             ],
             [
              0.4444444444444444,
              "#bd3786"
             ],
             [
              0.5555555555555556,
              "#d8576b"
             ],
             [
              0.6666666666666666,
              "#ed7953"
             ],
             [
              0.7777777777777778,
              "#fb9f3a"
             ],
             [
              0.8888888888888888,
              "#fdca26"
             ],
             [
              1,
              "#f0f921"
             ]
            ],
            "type": "surface"
           }
          ],
          "table": [
           {
            "cells": {
             "fill": {
              "color": "#EBF0F8"
             },
             "line": {
              "color": "white"
             }
            },
            "header": {
             "fill": {
              "color": "#C8D4E3"
             },
             "line": {
              "color": "white"
             }
            },
            "type": "table"
           }
          ]
         },
         "layout": {
          "annotationdefaults": {
           "arrowcolor": "#2a3f5f",
           "arrowhead": 0,
           "arrowwidth": 1
          },
          "autotypenumbers": "strict",
          "coloraxis": {
           "colorbar": {
            "outlinewidth": 0,
            "ticks": ""
           }
          },
          "colorscale": {
           "diverging": [
            [
             0,
             "#8e0152"
            ],
            [
             0.1,
             "#c51b7d"
            ],
            [
             0.2,
             "#de77ae"
            ],
            [
             0.3,
             "#f1b6da"
            ],
            [
             0.4,
             "#fde0ef"
            ],
            [
             0.5,
             "#f7f7f7"
            ],
            [
             0.6,
             "#e6f5d0"
            ],
            [
             0.7,
             "#b8e186"
            ],
            [
             0.8,
             "#7fbc41"
            ],
            [
             0.9,
             "#4d9221"
            ],
            [
             1,
             "#276419"
            ]
           ],
           "sequential": [
            [
             0,
             "#0d0887"
            ],
            [
             0.1111111111111111,
             "#46039f"
            ],
            [
             0.2222222222222222,
             "#7201a8"
            ],
            [
             0.3333333333333333,
             "#9c179e"
            ],
            [
             0.4444444444444444,
             "#bd3786"
            ],
            [
             0.5555555555555556,
             "#d8576b"
            ],
            [
             0.6666666666666666,
             "#ed7953"
            ],
            [
             0.7777777777777778,
             "#fb9f3a"
            ],
            [
             0.8888888888888888,
             "#fdca26"
            ],
            [
             1,
             "#f0f921"
            ]
           ],
           "sequentialminus": [
            [
             0,
             "#0d0887"
            ],
            [
             0.1111111111111111,
             "#46039f"
            ],
            [
             0.2222222222222222,
             "#7201a8"
            ],
            [
             0.3333333333333333,
             "#9c179e"
            ],
            [
             0.4444444444444444,
             "#bd3786"
            ],
            [
             0.5555555555555556,
             "#d8576b"
            ],
            [
             0.6666666666666666,
             "#ed7953"
            ],
            [
             0.7777777777777778,
             "#fb9f3a"
            ],
            [
             0.8888888888888888,
             "#fdca26"
            ],
            [
             1,
             "#f0f921"
            ]
           ]
          },
          "colorway": [
           "#636efa",
           "#EF553B",
           "#00cc96",
           "#ab63fa",
           "#FFA15A",
           "#19d3f3",
           "#FF6692",
           "#B6E880",
           "#FF97FF",
           "#FECB52"
          ],
          "font": {
           "color": "#2a3f5f"
          },
          "geo": {
           "bgcolor": "white",
           "lakecolor": "white",
           "landcolor": "#E5ECF6",
           "showlakes": true,
           "showland": true,
           "subunitcolor": "white"
          },
          "hoverlabel": {
           "align": "left"
          },
          "hovermode": "closest",
          "mapbox": {
           "style": "light"
          },
          "paper_bgcolor": "white",
          "plot_bgcolor": "#E5ECF6",
          "polar": {
           "angularaxis": {
            "gridcolor": "white",
            "linecolor": "white",
            "ticks": ""
           },
           "bgcolor": "#E5ECF6",
           "radialaxis": {
            "gridcolor": "white",
            "linecolor": "white",
            "ticks": ""
           }
          },
          "scene": {
           "xaxis": {
            "backgroundcolor": "#E5ECF6",
            "gridcolor": "white",
            "gridwidth": 2,
            "linecolor": "white",
            "showbackground": true,
            "ticks": "",
            "zerolinecolor": "white"
           },
           "yaxis": {
            "backgroundcolor": "#E5ECF6",
            "gridcolor": "white",
            "gridwidth": 2,
            "linecolor": "white",
            "showbackground": true,
            "ticks": "",
            "zerolinecolor": "white"
           },
           "zaxis": {
            "backgroundcolor": "#E5ECF6",
            "gridcolor": "white",
            "gridwidth": 2,
            "linecolor": "white",
            "showbackground": true,
            "ticks": "",
            "zerolinecolor": "white"
           }
          },
          "shapedefaults": {
           "line": {
            "color": "#2a3f5f"
           }
          },
          "ternary": {
           "aaxis": {
            "gridcolor": "white",
            "linecolor": "white",
            "ticks": ""
           },
           "baxis": {
            "gridcolor": "white",
            "linecolor": "white",
            "ticks": ""
           },
           "bgcolor": "#E5ECF6",
           "caxis": {
            "gridcolor": "white",
            "linecolor": "white",
            "ticks": ""
           }
          },
          "title": {
           "x": 0.05
          },
          "xaxis": {
           "automargin": true,
           "gridcolor": "white",
           "linecolor": "white",
           "ticks": "",
           "title": {
            "standoff": 15
           },
           "zerolinecolor": "white",
           "zerolinewidth": 2
          },
          "yaxis": {
           "automargin": true,
           "gridcolor": "white",
           "linecolor": "white",
           "ticks": "",
           "title": {
            "standoff": 15
           },
           "zerolinecolor": "white",
           "zerolinewidth": 2
          }
         }
        },
        "title": {
         "text": "Life Satisfaction/Gini index Scatterplot (United States)"
        },
        "xaxis": {
         "anchor": "y",
         "domain": [
          0,
          1
         ],
         "title": {
          "text": "Gini index"
         }
        },
        "yaxis": {
         "anchor": "x",
         "domain": [
          0,
          1
         ],
         "title": {
          "text": "Life Satisfaction"
         }
        }
       }
      },
      "text/html": [
       "<div>                            <div id=\"34e0b19e-ea1d-471c-9bf7-b70538a8a34b\" class=\"plotly-graph-div\" style=\"height:525px; width:100%;\"></div>            <script type=\"text/javascript\">                require([\"plotly\"], function(Plotly) {                    window.PLOTLYENV=window.PLOTLYENV || {};                                    if (document.getElementById(\"34e0b19e-ea1d-471c-9bf7-b70538a8a34b\")) {                    Plotly.newPlot(                        \"34e0b19e-ea1d-471c-9bf7-b70538a8a34b\",                        [{\"legendgroup\":\"\",\"marker\":{\"color\":\"#636efa\",\"symbol\":\"diamond\",\"size\":10},\"mode\":\"markers+text\",\"name\":\"\",\"orientation\":\"v\",\"showlegend\":false,\"text\":[2008.0,2009.0,2010.0,2011.0,2012.0,2013.0,2014.0,2015.0,2016.0,2017.0],\"x\":[40.81,40.61,40.01,40.94,40.94,40.65,41.51,41.24,41.12,41.18],\"xaxis\":\"x\",\"y\":[7.16,7.12,7.03,7.25,7.15,6.86,6.8,6.99,6.88,6.94],\"yaxis\":\"y\",\"type\":\"scatter\",\"textfont\":{\"size\":15},\"hoverinfo\":\"skip\",\"textposition\":\"bottom right\"},{\"legendgroup\":\"\",\"line\":{\"color\":\"red\"},\"marker\":{\"color\":\"#636efa\",\"symbol\":\"diamond\",\"size\":10},\"mode\":\"lines\",\"name\":\"\",\"showlegend\":false,\"x\":[40.01,40.61,40.65,40.81,40.94,40.94,41.12,41.18,41.24,41.51],\"xaxis\":\"x\",\"y\":[7.128303600534358,7.054025081656008,7.049073180397452,7.029265575363225,7.013171896272916,7.013171896272916,6.990888340609412,6.983460488721577,6.976032636833741,6.942607303338485],\"yaxis\":\"y\",\"type\":\"scatter\",\"textfont\":{\"size\":15},\"hoverinfo\":\"skip\",\"textposition\":\"bottom right\"}],                        {\"template\":{\"data\":{\"histogram2dcontour\":[{\"type\":\"histogram2dcontour\",\"colorbar\":{\"outlinewidth\":0,\"ticks\":\"\"},\"colorscale\":[[0.0,\"#0d0887\"],[0.1111111111111111,\"#46039f\"],[0.2222222222222222,\"#7201a8\"],[0.3333333333333333,\"#9c179e\"],[0.4444444444444444,\"#bd3786\"],[0.5555555555555556,\"#d8576b\"],[0.6666666666666666,\"#ed7953\"],[0.7777777777777778,\"#fb9f3a\"],[0.8888888888888888,\"#fdca26\"],[1.0,\"#f0f921\"]]}],\"choropleth\":[{\"type\":\"choropleth\",\"colorbar\":{\"outlinewidth\":0,\"ticks\":\"\"}}],\"histogram2d\":[{\"type\":\"histogram2d\",\"colorbar\":{\"outlinewidth\":0,\"ticks\":\"\"},\"colorscale\":[[0.0,\"#0d0887\"],[0.1111111111111111,\"#46039f\"],[0.2222222222222222,\"#7201a8\"],[0.3333333333333333,\"#9c179e\"],[0.4444444444444444,\"#bd3786\"],[0.5555555555555556,\"#d8576b\"],[0.6666666666666666,\"#ed7953\"],[0.7777777777777778,\"#fb9f3a\"],[0.8888888888888888,\"#fdca26\"],[1.0,\"#f0f921\"]]}],\"heatmap\":[{\"type\":\"heatmap\",\"colorbar\":{\"outlinewidth\":0,\"ticks\":\"\"},\"colorscale\":[[0.0,\"#0d0887\"],[0.1111111111111111,\"#46039f\"],[0.2222222222222222,\"#7201a8\"],[0.3333333333333333,\"#9c179e\"],[0.4444444444444444,\"#bd3786\"],[0.5555555555555556,\"#d8576b\"],[0.6666666666666666,\"#ed7953\"],[0.7777777777777778,\"#fb9f3a\"],[0.8888888888888888,\"#fdca26\"],[1.0,\"#f0f921\"]]}],\"heatmapgl\":[{\"type\":\"heatmapgl\",\"colorbar\":{\"outlinewidth\":0,\"ticks\":\"\"},\"colorscale\":[[0.0,\"#0d0887\"],[0.1111111111111111,\"#46039f\"],[0.2222222222222222,\"#7201a8\"],[0.3333333333333333,\"#9c179e\"],[0.4444444444444444,\"#bd3786\"],[0.5555555555555556,\"#d8576b\"],[0.6666666666666666,\"#ed7953\"],[0.7777777777777778,\"#fb9f3a\"],[0.8888888888888888,\"#fdca26\"],[1.0,\"#f0f921\"]]}],\"contourcarpet\":[{\"type\":\"contourcarpet\",\"colorbar\":{\"outlinewidth\":0,\"ticks\":\"\"}}],\"contour\":[{\"type\":\"contour\",\"colorbar\":{\"outlinewidth\":0,\"ticks\":\"\"},\"colorscale\":[[0.0,\"#0d0887\"],[0.1111111111111111,\"#46039f\"],[0.2222222222222222,\"#7201a8\"],[0.3333333333333333,\"#9c179e\"],[0.4444444444444444,\"#bd3786\"],[0.5555555555555556,\"#d8576b\"],[0.6666666666666666,\"#ed7953\"],[0.7777777777777778,\"#fb9f3a\"],[0.8888888888888888,\"#fdca26\"],[1.0,\"#f0f921\"]]}],\"surface\":[{\"type\":\"surface\",\"colorbar\":{\"outlinewidth\":0,\"ticks\":\"\"},\"colorscale\":[[0.0,\"#0d0887\"],[0.1111111111111111,\"#46039f\"],[0.2222222222222222,\"#7201a8\"],[0.3333333333333333,\"#9c179e\"],[0.4444444444444444,\"#bd3786\"],[0.5555555555555556,\"#d8576b\"],[0.6666666666666666,\"#ed7953\"],[0.7777777777777778,\"#fb9f3a\"],[0.8888888888888888,\"#fdca26\"],[1.0,\"#f0f921\"]]}],\"mesh3d\":[{\"type\":\"mesh3d\",\"colorbar\":{\"outlinewidth\":0,\"ticks\":\"\"}}],\"scatter\":[{\"fillpattern\":{\"fillmode\":\"overlay\",\"size\":10,\"solidity\":0.2},\"type\":\"scatter\"}],\"parcoords\":[{\"type\":\"parcoords\",\"line\":{\"colorbar\":{\"outlinewidth\":0,\"ticks\":\"\"}}}],\"scatterpolargl\":[{\"type\":\"scatterpolargl\",\"marker\":{\"colorbar\":{\"outlinewidth\":0,\"ticks\":\"\"}}}],\"bar\":[{\"error_x\":{\"color\":\"#2a3f5f\"},\"error_y\":{\"color\":\"#2a3f5f\"},\"marker\":{\"line\":{\"color\":\"#E5ECF6\",\"width\":0.5},\"pattern\":{\"fillmode\":\"overlay\",\"size\":10,\"solidity\":0.2}},\"type\":\"bar\"}],\"scattergeo\":[{\"type\":\"scattergeo\",\"marker\":{\"colorbar\":{\"outlinewidth\":0,\"ticks\":\"\"}}}],\"scatterpolar\":[{\"type\":\"scatterpolar\",\"marker\":{\"colorbar\":{\"outlinewidth\":0,\"ticks\":\"\"}}}],\"histogram\":[{\"marker\":{\"pattern\":{\"fillmode\":\"overlay\",\"size\":10,\"solidity\":0.2}},\"type\":\"histogram\"}],\"scattergl\":[{\"type\":\"scattergl\",\"marker\":{\"colorbar\":{\"outlinewidth\":0,\"ticks\":\"\"}}}],\"scatter3d\":[{\"type\":\"scatter3d\",\"line\":{\"colorbar\":{\"outlinewidth\":0,\"ticks\":\"\"}},\"marker\":{\"colorbar\":{\"outlinewidth\":0,\"ticks\":\"\"}}}],\"scattermapbox\":[{\"type\":\"scattermapbox\",\"marker\":{\"colorbar\":{\"outlinewidth\":0,\"ticks\":\"\"}}}],\"scatterternary\":[{\"type\":\"scatterternary\",\"marker\":{\"colorbar\":{\"outlinewidth\":0,\"ticks\":\"\"}}}],\"scattercarpet\":[{\"type\":\"scattercarpet\",\"marker\":{\"colorbar\":{\"outlinewidth\":0,\"ticks\":\"\"}}}],\"carpet\":[{\"aaxis\":{\"endlinecolor\":\"#2a3f5f\",\"gridcolor\":\"white\",\"linecolor\":\"white\",\"minorgridcolor\":\"white\",\"startlinecolor\":\"#2a3f5f\"},\"baxis\":{\"endlinecolor\":\"#2a3f5f\",\"gridcolor\":\"white\",\"linecolor\":\"white\",\"minorgridcolor\":\"white\",\"startlinecolor\":\"#2a3f5f\"},\"type\":\"carpet\"}],\"table\":[{\"cells\":{\"fill\":{\"color\":\"#EBF0F8\"},\"line\":{\"color\":\"white\"}},\"header\":{\"fill\":{\"color\":\"#C8D4E3\"},\"line\":{\"color\":\"white\"}},\"type\":\"table\"}],\"barpolar\":[{\"marker\":{\"line\":{\"color\":\"#E5ECF6\",\"width\":0.5},\"pattern\":{\"fillmode\":\"overlay\",\"size\":10,\"solidity\":0.2}},\"type\":\"barpolar\"}],\"pie\":[{\"automargin\":true,\"type\":\"pie\"}]},\"layout\":{\"autotypenumbers\":\"strict\",\"colorway\":[\"#636efa\",\"#EF553B\",\"#00cc96\",\"#ab63fa\",\"#FFA15A\",\"#19d3f3\",\"#FF6692\",\"#B6E880\",\"#FF97FF\",\"#FECB52\"],\"font\":{\"color\":\"#2a3f5f\"},\"hovermode\":\"closest\",\"hoverlabel\":{\"align\":\"left\"},\"paper_bgcolor\":\"white\",\"plot_bgcolor\":\"#E5ECF6\",\"polar\":{\"bgcolor\":\"#E5ECF6\",\"angularaxis\":{\"gridcolor\":\"white\",\"linecolor\":\"white\",\"ticks\":\"\"},\"radialaxis\":{\"gridcolor\":\"white\",\"linecolor\":\"white\",\"ticks\":\"\"}},\"ternary\":{\"bgcolor\":\"#E5ECF6\",\"aaxis\":{\"gridcolor\":\"white\",\"linecolor\":\"white\",\"ticks\":\"\"},\"baxis\":{\"gridcolor\":\"white\",\"linecolor\":\"white\",\"ticks\":\"\"},\"caxis\":{\"gridcolor\":\"white\",\"linecolor\":\"white\",\"ticks\":\"\"}},\"coloraxis\":{\"colorbar\":{\"outlinewidth\":0,\"ticks\":\"\"}},\"colorscale\":{\"sequential\":[[0.0,\"#0d0887\"],[0.1111111111111111,\"#46039f\"],[0.2222222222222222,\"#7201a8\"],[0.3333333333333333,\"#9c179e\"],[0.4444444444444444,\"#bd3786\"],[0.5555555555555556,\"#d8576b\"],[0.6666666666666666,\"#ed7953\"],[0.7777777777777778,\"#fb9f3a\"],[0.8888888888888888,\"#fdca26\"],[1.0,\"#f0f921\"]],\"sequentialminus\":[[0.0,\"#0d0887\"],[0.1111111111111111,\"#46039f\"],[0.2222222222222222,\"#7201a8\"],[0.3333333333333333,\"#9c179e\"],[0.4444444444444444,\"#bd3786\"],[0.5555555555555556,\"#d8576b\"],[0.6666666666666666,\"#ed7953\"],[0.7777777777777778,\"#fb9f3a\"],[0.8888888888888888,\"#fdca26\"],[1.0,\"#f0f921\"]],\"diverging\":[[0,\"#8e0152\"],[0.1,\"#c51b7d\"],[0.2,\"#de77ae\"],[0.3,\"#f1b6da\"],[0.4,\"#fde0ef\"],[0.5,\"#f7f7f7\"],[0.6,\"#e6f5d0\"],[0.7,\"#b8e186\"],[0.8,\"#7fbc41\"],[0.9,\"#4d9221\"],[1,\"#276419\"]]},\"xaxis\":{\"gridcolor\":\"white\",\"linecolor\":\"white\",\"ticks\":\"\",\"title\":{\"standoff\":15},\"zerolinecolor\":\"white\",\"automargin\":true,\"zerolinewidth\":2},\"yaxis\":{\"gridcolor\":\"white\",\"linecolor\":\"white\",\"ticks\":\"\",\"title\":{\"standoff\":15},\"zerolinecolor\":\"white\",\"automargin\":true,\"zerolinewidth\":2},\"scene\":{\"xaxis\":{\"backgroundcolor\":\"#E5ECF6\",\"gridcolor\":\"white\",\"linecolor\":\"white\",\"showbackground\":true,\"ticks\":\"\",\"zerolinecolor\":\"white\",\"gridwidth\":2},\"yaxis\":{\"backgroundcolor\":\"#E5ECF6\",\"gridcolor\":\"white\",\"linecolor\":\"white\",\"showbackground\":true,\"ticks\":\"\",\"zerolinecolor\":\"white\",\"gridwidth\":2},\"zaxis\":{\"backgroundcolor\":\"#E5ECF6\",\"gridcolor\":\"white\",\"linecolor\":\"white\",\"showbackground\":true,\"ticks\":\"\",\"zerolinecolor\":\"white\",\"gridwidth\":2}},\"shapedefaults\":{\"line\":{\"color\":\"#2a3f5f\"}},\"annotationdefaults\":{\"arrowcolor\":\"#2a3f5f\",\"arrowhead\":0,\"arrowwidth\":1},\"geo\":{\"bgcolor\":\"white\",\"landcolor\":\"#E5ECF6\",\"subunitcolor\":\"white\",\"showland\":true,\"showlakes\":true,\"lakecolor\":\"white\"},\"title\":{\"x\":0.05},\"mapbox\":{\"style\":\"light\"}}},\"xaxis\":{\"anchor\":\"y\",\"domain\":[0.0,1.0],\"title\":{\"text\":\"Gini index\"}},\"yaxis\":{\"anchor\":\"x\",\"domain\":[0.0,1.0],\"title\":{\"text\":\"Life Satisfaction\"}},\"legend\":{\"tracegroupgap\":0},\"title\":{\"text\":\"Life Satisfaction/Gini index Scatterplot (United States)\"},\"annotations\":[{\"arrowcolor\":\"black\",\"arrowhead\":1,\"arrowsize\":1,\"arrowwidth\":2,\"ax\":40.81,\"axref\":\"x\",\"ay\":7.16,\"ayref\":\"y\",\"showarrow\":true,\"text\":\"\",\"x\":40.61,\"xref\":\"x\",\"y\":7.12,\"yref\":\"y\"},{\"arrowcolor\":\"black\",\"arrowhead\":1,\"arrowsize\":1,\"arrowwidth\":2,\"ax\":40.61,\"axref\":\"x\",\"ay\":7.12,\"ayref\":\"y\",\"showarrow\":true,\"text\":\"\",\"x\":40.01,\"xref\":\"x\",\"y\":7.03,\"yref\":\"y\"},{\"arrowcolor\":\"black\",\"arrowhead\":1,\"arrowsize\":1,\"arrowwidth\":2,\"ax\":40.01,\"axref\":\"x\",\"ay\":7.03,\"ayref\":\"y\",\"showarrow\":true,\"text\":\"\",\"x\":40.94,\"xref\":\"x\",\"y\":7.25,\"yref\":\"y\"},{\"arrowcolor\":\"black\",\"arrowhead\":1,\"arrowsize\":1,\"arrowwidth\":2,\"ax\":40.94,\"axref\":\"x\",\"ay\":7.25,\"ayref\":\"y\",\"showarrow\":true,\"text\":\"\",\"x\":40.94,\"xref\":\"x\",\"y\":7.15,\"yref\":\"y\"},{\"arrowcolor\":\"black\",\"arrowhead\":1,\"arrowsize\":1,\"arrowwidth\":2,\"ax\":40.94,\"axref\":\"x\",\"ay\":7.15,\"ayref\":\"y\",\"showarrow\":true,\"text\":\"\",\"x\":40.65,\"xref\":\"x\",\"y\":6.86,\"yref\":\"y\"},{\"arrowcolor\":\"black\",\"arrowhead\":1,\"arrowsize\":1,\"arrowwidth\":2,\"ax\":40.65,\"axref\":\"x\",\"ay\":6.86,\"ayref\":\"y\",\"showarrow\":true,\"text\":\"\",\"x\":41.51,\"xref\":\"x\",\"y\":6.8,\"yref\":\"y\"},{\"arrowcolor\":\"black\",\"arrowhead\":1,\"arrowsize\":1,\"arrowwidth\":2,\"ax\":41.51,\"axref\":\"x\",\"ay\":6.8,\"ayref\":\"y\",\"showarrow\":true,\"text\":\"\",\"x\":41.24,\"xref\":\"x\",\"y\":6.99,\"yref\":\"y\"},{\"arrowcolor\":\"black\",\"arrowhead\":1,\"arrowsize\":1,\"arrowwidth\":2,\"ax\":41.24,\"axref\":\"x\",\"ay\":6.99,\"ayref\":\"y\",\"showarrow\":true,\"text\":\"\",\"x\":41.12,\"xref\":\"x\",\"y\":6.88,\"yref\":\"y\"},{\"arrowcolor\":\"black\",\"arrowhead\":1,\"arrowsize\":1,\"arrowwidth\":2,\"ax\":41.12,\"axref\":\"x\",\"ay\":6.88,\"ayref\":\"y\",\"showarrow\":true,\"text\":\"\",\"x\":41.18,\"xref\":\"x\",\"y\":6.94,\"yref\":\"y\"}]},                        {\"responsive\": true}                    ).then(function(){\n",
       "                            \n",
       "var gd = document.getElementById('34e0b19e-ea1d-471c-9bf7-b70538a8a34b');\n",
       "var x = new MutationObserver(function (mutations, observer) {{\n",
       "        var display = window.getComputedStyle(gd).display;\n",
       "        if (!display || display === 'none') {{\n",
       "            console.log([gd, 'removed!']);\n",
       "            Plotly.purge(gd);\n",
       "            observer.disconnect();\n",
       "        }}\n",
       "}});\n",
       "\n",
       "// Listen for the removal of the full notebook cells\n",
       "var notebookContainer = gd.closest('#notebook-container');\n",
       "if (notebookContainer) {{\n",
       "    x.observe(notebookContainer, {childList: true});\n",
       "}}\n",
       "\n",
       "// Listen for the clearing of the current output cell\n",
       "var outputEl = gd.closest('.output');\n",
       "if (outputEl) {{\n",
       "    x.observe(outputEl, {childList: true});\n",
       "}}\n",
       "\n",
       "                        })                };                });            </script>        </div>"
      ]
     },
     "metadata": {},
     "output_type": "display_data"
    }
   ],
   "source": [
    "arrow_scatterplot_gdp(\"USA\", df).show()\n",
    "arrow_scatterplot_gini(\"USA\", df).show()"
   ]
  },
  {
   "cell_type": "code",
   "execution_count": 18,
   "id": "c50d7566",
   "metadata": {},
   "outputs": [
    {
     "data": {
      "application/vnd.plotly.v1+json": {
       "config": {
        "plotlyServerURL": "https://plot.ly"
       },
       "data": [
        {
         "hoverinfo": "skip",
         "legendgroup": "",
         "marker": {
          "color": "#636efa",
          "size": 10,
          "symbol": "diamond"
         },
         "mode": "markers+text",
         "name": "",
         "orientation": "v",
         "showlegend": false,
         "text": [
          2008,
          2009,
          2010,
          2011,
          2012,
          2013,
          2014,
          2015,
          2016,
          2017
         ],
         "textfont": {
          "size": 15
         },
         "textposition": "bottom right",
         "type": "scatter",
         "x": [
          13621,
          13459,
          14399,
          14450,
          15425,
          15767,
          15854,
          16285,
          16782,
          17423
         ],
         "xaxis": "x",
         "y": [
          6.22,
          6.66,
          6.3,
          6.23,
          6.99,
          6.2,
          6.07,
          5.94,
          6.01,
          6.02
         ],
         "yaxis": "y"
        },
        {
         "hoverinfo": "skip",
         "legendgroup": "",
         "line": {
          "color": "red"
         },
         "marker": {
          "color": "#636efa",
          "size": 10,
          "symbol": "diamond"
         },
         "mode": "lines",
         "name": "",
         "showlegend": false,
         "textfont": {
          "size": 15
         },
         "textposition": "bottom right",
         "type": "scatter",
         "x": [
          13459,
          13621,
          14399,
          14450,
          15425,
          15767,
          15854,
          16285,
          16782,
          17423
         ],
         "xaxis": "x",
         "y": [
          6.491288029911679,
          6.471780395026544,
          6.378095580578176,
          6.371954288114337,
          6.25454722630565,
          6.2133644415481415,
          6.202888119109828,
          6.150988176915424,
          6.0911406797678165,
          6.013953062722311
         ],
         "yaxis": "y"
        }
       ],
       "layout": {
        "annotations": [
         {
          "arrowcolor": "black",
          "arrowhead": 1,
          "arrowsize": 1,
          "arrowwidth": 2,
          "ax": 13621,
          "axref": "x",
          "ay": 6.22,
          "ayref": "y",
          "showarrow": true,
          "text": "",
          "x": 13459,
          "xref": "x",
          "y": 6.66,
          "yref": "y"
         },
         {
          "arrowcolor": "black",
          "arrowhead": 1,
          "arrowsize": 1,
          "arrowwidth": 2,
          "ax": 13459,
          "axref": "x",
          "ay": 6.66,
          "ayref": "y",
          "showarrow": true,
          "text": "",
          "x": 14399,
          "xref": "x",
          "y": 6.3,
          "yref": "y"
         },
         {
          "arrowcolor": "black",
          "arrowhead": 1,
          "arrowsize": 1,
          "arrowwidth": 2,
          "ax": 14399,
          "axref": "x",
          "ay": 6.3,
          "ayref": "y",
          "showarrow": true,
          "text": "",
          "x": 14450,
          "xref": "x",
          "y": 6.23,
          "yref": "y"
         },
         {
          "arrowcolor": "black",
          "arrowhead": 1,
          "arrowsize": 1,
          "arrowwidth": 2,
          "ax": 14450,
          "axref": "x",
          "ay": 6.23,
          "ayref": "y",
          "showarrow": true,
          "text": "",
          "x": 15425,
          "xref": "x",
          "y": 6.99,
          "yref": "y"
         },
         {
          "arrowcolor": "black",
          "arrowhead": 1,
          "arrowsize": 1,
          "arrowwidth": 2,
          "ax": 15425,
          "axref": "x",
          "ay": 6.99,
          "ayref": "y",
          "showarrow": true,
          "text": "",
          "x": 15767,
          "xref": "x",
          "y": 6.2,
          "yref": "y"
         },
         {
          "arrowcolor": "black",
          "arrowhead": 1,
          "arrowsize": 1,
          "arrowwidth": 2,
          "ax": 15767,
          "axref": "x",
          "ay": 6.2,
          "ayref": "y",
          "showarrow": true,
          "text": "",
          "x": 15854,
          "xref": "x",
          "y": 6.07,
          "yref": "y"
         },
         {
          "arrowcolor": "black",
          "arrowhead": 1,
          "arrowsize": 1,
          "arrowwidth": 2,
          "ax": 15854,
          "axref": "x",
          "ay": 6.07,
          "ayref": "y",
          "showarrow": true,
          "text": "",
          "x": 16285,
          "xref": "x",
          "y": 5.94,
          "yref": "y"
         },
         {
          "arrowcolor": "black",
          "arrowhead": 1,
          "arrowsize": 1,
          "arrowwidth": 2,
          "ax": 16285,
          "axref": "x",
          "ay": 5.94,
          "ayref": "y",
          "showarrow": true,
          "text": "",
          "x": 16782,
          "xref": "x",
          "y": 6.01,
          "yref": "y"
         },
         {
          "arrowcolor": "black",
          "arrowhead": 1,
          "arrowsize": 1,
          "arrowwidth": 2,
          "ax": 16782,
          "axref": "x",
          "ay": 6.01,
          "ayref": "y",
          "showarrow": true,
          "text": "",
          "x": 17423,
          "xref": "x",
          "y": 6.02,
          "yref": "y"
         }
        ],
        "legend": {
         "tracegroupgap": 0
        },
        "template": {
         "data": {
          "bar": [
           {
            "error_x": {
             "color": "#2a3f5f"
            },
            "error_y": {
             "color": "#2a3f5f"
            },
            "marker": {
             "line": {
              "color": "#E5ECF6",
              "width": 0.5
             },
             "pattern": {
              "fillmode": "overlay",
              "size": 10,
              "solidity": 0.2
             }
            },
            "type": "bar"
           }
          ],
          "barpolar": [
           {
            "marker": {
             "line": {
              "color": "#E5ECF6",
              "width": 0.5
             },
             "pattern": {
              "fillmode": "overlay",
              "size": 10,
              "solidity": 0.2
             }
            },
            "type": "barpolar"
           }
          ],
          "carpet": [
           {
            "aaxis": {
             "endlinecolor": "#2a3f5f",
             "gridcolor": "white",
             "linecolor": "white",
             "minorgridcolor": "white",
             "startlinecolor": "#2a3f5f"
            },
            "baxis": {
             "endlinecolor": "#2a3f5f",
             "gridcolor": "white",
             "linecolor": "white",
             "minorgridcolor": "white",
             "startlinecolor": "#2a3f5f"
            },
            "type": "carpet"
           }
          ],
          "choropleth": [
           {
            "colorbar": {
             "outlinewidth": 0,
             "ticks": ""
            },
            "type": "choropleth"
           }
          ],
          "contour": [
           {
            "colorbar": {
             "outlinewidth": 0,
             "ticks": ""
            },
            "colorscale": [
             [
              0,
              "#0d0887"
             ],
             [
              0.1111111111111111,
              "#46039f"
             ],
             [
              0.2222222222222222,
              "#7201a8"
             ],
             [
              0.3333333333333333,
              "#9c179e"
             ],
             [
              0.4444444444444444,
              "#bd3786"
             ],
             [
              0.5555555555555556,
              "#d8576b"
             ],
             [
              0.6666666666666666,
              "#ed7953"
             ],
             [
              0.7777777777777778,
              "#fb9f3a"
             ],
             [
              0.8888888888888888,
              "#fdca26"
             ],
             [
              1,
              "#f0f921"
             ]
            ],
            "type": "contour"
           }
          ],
          "contourcarpet": [
           {
            "colorbar": {
             "outlinewidth": 0,
             "ticks": ""
            },
            "type": "contourcarpet"
           }
          ],
          "heatmap": [
           {
            "colorbar": {
             "outlinewidth": 0,
             "ticks": ""
            },
            "colorscale": [
             [
              0,
              "#0d0887"
             ],
             [
              0.1111111111111111,
              "#46039f"
             ],
             [
              0.2222222222222222,
              "#7201a8"
             ],
             [
              0.3333333333333333,
              "#9c179e"
             ],
             [
              0.4444444444444444,
              "#bd3786"
             ],
             [
              0.5555555555555556,
              "#d8576b"
             ],
             [
              0.6666666666666666,
              "#ed7953"
             ],
             [
              0.7777777777777778,
              "#fb9f3a"
             ],
             [
              0.8888888888888888,
              "#fdca26"
             ],
             [
              1,
              "#f0f921"
             ]
            ],
            "type": "heatmap"
           }
          ],
          "heatmapgl": [
           {
            "colorbar": {
             "outlinewidth": 0,
             "ticks": ""
            },
            "colorscale": [
             [
              0,
              "#0d0887"
             ],
             [
              0.1111111111111111,
              "#46039f"
             ],
             [
              0.2222222222222222,
              "#7201a8"
             ],
             [
              0.3333333333333333,
              "#9c179e"
             ],
             [
              0.4444444444444444,
              "#bd3786"
             ],
             [
              0.5555555555555556,
              "#d8576b"
             ],
             [
              0.6666666666666666,
              "#ed7953"
             ],
             [
              0.7777777777777778,
              "#fb9f3a"
             ],
             [
              0.8888888888888888,
              "#fdca26"
             ],
             [
              1,
              "#f0f921"
             ]
            ],
            "type": "heatmapgl"
           }
          ],
          "histogram": [
           {
            "marker": {
             "pattern": {
              "fillmode": "overlay",
              "size": 10,
              "solidity": 0.2
             }
            },
            "type": "histogram"
           }
          ],
          "histogram2d": [
           {
            "colorbar": {
             "outlinewidth": 0,
             "ticks": ""
            },
            "colorscale": [
             [
              0,
              "#0d0887"
             ],
             [
              0.1111111111111111,
              "#46039f"
             ],
             [
              0.2222222222222222,
              "#7201a8"
             ],
             [
              0.3333333333333333,
              "#9c179e"
             ],
             [
              0.4444444444444444,
              "#bd3786"
             ],
             [
              0.5555555555555556,
              "#d8576b"
             ],
             [
              0.6666666666666666,
              "#ed7953"
             ],
             [
              0.7777777777777778,
              "#fb9f3a"
             ],
             [
              0.8888888888888888,
              "#fdca26"
             ],
             [
              1,
              "#f0f921"
             ]
            ],
            "type": "histogram2d"
           }
          ],
          "histogram2dcontour": [
           {
            "colorbar": {
             "outlinewidth": 0,
             "ticks": ""
            },
            "colorscale": [
             [
              0,
              "#0d0887"
             ],
             [
              0.1111111111111111,
              "#46039f"
             ],
             [
              0.2222222222222222,
              "#7201a8"
             ],
             [
              0.3333333333333333,
              "#9c179e"
             ],
             [
              0.4444444444444444,
              "#bd3786"
             ],
             [
              0.5555555555555556,
              "#d8576b"
             ],
             [
              0.6666666666666666,
              "#ed7953"
             ],
             [
              0.7777777777777778,
              "#fb9f3a"
             ],
             [
              0.8888888888888888,
              "#fdca26"
             ],
             [
              1,
              "#f0f921"
             ]
            ],
            "type": "histogram2dcontour"
           }
          ],
          "mesh3d": [
           {
            "colorbar": {
             "outlinewidth": 0,
             "ticks": ""
            },
            "type": "mesh3d"
           }
          ],
          "parcoords": [
           {
            "line": {
             "colorbar": {
              "outlinewidth": 0,
              "ticks": ""
             }
            },
            "type": "parcoords"
           }
          ],
          "pie": [
           {
            "automargin": true,
            "type": "pie"
           }
          ],
          "scatter": [
           {
            "fillpattern": {
             "fillmode": "overlay",
             "size": 10,
             "solidity": 0.2
            },
            "type": "scatter"
           }
          ],
          "scatter3d": [
           {
            "line": {
             "colorbar": {
              "outlinewidth": 0,
              "ticks": ""
             }
            },
            "marker": {
             "colorbar": {
              "outlinewidth": 0,
              "ticks": ""
             }
            },
            "type": "scatter3d"
           }
          ],
          "scattercarpet": [
           {
            "marker": {
             "colorbar": {
              "outlinewidth": 0,
              "ticks": ""
             }
            },
            "type": "scattercarpet"
           }
          ],
          "scattergeo": [
           {
            "marker": {
             "colorbar": {
              "outlinewidth": 0,
              "ticks": ""
             }
            },
            "type": "scattergeo"
           }
          ],
          "scattergl": [
           {
            "marker": {
             "colorbar": {
              "outlinewidth": 0,
              "ticks": ""
             }
            },
            "type": "scattergl"
           }
          ],
          "scattermapbox": [
           {
            "marker": {
             "colorbar": {
              "outlinewidth": 0,
              "ticks": ""
             }
            },
            "type": "scattermapbox"
           }
          ],
          "scatterpolar": [
           {
            "marker": {
             "colorbar": {
              "outlinewidth": 0,
              "ticks": ""
             }
            },
            "type": "scatterpolar"
           }
          ],
          "scatterpolargl": [
           {
            "marker": {
             "colorbar": {
              "outlinewidth": 0,
              "ticks": ""
             }
            },
            "type": "scatterpolargl"
           }
          ],
          "scatterternary": [
           {
            "marker": {
             "colorbar": {
              "outlinewidth": 0,
              "ticks": ""
             }
            },
            "type": "scatterternary"
           }
          ],
          "surface": [
           {
            "colorbar": {
             "outlinewidth": 0,
             "ticks": ""
            },
            "colorscale": [
             [
              0,
              "#0d0887"
             ],
             [
              0.1111111111111111,
              "#46039f"
             ],
             [
              0.2222222222222222,
              "#7201a8"
             ],
             [
              0.3333333333333333,
              "#9c179e"
             ],
             [
              0.4444444444444444,
              "#bd3786"
             ],
             [
              0.5555555555555556,
              "#d8576b"
             ],
             [
              0.6666666666666666,
              "#ed7953"
             ],
             [
              0.7777777777777778,
              "#fb9f3a"
             ],
             [
              0.8888888888888888,
              "#fdca26"
             ],
             [
              1,
              "#f0f921"
             ]
            ],
            "type": "surface"
           }
          ],
          "table": [
           {
            "cells": {
             "fill": {
              "color": "#EBF0F8"
             },
             "line": {
              "color": "white"
             }
            },
            "header": {
             "fill": {
              "color": "#C8D4E3"
             },
             "line": {
              "color": "white"
             }
            },
            "type": "table"
           }
          ]
         },
         "layout": {
          "annotationdefaults": {
           "arrowcolor": "#2a3f5f",
           "arrowhead": 0,
           "arrowwidth": 1
          },
          "autotypenumbers": "strict",
          "coloraxis": {
           "colorbar": {
            "outlinewidth": 0,
            "ticks": ""
           }
          },
          "colorscale": {
           "diverging": [
            [
             0,
             "#8e0152"
            ],
            [
             0.1,
             "#c51b7d"
            ],
            [
             0.2,
             "#de77ae"
            ],
            [
             0.3,
             "#f1b6da"
            ],
            [
             0.4,
             "#fde0ef"
            ],
            [
             0.5,
             "#f7f7f7"
            ],
            [
             0.6,
             "#e6f5d0"
            ],
            [
             0.7,
             "#b8e186"
            ],
            [
             0.8,
             "#7fbc41"
            ],
            [
             0.9,
             "#4d9221"
            ],
            [
             1,
             "#276419"
            ]
           ],
           "sequential": [
            [
             0,
             "#0d0887"
            ],
            [
             0.1111111111111111,
             "#46039f"
            ],
            [
             0.2222222222222222,
             "#7201a8"
            ],
            [
             0.3333333333333333,
             "#9c179e"
            ],
            [
             0.4444444444444444,
             "#bd3786"
            ],
            [
             0.5555555555555556,
             "#d8576b"
            ],
            [
             0.6666666666666666,
             "#ed7953"
            ],
            [
             0.7777777777777778,
             "#fb9f3a"
            ],
            [
             0.8888888888888888,
             "#fdca26"
            ],
            [
             1,
             "#f0f921"
            ]
           ],
           "sequentialminus": [
            [
             0,
             "#0d0887"
            ],
            [
             0.1111111111111111,
             "#46039f"
            ],
            [
             0.2222222222222222,
             "#7201a8"
            ],
            [
             0.3333333333333333,
             "#9c179e"
            ],
            [
             0.4444444444444444,
             "#bd3786"
            ],
            [
             0.5555555555555556,
             "#d8576b"
            ],
            [
             0.6666666666666666,
             "#ed7953"
            ],
            [
             0.7777777777777778,
             "#fb9f3a"
            ],
            [
             0.8888888888888888,
             "#fdca26"
            ],
            [
             1,
             "#f0f921"
            ]
           ]
          },
          "colorway": [
           "#636efa",
           "#EF553B",
           "#00cc96",
           "#ab63fa",
           "#FFA15A",
           "#19d3f3",
           "#FF6692",
           "#B6E880",
           "#FF97FF",
           "#FECB52"
          ],
          "font": {
           "color": "#2a3f5f"
          },
          "geo": {
           "bgcolor": "white",
           "lakecolor": "white",
           "landcolor": "#E5ECF6",
           "showlakes": true,
           "showland": true,
           "subunitcolor": "white"
          },
          "hoverlabel": {
           "align": "left"
          },
          "hovermode": "closest",
          "mapbox": {
           "style": "light"
          },
          "paper_bgcolor": "white",
          "plot_bgcolor": "#E5ECF6",
          "polar": {
           "angularaxis": {
            "gridcolor": "white",
            "linecolor": "white",
            "ticks": ""
           },
           "bgcolor": "#E5ECF6",
           "radialaxis": {
            "gridcolor": "white",
            "linecolor": "white",
            "ticks": ""
           }
          },
          "scene": {
           "xaxis": {
            "backgroundcolor": "#E5ECF6",
            "gridcolor": "white",
            "gridwidth": 2,
            "linecolor": "white",
            "showbackground": true,
            "ticks": "",
            "zerolinecolor": "white"
           },
           "yaxis": {
            "backgroundcolor": "#E5ECF6",
            "gridcolor": "white",
            "gridwidth": 2,
            "linecolor": "white",
            "showbackground": true,
            "ticks": "",
            "zerolinecolor": "white"
           },
           "zaxis": {
            "backgroundcolor": "#E5ECF6",
            "gridcolor": "white",
            "gridwidth": 2,
            "linecolor": "white",
            "showbackground": true,
            "ticks": "",
            "zerolinecolor": "white"
           }
          },
          "shapedefaults": {
           "line": {
            "color": "#2a3f5f"
           }
          },
          "ternary": {
           "aaxis": {
            "gridcolor": "white",
            "linecolor": "white",
            "ticks": ""
           },
           "baxis": {
            "gridcolor": "white",
            "linecolor": "white",
            "ticks": ""
           },
           "bgcolor": "#E5ECF6",
           "caxis": {
            "gridcolor": "white",
            "linecolor": "white",
            "ticks": ""
           }
          },
          "title": {
           "x": 0.05
          },
          "xaxis": {
           "automargin": true,
           "gridcolor": "white",
           "linecolor": "white",
           "ticks": "",
           "title": {
            "standoff": 15
           },
           "zerolinecolor": "white",
           "zerolinewidth": 2
          },
          "yaxis": {
           "automargin": true,
           "gridcolor": "white",
           "linecolor": "white",
           "ticks": "",
           "title": {
            "standoff": 15
           },
           "zerolinecolor": "white",
           "zerolinewidth": 2
          }
         }
        },
        "title": {
         "text": "Life Satisfaction/GDP per capita Scatterplot (Thailand)"
        },
        "xaxis": {
         "anchor": "y",
         "domain": [
          0,
          1
         ],
         "title": {
          "text": "GDP per capita"
         }
        },
        "yaxis": {
         "anchor": "x",
         "domain": [
          0,
          1
         ],
         "title": {
          "text": "Life Satisfaction"
         }
        }
       }
      },
      "text/html": [
       "<div>                            <div id=\"a1b32c67-9d45-4671-9081-a12257f16d29\" class=\"plotly-graph-div\" style=\"height:525px; width:100%;\"></div>            <script type=\"text/javascript\">                require([\"plotly\"], function(Plotly) {                    window.PLOTLYENV=window.PLOTLYENV || {};                                    if (document.getElementById(\"a1b32c67-9d45-4671-9081-a12257f16d29\")) {                    Plotly.newPlot(                        \"a1b32c67-9d45-4671-9081-a12257f16d29\",                        [{\"legendgroup\":\"\",\"marker\":{\"color\":\"#636efa\",\"symbol\":\"diamond\",\"size\":10},\"mode\":\"markers+text\",\"name\":\"\",\"orientation\":\"v\",\"showlegend\":false,\"text\":[2008.0,2009.0,2010.0,2011.0,2012.0,2013.0,2014.0,2015.0,2016.0,2017.0],\"x\":[13621.0,13459.0,14399.0,14450.0,15425.0,15767.0,15854.0,16285.0,16782.0,17423.0],\"xaxis\":\"x\",\"y\":[6.22,6.66,6.3,6.23,6.99,6.2,6.07,5.94,6.01,6.02],\"yaxis\":\"y\",\"type\":\"scatter\",\"textfont\":{\"size\":15},\"hoverinfo\":\"skip\",\"textposition\":\"bottom right\"},{\"legendgroup\":\"\",\"line\":{\"color\":\"red\"},\"marker\":{\"color\":\"#636efa\",\"symbol\":\"diamond\",\"size\":10},\"mode\":\"lines\",\"name\":\"\",\"showlegend\":false,\"x\":[13459.0,13621.0,14399.0,14450.0,15425.0,15767.0,15854.0,16285.0,16782.0,17423.0],\"xaxis\":\"x\",\"y\":[6.491288029911679,6.471780395026544,6.378095580578176,6.371954288114337,6.25454722630565,6.2133644415481415,6.202888119109828,6.150988176915424,6.0911406797678165,6.013953062722311],\"yaxis\":\"y\",\"type\":\"scatter\",\"textfont\":{\"size\":15},\"hoverinfo\":\"skip\",\"textposition\":\"bottom right\"}],                        {\"template\":{\"data\":{\"histogram2dcontour\":[{\"type\":\"histogram2dcontour\",\"colorbar\":{\"outlinewidth\":0,\"ticks\":\"\"},\"colorscale\":[[0.0,\"#0d0887\"],[0.1111111111111111,\"#46039f\"],[0.2222222222222222,\"#7201a8\"],[0.3333333333333333,\"#9c179e\"],[0.4444444444444444,\"#bd3786\"],[0.5555555555555556,\"#d8576b\"],[0.6666666666666666,\"#ed7953\"],[0.7777777777777778,\"#fb9f3a\"],[0.8888888888888888,\"#fdca26\"],[1.0,\"#f0f921\"]]}],\"choropleth\":[{\"type\":\"choropleth\",\"colorbar\":{\"outlinewidth\":0,\"ticks\":\"\"}}],\"histogram2d\":[{\"type\":\"histogram2d\",\"colorbar\":{\"outlinewidth\":0,\"ticks\":\"\"},\"colorscale\":[[0.0,\"#0d0887\"],[0.1111111111111111,\"#46039f\"],[0.2222222222222222,\"#7201a8\"],[0.3333333333333333,\"#9c179e\"],[0.4444444444444444,\"#bd3786\"],[0.5555555555555556,\"#d8576b\"],[0.6666666666666666,\"#ed7953\"],[0.7777777777777778,\"#fb9f3a\"],[0.8888888888888888,\"#fdca26\"],[1.0,\"#f0f921\"]]}],\"heatmap\":[{\"type\":\"heatmap\",\"colorbar\":{\"outlinewidth\":0,\"ticks\":\"\"},\"colorscale\":[[0.0,\"#0d0887\"],[0.1111111111111111,\"#46039f\"],[0.2222222222222222,\"#7201a8\"],[0.3333333333333333,\"#9c179e\"],[0.4444444444444444,\"#bd3786\"],[0.5555555555555556,\"#d8576b\"],[0.6666666666666666,\"#ed7953\"],[0.7777777777777778,\"#fb9f3a\"],[0.8888888888888888,\"#fdca26\"],[1.0,\"#f0f921\"]]}],\"heatmapgl\":[{\"type\":\"heatmapgl\",\"colorbar\":{\"outlinewidth\":0,\"ticks\":\"\"},\"colorscale\":[[0.0,\"#0d0887\"],[0.1111111111111111,\"#46039f\"],[0.2222222222222222,\"#7201a8\"],[0.3333333333333333,\"#9c179e\"],[0.4444444444444444,\"#bd3786\"],[0.5555555555555556,\"#d8576b\"],[0.6666666666666666,\"#ed7953\"],[0.7777777777777778,\"#fb9f3a\"],[0.8888888888888888,\"#fdca26\"],[1.0,\"#f0f921\"]]}],\"contourcarpet\":[{\"type\":\"contourcarpet\",\"colorbar\":{\"outlinewidth\":0,\"ticks\":\"\"}}],\"contour\":[{\"type\":\"contour\",\"colorbar\":{\"outlinewidth\":0,\"ticks\":\"\"},\"colorscale\":[[0.0,\"#0d0887\"],[0.1111111111111111,\"#46039f\"],[0.2222222222222222,\"#7201a8\"],[0.3333333333333333,\"#9c179e\"],[0.4444444444444444,\"#bd3786\"],[0.5555555555555556,\"#d8576b\"],[0.6666666666666666,\"#ed7953\"],[0.7777777777777778,\"#fb9f3a\"],[0.8888888888888888,\"#fdca26\"],[1.0,\"#f0f921\"]]}],\"surface\":[{\"type\":\"surface\",\"colorbar\":{\"outlinewidth\":0,\"ticks\":\"\"},\"colorscale\":[[0.0,\"#0d0887\"],[0.1111111111111111,\"#46039f\"],[0.2222222222222222,\"#7201a8\"],[0.3333333333333333,\"#9c179e\"],[0.4444444444444444,\"#bd3786\"],[0.5555555555555556,\"#d8576b\"],[0.6666666666666666,\"#ed7953\"],[0.7777777777777778,\"#fb9f3a\"],[0.8888888888888888,\"#fdca26\"],[1.0,\"#f0f921\"]]}],\"mesh3d\":[{\"type\":\"mesh3d\",\"colorbar\":{\"outlinewidth\":0,\"ticks\":\"\"}}],\"scatter\":[{\"fillpattern\":{\"fillmode\":\"overlay\",\"size\":10,\"solidity\":0.2},\"type\":\"scatter\"}],\"parcoords\":[{\"type\":\"parcoords\",\"line\":{\"colorbar\":{\"outlinewidth\":0,\"ticks\":\"\"}}}],\"scatterpolargl\":[{\"type\":\"scatterpolargl\",\"marker\":{\"colorbar\":{\"outlinewidth\":0,\"ticks\":\"\"}}}],\"bar\":[{\"error_x\":{\"color\":\"#2a3f5f\"},\"error_y\":{\"color\":\"#2a3f5f\"},\"marker\":{\"line\":{\"color\":\"#E5ECF6\",\"width\":0.5},\"pattern\":{\"fillmode\":\"overlay\",\"size\":10,\"solidity\":0.2}},\"type\":\"bar\"}],\"scattergeo\":[{\"type\":\"scattergeo\",\"marker\":{\"colorbar\":{\"outlinewidth\":0,\"ticks\":\"\"}}}],\"scatterpolar\":[{\"type\":\"scatterpolar\",\"marker\":{\"colorbar\":{\"outlinewidth\":0,\"ticks\":\"\"}}}],\"histogram\":[{\"marker\":{\"pattern\":{\"fillmode\":\"overlay\",\"size\":10,\"solidity\":0.2}},\"type\":\"histogram\"}],\"scattergl\":[{\"type\":\"scattergl\",\"marker\":{\"colorbar\":{\"outlinewidth\":0,\"ticks\":\"\"}}}],\"scatter3d\":[{\"type\":\"scatter3d\",\"line\":{\"colorbar\":{\"outlinewidth\":0,\"ticks\":\"\"}},\"marker\":{\"colorbar\":{\"outlinewidth\":0,\"ticks\":\"\"}}}],\"scattermapbox\":[{\"type\":\"scattermapbox\",\"marker\":{\"colorbar\":{\"outlinewidth\":0,\"ticks\":\"\"}}}],\"scatterternary\":[{\"type\":\"scatterternary\",\"marker\":{\"colorbar\":{\"outlinewidth\":0,\"ticks\":\"\"}}}],\"scattercarpet\":[{\"type\":\"scattercarpet\",\"marker\":{\"colorbar\":{\"outlinewidth\":0,\"ticks\":\"\"}}}],\"carpet\":[{\"aaxis\":{\"endlinecolor\":\"#2a3f5f\",\"gridcolor\":\"white\",\"linecolor\":\"white\",\"minorgridcolor\":\"white\",\"startlinecolor\":\"#2a3f5f\"},\"baxis\":{\"endlinecolor\":\"#2a3f5f\",\"gridcolor\":\"white\",\"linecolor\":\"white\",\"minorgridcolor\":\"white\",\"startlinecolor\":\"#2a3f5f\"},\"type\":\"carpet\"}],\"table\":[{\"cells\":{\"fill\":{\"color\":\"#EBF0F8\"},\"line\":{\"color\":\"white\"}},\"header\":{\"fill\":{\"color\":\"#C8D4E3\"},\"line\":{\"color\":\"white\"}},\"type\":\"table\"}],\"barpolar\":[{\"marker\":{\"line\":{\"color\":\"#E5ECF6\",\"width\":0.5},\"pattern\":{\"fillmode\":\"overlay\",\"size\":10,\"solidity\":0.2}},\"type\":\"barpolar\"}],\"pie\":[{\"automargin\":true,\"type\":\"pie\"}]},\"layout\":{\"autotypenumbers\":\"strict\",\"colorway\":[\"#636efa\",\"#EF553B\",\"#00cc96\",\"#ab63fa\",\"#FFA15A\",\"#19d3f3\",\"#FF6692\",\"#B6E880\",\"#FF97FF\",\"#FECB52\"],\"font\":{\"color\":\"#2a3f5f\"},\"hovermode\":\"closest\",\"hoverlabel\":{\"align\":\"left\"},\"paper_bgcolor\":\"white\",\"plot_bgcolor\":\"#E5ECF6\",\"polar\":{\"bgcolor\":\"#E5ECF6\",\"angularaxis\":{\"gridcolor\":\"white\",\"linecolor\":\"white\",\"ticks\":\"\"},\"radialaxis\":{\"gridcolor\":\"white\",\"linecolor\":\"white\",\"ticks\":\"\"}},\"ternary\":{\"bgcolor\":\"#E5ECF6\",\"aaxis\":{\"gridcolor\":\"white\",\"linecolor\":\"white\",\"ticks\":\"\"},\"baxis\":{\"gridcolor\":\"white\",\"linecolor\":\"white\",\"ticks\":\"\"},\"caxis\":{\"gridcolor\":\"white\",\"linecolor\":\"white\",\"ticks\":\"\"}},\"coloraxis\":{\"colorbar\":{\"outlinewidth\":0,\"ticks\":\"\"}},\"colorscale\":{\"sequential\":[[0.0,\"#0d0887\"],[0.1111111111111111,\"#46039f\"],[0.2222222222222222,\"#7201a8\"],[0.3333333333333333,\"#9c179e\"],[0.4444444444444444,\"#bd3786\"],[0.5555555555555556,\"#d8576b\"],[0.6666666666666666,\"#ed7953\"],[0.7777777777777778,\"#fb9f3a\"],[0.8888888888888888,\"#fdca26\"],[1.0,\"#f0f921\"]],\"sequentialminus\":[[0.0,\"#0d0887\"],[0.1111111111111111,\"#46039f\"],[0.2222222222222222,\"#7201a8\"],[0.3333333333333333,\"#9c179e\"],[0.4444444444444444,\"#bd3786\"],[0.5555555555555556,\"#d8576b\"],[0.6666666666666666,\"#ed7953\"],[0.7777777777777778,\"#fb9f3a\"],[0.8888888888888888,\"#fdca26\"],[1.0,\"#f0f921\"]],\"diverging\":[[0,\"#8e0152\"],[0.1,\"#c51b7d\"],[0.2,\"#de77ae\"],[0.3,\"#f1b6da\"],[0.4,\"#fde0ef\"],[0.5,\"#f7f7f7\"],[0.6,\"#e6f5d0\"],[0.7,\"#b8e186\"],[0.8,\"#7fbc41\"],[0.9,\"#4d9221\"],[1,\"#276419\"]]},\"xaxis\":{\"gridcolor\":\"white\",\"linecolor\":\"white\",\"ticks\":\"\",\"title\":{\"standoff\":15},\"zerolinecolor\":\"white\",\"automargin\":true,\"zerolinewidth\":2},\"yaxis\":{\"gridcolor\":\"white\",\"linecolor\":\"white\",\"ticks\":\"\",\"title\":{\"standoff\":15},\"zerolinecolor\":\"white\",\"automargin\":true,\"zerolinewidth\":2},\"scene\":{\"xaxis\":{\"backgroundcolor\":\"#E5ECF6\",\"gridcolor\":\"white\",\"linecolor\":\"white\",\"showbackground\":true,\"ticks\":\"\",\"zerolinecolor\":\"white\",\"gridwidth\":2},\"yaxis\":{\"backgroundcolor\":\"#E5ECF6\",\"gridcolor\":\"white\",\"linecolor\":\"white\",\"showbackground\":true,\"ticks\":\"\",\"zerolinecolor\":\"white\",\"gridwidth\":2},\"zaxis\":{\"backgroundcolor\":\"#E5ECF6\",\"gridcolor\":\"white\",\"linecolor\":\"white\",\"showbackground\":true,\"ticks\":\"\",\"zerolinecolor\":\"white\",\"gridwidth\":2}},\"shapedefaults\":{\"line\":{\"color\":\"#2a3f5f\"}},\"annotationdefaults\":{\"arrowcolor\":\"#2a3f5f\",\"arrowhead\":0,\"arrowwidth\":1},\"geo\":{\"bgcolor\":\"white\",\"landcolor\":\"#E5ECF6\",\"subunitcolor\":\"white\",\"showland\":true,\"showlakes\":true,\"lakecolor\":\"white\"},\"title\":{\"x\":0.05},\"mapbox\":{\"style\":\"light\"}}},\"xaxis\":{\"anchor\":\"y\",\"domain\":[0.0,1.0],\"title\":{\"text\":\"GDP per capita\"}},\"yaxis\":{\"anchor\":\"x\",\"domain\":[0.0,1.0],\"title\":{\"text\":\"Life Satisfaction\"}},\"legend\":{\"tracegroupgap\":0},\"title\":{\"text\":\"Life Satisfaction/GDP per capita Scatterplot (Thailand)\"},\"annotations\":[{\"arrowcolor\":\"black\",\"arrowhead\":1,\"arrowsize\":1,\"arrowwidth\":2,\"ax\":13621.0,\"axref\":\"x\",\"ay\":6.22,\"ayref\":\"y\",\"showarrow\":true,\"text\":\"\",\"x\":13459.0,\"xref\":\"x\",\"y\":6.66,\"yref\":\"y\"},{\"arrowcolor\":\"black\",\"arrowhead\":1,\"arrowsize\":1,\"arrowwidth\":2,\"ax\":13459.0,\"axref\":\"x\",\"ay\":6.66,\"ayref\":\"y\",\"showarrow\":true,\"text\":\"\",\"x\":14399.0,\"xref\":\"x\",\"y\":6.3,\"yref\":\"y\"},{\"arrowcolor\":\"black\",\"arrowhead\":1,\"arrowsize\":1,\"arrowwidth\":2,\"ax\":14399.0,\"axref\":\"x\",\"ay\":6.3,\"ayref\":\"y\",\"showarrow\":true,\"text\":\"\",\"x\":14450.0,\"xref\":\"x\",\"y\":6.23,\"yref\":\"y\"},{\"arrowcolor\":\"black\",\"arrowhead\":1,\"arrowsize\":1,\"arrowwidth\":2,\"ax\":14450.0,\"axref\":\"x\",\"ay\":6.23,\"ayref\":\"y\",\"showarrow\":true,\"text\":\"\",\"x\":15425.0,\"xref\":\"x\",\"y\":6.99,\"yref\":\"y\"},{\"arrowcolor\":\"black\",\"arrowhead\":1,\"arrowsize\":1,\"arrowwidth\":2,\"ax\":15425.0,\"axref\":\"x\",\"ay\":6.99,\"ayref\":\"y\",\"showarrow\":true,\"text\":\"\",\"x\":15767.0,\"xref\":\"x\",\"y\":6.2,\"yref\":\"y\"},{\"arrowcolor\":\"black\",\"arrowhead\":1,\"arrowsize\":1,\"arrowwidth\":2,\"ax\":15767.0,\"axref\":\"x\",\"ay\":6.2,\"ayref\":\"y\",\"showarrow\":true,\"text\":\"\",\"x\":15854.0,\"xref\":\"x\",\"y\":6.07,\"yref\":\"y\"},{\"arrowcolor\":\"black\",\"arrowhead\":1,\"arrowsize\":1,\"arrowwidth\":2,\"ax\":15854.0,\"axref\":\"x\",\"ay\":6.07,\"ayref\":\"y\",\"showarrow\":true,\"text\":\"\",\"x\":16285.0,\"xref\":\"x\",\"y\":5.94,\"yref\":\"y\"},{\"arrowcolor\":\"black\",\"arrowhead\":1,\"arrowsize\":1,\"arrowwidth\":2,\"ax\":16285.0,\"axref\":\"x\",\"ay\":5.94,\"ayref\":\"y\",\"showarrow\":true,\"text\":\"\",\"x\":16782.0,\"xref\":\"x\",\"y\":6.01,\"yref\":\"y\"},{\"arrowcolor\":\"black\",\"arrowhead\":1,\"arrowsize\":1,\"arrowwidth\":2,\"ax\":16782.0,\"axref\":\"x\",\"ay\":6.01,\"ayref\":\"y\",\"showarrow\":true,\"text\":\"\",\"x\":17423.0,\"xref\":\"x\",\"y\":6.02,\"yref\":\"y\"}]},                        {\"responsive\": true}                    ).then(function(){\n",
       "                            \n",
       "var gd = document.getElementById('a1b32c67-9d45-4671-9081-a12257f16d29');\n",
       "var x = new MutationObserver(function (mutations, observer) {{\n",
       "        var display = window.getComputedStyle(gd).display;\n",
       "        if (!display || display === 'none') {{\n",
       "            console.log([gd, 'removed!']);\n",
       "            Plotly.purge(gd);\n",
       "            observer.disconnect();\n",
       "        }}\n",
       "}});\n",
       "\n",
       "// Listen for the removal of the full notebook cells\n",
       "var notebookContainer = gd.closest('#notebook-container');\n",
       "if (notebookContainer) {{\n",
       "    x.observe(notebookContainer, {childList: true});\n",
       "}}\n",
       "\n",
       "// Listen for the clearing of the current output cell\n",
       "var outputEl = gd.closest('.output');\n",
       "if (outputEl) {{\n",
       "    x.observe(outputEl, {childList: true});\n",
       "}}\n",
       "\n",
       "                        })                };                });            </script>        </div>"
      ]
     },
     "metadata": {},
     "output_type": "display_data"
    },
    {
     "data": {
      "application/vnd.plotly.v1+json": {
       "config": {
        "plotlyServerURL": "https://plot.ly"
       },
       "data": [
        {
         "hoverinfo": "skip",
         "legendgroup": "",
         "marker": {
          "color": "#636efa",
          "size": 10,
          "symbol": "diamond"
         },
         "mode": "markers+text",
         "name": "",
         "orientation": "v",
         "showlegend": false,
         "text": [
          2008,
          2009,
          2010,
          2011,
          2012,
          2013,
          2014,
          2015,
          2016,
          2017
         ],
         "textfont": {
          "size": 15
         },
         "textposition": "bottom right",
         "type": "scatter",
         "x": [
          40.29,
          39.6,
          39.4,
          37.46,
          39.26,
          37.85,
          37.03,
          35.99,
          36.89,
          36.53
         ],
         "xaxis": "x",
         "y": [
          6.22,
          6.66,
          6.3,
          6.23,
          6.99,
          6.2,
          6.07,
          5.94,
          6.01,
          6.02
         ],
         "yaxis": "y"
        },
        {
         "hoverinfo": "skip",
         "legendgroup": "",
         "line": {
          "color": "red"
         },
         "marker": {
          "color": "#636efa",
          "size": 10,
          "symbol": "diamond"
         },
         "mode": "lines",
         "name": "",
         "showlegend": false,
         "textfont": {
          "size": 15
         },
         "textposition": "bottom right",
         "type": "scatter",
         "x": [
          35.99,
          36.53,
          36.89,
          37.03,
          37.46,
          37.85,
          39.26,
          39.4,
          39.6,
          40.29
         ],
         "xaxis": "x",
         "y": [
          5.9578594564371015,
          6.038896659144932,
          6.092921460950151,
          6.113931106096626,
          6.178460730475083,
          6.2369875990974055,
          6.448584739501183,
          6.469594384647658,
          6.499608163428336,
          6.603155700221674
         ],
         "yaxis": "y"
        }
       ],
       "layout": {
        "annotations": [
         {
          "arrowcolor": "black",
          "arrowhead": 1,
          "arrowsize": 1,
          "arrowwidth": 2,
          "ax": 40.29,
          "axref": "x",
          "ay": 6.22,
          "ayref": "y",
          "showarrow": true,
          "text": "",
          "x": 39.6,
          "xref": "x",
          "y": 6.66,
          "yref": "y"
         },
         {
          "arrowcolor": "black",
          "arrowhead": 1,
          "arrowsize": 1,
          "arrowwidth": 2,
          "ax": 39.6,
          "axref": "x",
          "ay": 6.66,
          "ayref": "y",
          "showarrow": true,
          "text": "",
          "x": 39.4,
          "xref": "x",
          "y": 6.3,
          "yref": "y"
         },
         {
          "arrowcolor": "black",
          "arrowhead": 1,
          "arrowsize": 1,
          "arrowwidth": 2,
          "ax": 39.4,
          "axref": "x",
          "ay": 6.3,
          "ayref": "y",
          "showarrow": true,
          "text": "",
          "x": 37.46,
          "xref": "x",
          "y": 6.23,
          "yref": "y"
         },
         {
          "arrowcolor": "black",
          "arrowhead": 1,
          "arrowsize": 1,
          "arrowwidth": 2,
          "ax": 37.46,
          "axref": "x",
          "ay": 6.23,
          "ayref": "y",
          "showarrow": true,
          "text": "",
          "x": 39.26,
          "xref": "x",
          "y": 6.99,
          "yref": "y"
         },
         {
          "arrowcolor": "black",
          "arrowhead": 1,
          "arrowsize": 1,
          "arrowwidth": 2,
          "ax": 39.26,
          "axref": "x",
          "ay": 6.99,
          "ayref": "y",
          "showarrow": true,
          "text": "",
          "x": 37.85,
          "xref": "x",
          "y": 6.2,
          "yref": "y"
         },
         {
          "arrowcolor": "black",
          "arrowhead": 1,
          "arrowsize": 1,
          "arrowwidth": 2,
          "ax": 37.85,
          "axref": "x",
          "ay": 6.2,
          "ayref": "y",
          "showarrow": true,
          "text": "",
          "x": 37.03,
          "xref": "x",
          "y": 6.07,
          "yref": "y"
         },
         {
          "arrowcolor": "black",
          "arrowhead": 1,
          "arrowsize": 1,
          "arrowwidth": 2,
          "ax": 37.03,
          "axref": "x",
          "ay": 6.07,
          "ayref": "y",
          "showarrow": true,
          "text": "",
          "x": 35.99,
          "xref": "x",
          "y": 5.94,
          "yref": "y"
         },
         {
          "arrowcolor": "black",
          "arrowhead": 1,
          "arrowsize": 1,
          "arrowwidth": 2,
          "ax": 35.99,
          "axref": "x",
          "ay": 5.94,
          "ayref": "y",
          "showarrow": true,
          "text": "",
          "x": 36.89,
          "xref": "x",
          "y": 6.01,
          "yref": "y"
         },
         {
          "arrowcolor": "black",
          "arrowhead": 1,
          "arrowsize": 1,
          "arrowwidth": 2,
          "ax": 36.89,
          "axref": "x",
          "ay": 6.01,
          "ayref": "y",
          "showarrow": true,
          "text": "",
          "x": 36.53,
          "xref": "x",
          "y": 6.02,
          "yref": "y"
         }
        ],
        "legend": {
         "tracegroupgap": 0
        },
        "template": {
         "data": {
          "bar": [
           {
            "error_x": {
             "color": "#2a3f5f"
            },
            "error_y": {
             "color": "#2a3f5f"
            },
            "marker": {
             "line": {
              "color": "#E5ECF6",
              "width": 0.5
             },
             "pattern": {
              "fillmode": "overlay",
              "size": 10,
              "solidity": 0.2
             }
            },
            "type": "bar"
           }
          ],
          "barpolar": [
           {
            "marker": {
             "line": {
              "color": "#E5ECF6",
              "width": 0.5
             },
             "pattern": {
              "fillmode": "overlay",
              "size": 10,
              "solidity": 0.2
             }
            },
            "type": "barpolar"
           }
          ],
          "carpet": [
           {
            "aaxis": {
             "endlinecolor": "#2a3f5f",
             "gridcolor": "white",
             "linecolor": "white",
             "minorgridcolor": "white",
             "startlinecolor": "#2a3f5f"
            },
            "baxis": {
             "endlinecolor": "#2a3f5f",
             "gridcolor": "white",
             "linecolor": "white",
             "minorgridcolor": "white",
             "startlinecolor": "#2a3f5f"
            },
            "type": "carpet"
           }
          ],
          "choropleth": [
           {
            "colorbar": {
             "outlinewidth": 0,
             "ticks": ""
            },
            "type": "choropleth"
           }
          ],
          "contour": [
           {
            "colorbar": {
             "outlinewidth": 0,
             "ticks": ""
            },
            "colorscale": [
             [
              0,
              "#0d0887"
             ],
             [
              0.1111111111111111,
              "#46039f"
             ],
             [
              0.2222222222222222,
              "#7201a8"
             ],
             [
              0.3333333333333333,
              "#9c179e"
             ],
             [
              0.4444444444444444,
              "#bd3786"
             ],
             [
              0.5555555555555556,
              "#d8576b"
             ],
             [
              0.6666666666666666,
              "#ed7953"
             ],
             [
              0.7777777777777778,
              "#fb9f3a"
             ],
             [
              0.8888888888888888,
              "#fdca26"
             ],
             [
              1,
              "#f0f921"
             ]
            ],
            "type": "contour"
           }
          ],
          "contourcarpet": [
           {
            "colorbar": {
             "outlinewidth": 0,
             "ticks": ""
            },
            "type": "contourcarpet"
           }
          ],
          "heatmap": [
           {
            "colorbar": {
             "outlinewidth": 0,
             "ticks": ""
            },
            "colorscale": [
             [
              0,
              "#0d0887"
             ],
             [
              0.1111111111111111,
              "#46039f"
             ],
             [
              0.2222222222222222,
              "#7201a8"
             ],
             [
              0.3333333333333333,
              "#9c179e"
             ],
             [
              0.4444444444444444,
              "#bd3786"
             ],
             [
              0.5555555555555556,
              "#d8576b"
             ],
             [
              0.6666666666666666,
              "#ed7953"
             ],
             [
              0.7777777777777778,
              "#fb9f3a"
             ],
             [
              0.8888888888888888,
              "#fdca26"
             ],
             [
              1,
              "#f0f921"
             ]
            ],
            "type": "heatmap"
           }
          ],
          "heatmapgl": [
           {
            "colorbar": {
             "outlinewidth": 0,
             "ticks": ""
            },
            "colorscale": [
             [
              0,
              "#0d0887"
             ],
             [
              0.1111111111111111,
              "#46039f"
             ],
             [
              0.2222222222222222,
              "#7201a8"
             ],
             [
              0.3333333333333333,
              "#9c179e"
             ],
             [
              0.4444444444444444,
              "#bd3786"
             ],
             [
              0.5555555555555556,
              "#d8576b"
             ],
             [
              0.6666666666666666,
              "#ed7953"
             ],
             [
              0.7777777777777778,
              "#fb9f3a"
             ],
             [
              0.8888888888888888,
              "#fdca26"
             ],
             [
              1,
              "#f0f921"
             ]
            ],
            "type": "heatmapgl"
           }
          ],
          "histogram": [
           {
            "marker": {
             "pattern": {
              "fillmode": "overlay",
              "size": 10,
              "solidity": 0.2
             }
            },
            "type": "histogram"
           }
          ],
          "histogram2d": [
           {
            "colorbar": {
             "outlinewidth": 0,
             "ticks": ""
            },
            "colorscale": [
             [
              0,
              "#0d0887"
             ],
             [
              0.1111111111111111,
              "#46039f"
             ],
             [
              0.2222222222222222,
              "#7201a8"
             ],
             [
              0.3333333333333333,
              "#9c179e"
             ],
             [
              0.4444444444444444,
              "#bd3786"
             ],
             [
              0.5555555555555556,
              "#d8576b"
             ],
             [
              0.6666666666666666,
              "#ed7953"
             ],
             [
              0.7777777777777778,
              "#fb9f3a"
             ],
             [
              0.8888888888888888,
              "#fdca26"
             ],
             [
              1,
              "#f0f921"
             ]
            ],
            "type": "histogram2d"
           }
          ],
          "histogram2dcontour": [
           {
            "colorbar": {
             "outlinewidth": 0,
             "ticks": ""
            },
            "colorscale": [
             [
              0,
              "#0d0887"
             ],
             [
              0.1111111111111111,
              "#46039f"
             ],
             [
              0.2222222222222222,
              "#7201a8"
             ],
             [
              0.3333333333333333,
              "#9c179e"
             ],
             [
              0.4444444444444444,
              "#bd3786"
             ],
             [
              0.5555555555555556,
              "#d8576b"
             ],
             [
              0.6666666666666666,
              "#ed7953"
             ],
             [
              0.7777777777777778,
              "#fb9f3a"
             ],
             [
              0.8888888888888888,
              "#fdca26"
             ],
             [
              1,
              "#f0f921"
             ]
            ],
            "type": "histogram2dcontour"
           }
          ],
          "mesh3d": [
           {
            "colorbar": {
             "outlinewidth": 0,
             "ticks": ""
            },
            "type": "mesh3d"
           }
          ],
          "parcoords": [
           {
            "line": {
             "colorbar": {
              "outlinewidth": 0,
              "ticks": ""
             }
            },
            "type": "parcoords"
           }
          ],
          "pie": [
           {
            "automargin": true,
            "type": "pie"
           }
          ],
          "scatter": [
           {
            "fillpattern": {
             "fillmode": "overlay",
             "size": 10,
             "solidity": 0.2
            },
            "type": "scatter"
           }
          ],
          "scatter3d": [
           {
            "line": {
             "colorbar": {
              "outlinewidth": 0,
              "ticks": ""
             }
            },
            "marker": {
             "colorbar": {
              "outlinewidth": 0,
              "ticks": ""
             }
            },
            "type": "scatter3d"
           }
          ],
          "scattercarpet": [
           {
            "marker": {
             "colorbar": {
              "outlinewidth": 0,
              "ticks": ""
             }
            },
            "type": "scattercarpet"
           }
          ],
          "scattergeo": [
           {
            "marker": {
             "colorbar": {
              "outlinewidth": 0,
              "ticks": ""
             }
            },
            "type": "scattergeo"
           }
          ],
          "scattergl": [
           {
            "marker": {
             "colorbar": {
              "outlinewidth": 0,
              "ticks": ""
             }
            },
            "type": "scattergl"
           }
          ],
          "scattermapbox": [
           {
            "marker": {
             "colorbar": {
              "outlinewidth": 0,
              "ticks": ""
             }
            },
            "type": "scattermapbox"
           }
          ],
          "scatterpolar": [
           {
            "marker": {
             "colorbar": {
              "outlinewidth": 0,
              "ticks": ""
             }
            },
            "type": "scatterpolar"
           }
          ],
          "scatterpolargl": [
           {
            "marker": {
             "colorbar": {
              "outlinewidth": 0,
              "ticks": ""
             }
            },
            "type": "scatterpolargl"
           }
          ],
          "scatterternary": [
           {
            "marker": {
             "colorbar": {
              "outlinewidth": 0,
              "ticks": ""
             }
            },
            "type": "scatterternary"
           }
          ],
          "surface": [
           {
            "colorbar": {
             "outlinewidth": 0,
             "ticks": ""
            },
            "colorscale": [
             [
              0,
              "#0d0887"
             ],
             [
              0.1111111111111111,
              "#46039f"
             ],
             [
              0.2222222222222222,
              "#7201a8"
             ],
             [
              0.3333333333333333,
              "#9c179e"
             ],
             [
              0.4444444444444444,
              "#bd3786"
             ],
             [
              0.5555555555555556,
              "#d8576b"
             ],
             [
              0.6666666666666666,
              "#ed7953"
             ],
             [
              0.7777777777777778,
              "#fb9f3a"
             ],
             [
              0.8888888888888888,
              "#fdca26"
             ],
             [
              1,
              "#f0f921"
             ]
            ],
            "type": "surface"
           }
          ],
          "table": [
           {
            "cells": {
             "fill": {
              "color": "#EBF0F8"
             },
             "line": {
              "color": "white"
             }
            },
            "header": {
             "fill": {
              "color": "#C8D4E3"
             },
             "line": {
              "color": "white"
             }
            },
            "type": "table"
           }
          ]
         },
         "layout": {
          "annotationdefaults": {
           "arrowcolor": "#2a3f5f",
           "arrowhead": 0,
           "arrowwidth": 1
          },
          "autotypenumbers": "strict",
          "coloraxis": {
           "colorbar": {
            "outlinewidth": 0,
            "ticks": ""
           }
          },
          "colorscale": {
           "diverging": [
            [
             0,
             "#8e0152"
            ],
            [
             0.1,
             "#c51b7d"
            ],
            [
             0.2,
             "#de77ae"
            ],
            [
             0.3,
             "#f1b6da"
            ],
            [
             0.4,
             "#fde0ef"
            ],
            [
             0.5,
             "#f7f7f7"
            ],
            [
             0.6,
             "#e6f5d0"
            ],
            [
             0.7,
             "#b8e186"
            ],
            [
             0.8,
             "#7fbc41"
            ],
            [
             0.9,
             "#4d9221"
            ],
            [
             1,
             "#276419"
            ]
           ],
           "sequential": [
            [
             0,
             "#0d0887"
            ],
            [
             0.1111111111111111,
             "#46039f"
            ],
            [
             0.2222222222222222,
             "#7201a8"
            ],
            [
             0.3333333333333333,
             "#9c179e"
            ],
            [
             0.4444444444444444,
             "#bd3786"
            ],
            [
             0.5555555555555556,
             "#d8576b"
            ],
            [
             0.6666666666666666,
             "#ed7953"
            ],
            [
             0.7777777777777778,
             "#fb9f3a"
            ],
            [
             0.8888888888888888,
             "#fdca26"
            ],
            [
             1,
             "#f0f921"
            ]
           ],
           "sequentialminus": [
            [
             0,
             "#0d0887"
            ],
            [
             0.1111111111111111,
             "#46039f"
            ],
            [
             0.2222222222222222,
             "#7201a8"
            ],
            [
             0.3333333333333333,
             "#9c179e"
            ],
            [
             0.4444444444444444,
             "#bd3786"
            ],
            [
             0.5555555555555556,
             "#d8576b"
            ],
            [
             0.6666666666666666,
             "#ed7953"
            ],
            [
             0.7777777777777778,
             "#fb9f3a"
            ],
            [
             0.8888888888888888,
             "#fdca26"
            ],
            [
             1,
             "#f0f921"
            ]
           ]
          },
          "colorway": [
           "#636efa",
           "#EF553B",
           "#00cc96",
           "#ab63fa",
           "#FFA15A",
           "#19d3f3",
           "#FF6692",
           "#B6E880",
           "#FF97FF",
           "#FECB52"
          ],
          "font": {
           "color": "#2a3f5f"
          },
          "geo": {
           "bgcolor": "white",
           "lakecolor": "white",
           "landcolor": "#E5ECF6",
           "showlakes": true,
           "showland": true,
           "subunitcolor": "white"
          },
          "hoverlabel": {
           "align": "left"
          },
          "hovermode": "closest",
          "mapbox": {
           "style": "light"
          },
          "paper_bgcolor": "white",
          "plot_bgcolor": "#E5ECF6",
          "polar": {
           "angularaxis": {
            "gridcolor": "white",
            "linecolor": "white",
            "ticks": ""
           },
           "bgcolor": "#E5ECF6",
           "radialaxis": {
            "gridcolor": "white",
            "linecolor": "white",
            "ticks": ""
           }
          },
          "scene": {
           "xaxis": {
            "backgroundcolor": "#E5ECF6",
            "gridcolor": "white",
            "gridwidth": 2,
            "linecolor": "white",
            "showbackground": true,
            "ticks": "",
            "zerolinecolor": "white"
           },
           "yaxis": {
            "backgroundcolor": "#E5ECF6",
            "gridcolor": "white",
            "gridwidth": 2,
            "linecolor": "white",
            "showbackground": true,
            "ticks": "",
            "zerolinecolor": "white"
           },
           "zaxis": {
            "backgroundcolor": "#E5ECF6",
            "gridcolor": "white",
            "gridwidth": 2,
            "linecolor": "white",
            "showbackground": true,
            "ticks": "",
            "zerolinecolor": "white"
           }
          },
          "shapedefaults": {
           "line": {
            "color": "#2a3f5f"
           }
          },
          "ternary": {
           "aaxis": {
            "gridcolor": "white",
            "linecolor": "white",
            "ticks": ""
           },
           "baxis": {
            "gridcolor": "white",
            "linecolor": "white",
            "ticks": ""
           },
           "bgcolor": "#E5ECF6",
           "caxis": {
            "gridcolor": "white",
            "linecolor": "white",
            "ticks": ""
           }
          },
          "title": {
           "x": 0.05
          },
          "xaxis": {
           "automargin": true,
           "gridcolor": "white",
           "linecolor": "white",
           "ticks": "",
           "title": {
            "standoff": 15
           },
           "zerolinecolor": "white",
           "zerolinewidth": 2
          },
          "yaxis": {
           "automargin": true,
           "gridcolor": "white",
           "linecolor": "white",
           "ticks": "",
           "title": {
            "standoff": 15
           },
           "zerolinecolor": "white",
           "zerolinewidth": 2
          }
         }
        },
        "title": {
         "text": "Life Satisfaction/Gini index Scatterplot (Thailand)"
        },
        "xaxis": {
         "anchor": "y",
         "domain": [
          0,
          1
         ],
         "title": {
          "text": "Gini index"
         }
        },
        "yaxis": {
         "anchor": "x",
         "domain": [
          0,
          1
         ],
         "title": {
          "text": "Life Satisfaction"
         }
        }
       }
      },
      "text/html": [
       "<div>                            <div id=\"958aa66a-2491-4a2b-843a-8da5dfbbf592\" class=\"plotly-graph-div\" style=\"height:525px; width:100%;\"></div>            <script type=\"text/javascript\">                require([\"plotly\"], function(Plotly) {                    window.PLOTLYENV=window.PLOTLYENV || {};                                    if (document.getElementById(\"958aa66a-2491-4a2b-843a-8da5dfbbf592\")) {                    Plotly.newPlot(                        \"958aa66a-2491-4a2b-843a-8da5dfbbf592\",                        [{\"legendgroup\":\"\",\"marker\":{\"color\":\"#636efa\",\"symbol\":\"diamond\",\"size\":10},\"mode\":\"markers+text\",\"name\":\"\",\"orientation\":\"v\",\"showlegend\":false,\"text\":[2008.0,2009.0,2010.0,2011.0,2012.0,2013.0,2014.0,2015.0,2016.0,2017.0],\"x\":[40.29,39.6,39.4,37.46,39.26,37.85,37.03,35.99,36.89,36.53],\"xaxis\":\"x\",\"y\":[6.22,6.66,6.3,6.23,6.99,6.2,6.07,5.94,6.01,6.02],\"yaxis\":\"y\",\"type\":\"scatter\",\"textfont\":{\"size\":15},\"hoverinfo\":\"skip\",\"textposition\":\"bottom right\"},{\"legendgroup\":\"\",\"line\":{\"color\":\"red\"},\"marker\":{\"color\":\"#636efa\",\"symbol\":\"diamond\",\"size\":10},\"mode\":\"lines\",\"name\":\"\",\"showlegend\":false,\"x\":[35.99,36.53,36.89,37.03,37.46,37.85,39.26,39.4,39.6,40.29],\"xaxis\":\"x\",\"y\":[5.9578594564371015,6.038896659144932,6.092921460950151,6.113931106096626,6.178460730475083,6.2369875990974055,6.448584739501183,6.469594384647658,6.499608163428336,6.603155700221674],\"yaxis\":\"y\",\"type\":\"scatter\",\"textfont\":{\"size\":15},\"hoverinfo\":\"skip\",\"textposition\":\"bottom right\"}],                        {\"template\":{\"data\":{\"histogram2dcontour\":[{\"type\":\"histogram2dcontour\",\"colorbar\":{\"outlinewidth\":0,\"ticks\":\"\"},\"colorscale\":[[0.0,\"#0d0887\"],[0.1111111111111111,\"#46039f\"],[0.2222222222222222,\"#7201a8\"],[0.3333333333333333,\"#9c179e\"],[0.4444444444444444,\"#bd3786\"],[0.5555555555555556,\"#d8576b\"],[0.6666666666666666,\"#ed7953\"],[0.7777777777777778,\"#fb9f3a\"],[0.8888888888888888,\"#fdca26\"],[1.0,\"#f0f921\"]]}],\"choropleth\":[{\"type\":\"choropleth\",\"colorbar\":{\"outlinewidth\":0,\"ticks\":\"\"}}],\"histogram2d\":[{\"type\":\"histogram2d\",\"colorbar\":{\"outlinewidth\":0,\"ticks\":\"\"},\"colorscale\":[[0.0,\"#0d0887\"],[0.1111111111111111,\"#46039f\"],[0.2222222222222222,\"#7201a8\"],[0.3333333333333333,\"#9c179e\"],[0.4444444444444444,\"#bd3786\"],[0.5555555555555556,\"#d8576b\"],[0.6666666666666666,\"#ed7953\"],[0.7777777777777778,\"#fb9f3a\"],[0.8888888888888888,\"#fdca26\"],[1.0,\"#f0f921\"]]}],\"heatmap\":[{\"type\":\"heatmap\",\"colorbar\":{\"outlinewidth\":0,\"ticks\":\"\"},\"colorscale\":[[0.0,\"#0d0887\"],[0.1111111111111111,\"#46039f\"],[0.2222222222222222,\"#7201a8\"],[0.3333333333333333,\"#9c179e\"],[0.4444444444444444,\"#bd3786\"],[0.5555555555555556,\"#d8576b\"],[0.6666666666666666,\"#ed7953\"],[0.7777777777777778,\"#fb9f3a\"],[0.8888888888888888,\"#fdca26\"],[1.0,\"#f0f921\"]]}],\"heatmapgl\":[{\"type\":\"heatmapgl\",\"colorbar\":{\"outlinewidth\":0,\"ticks\":\"\"},\"colorscale\":[[0.0,\"#0d0887\"],[0.1111111111111111,\"#46039f\"],[0.2222222222222222,\"#7201a8\"],[0.3333333333333333,\"#9c179e\"],[0.4444444444444444,\"#bd3786\"],[0.5555555555555556,\"#d8576b\"],[0.6666666666666666,\"#ed7953\"],[0.7777777777777778,\"#fb9f3a\"],[0.8888888888888888,\"#fdca26\"],[1.0,\"#f0f921\"]]}],\"contourcarpet\":[{\"type\":\"contourcarpet\",\"colorbar\":{\"outlinewidth\":0,\"ticks\":\"\"}}],\"contour\":[{\"type\":\"contour\",\"colorbar\":{\"outlinewidth\":0,\"ticks\":\"\"},\"colorscale\":[[0.0,\"#0d0887\"],[0.1111111111111111,\"#46039f\"],[0.2222222222222222,\"#7201a8\"],[0.3333333333333333,\"#9c179e\"],[0.4444444444444444,\"#bd3786\"],[0.5555555555555556,\"#d8576b\"],[0.6666666666666666,\"#ed7953\"],[0.7777777777777778,\"#fb9f3a\"],[0.8888888888888888,\"#fdca26\"],[1.0,\"#f0f921\"]]}],\"surface\":[{\"type\":\"surface\",\"colorbar\":{\"outlinewidth\":0,\"ticks\":\"\"},\"colorscale\":[[0.0,\"#0d0887\"],[0.1111111111111111,\"#46039f\"],[0.2222222222222222,\"#7201a8\"],[0.3333333333333333,\"#9c179e\"],[0.4444444444444444,\"#bd3786\"],[0.5555555555555556,\"#d8576b\"],[0.6666666666666666,\"#ed7953\"],[0.7777777777777778,\"#fb9f3a\"],[0.8888888888888888,\"#fdca26\"],[1.0,\"#f0f921\"]]}],\"mesh3d\":[{\"type\":\"mesh3d\",\"colorbar\":{\"outlinewidth\":0,\"ticks\":\"\"}}],\"scatter\":[{\"fillpattern\":{\"fillmode\":\"overlay\",\"size\":10,\"solidity\":0.2},\"type\":\"scatter\"}],\"parcoords\":[{\"type\":\"parcoords\",\"line\":{\"colorbar\":{\"outlinewidth\":0,\"ticks\":\"\"}}}],\"scatterpolargl\":[{\"type\":\"scatterpolargl\",\"marker\":{\"colorbar\":{\"outlinewidth\":0,\"ticks\":\"\"}}}],\"bar\":[{\"error_x\":{\"color\":\"#2a3f5f\"},\"error_y\":{\"color\":\"#2a3f5f\"},\"marker\":{\"line\":{\"color\":\"#E5ECF6\",\"width\":0.5},\"pattern\":{\"fillmode\":\"overlay\",\"size\":10,\"solidity\":0.2}},\"type\":\"bar\"}],\"scattergeo\":[{\"type\":\"scattergeo\",\"marker\":{\"colorbar\":{\"outlinewidth\":0,\"ticks\":\"\"}}}],\"scatterpolar\":[{\"type\":\"scatterpolar\",\"marker\":{\"colorbar\":{\"outlinewidth\":0,\"ticks\":\"\"}}}],\"histogram\":[{\"marker\":{\"pattern\":{\"fillmode\":\"overlay\",\"size\":10,\"solidity\":0.2}},\"type\":\"histogram\"}],\"scattergl\":[{\"type\":\"scattergl\",\"marker\":{\"colorbar\":{\"outlinewidth\":0,\"ticks\":\"\"}}}],\"scatter3d\":[{\"type\":\"scatter3d\",\"line\":{\"colorbar\":{\"outlinewidth\":0,\"ticks\":\"\"}},\"marker\":{\"colorbar\":{\"outlinewidth\":0,\"ticks\":\"\"}}}],\"scattermapbox\":[{\"type\":\"scattermapbox\",\"marker\":{\"colorbar\":{\"outlinewidth\":0,\"ticks\":\"\"}}}],\"scatterternary\":[{\"type\":\"scatterternary\",\"marker\":{\"colorbar\":{\"outlinewidth\":0,\"ticks\":\"\"}}}],\"scattercarpet\":[{\"type\":\"scattercarpet\",\"marker\":{\"colorbar\":{\"outlinewidth\":0,\"ticks\":\"\"}}}],\"carpet\":[{\"aaxis\":{\"endlinecolor\":\"#2a3f5f\",\"gridcolor\":\"white\",\"linecolor\":\"white\",\"minorgridcolor\":\"white\",\"startlinecolor\":\"#2a3f5f\"},\"baxis\":{\"endlinecolor\":\"#2a3f5f\",\"gridcolor\":\"white\",\"linecolor\":\"white\",\"minorgridcolor\":\"white\",\"startlinecolor\":\"#2a3f5f\"},\"type\":\"carpet\"}],\"table\":[{\"cells\":{\"fill\":{\"color\":\"#EBF0F8\"},\"line\":{\"color\":\"white\"}},\"header\":{\"fill\":{\"color\":\"#C8D4E3\"},\"line\":{\"color\":\"white\"}},\"type\":\"table\"}],\"barpolar\":[{\"marker\":{\"line\":{\"color\":\"#E5ECF6\",\"width\":0.5},\"pattern\":{\"fillmode\":\"overlay\",\"size\":10,\"solidity\":0.2}},\"type\":\"barpolar\"}],\"pie\":[{\"automargin\":true,\"type\":\"pie\"}]},\"layout\":{\"autotypenumbers\":\"strict\",\"colorway\":[\"#636efa\",\"#EF553B\",\"#00cc96\",\"#ab63fa\",\"#FFA15A\",\"#19d3f3\",\"#FF6692\",\"#B6E880\",\"#FF97FF\",\"#FECB52\"],\"font\":{\"color\":\"#2a3f5f\"},\"hovermode\":\"closest\",\"hoverlabel\":{\"align\":\"left\"},\"paper_bgcolor\":\"white\",\"plot_bgcolor\":\"#E5ECF6\",\"polar\":{\"bgcolor\":\"#E5ECF6\",\"angularaxis\":{\"gridcolor\":\"white\",\"linecolor\":\"white\",\"ticks\":\"\"},\"radialaxis\":{\"gridcolor\":\"white\",\"linecolor\":\"white\",\"ticks\":\"\"}},\"ternary\":{\"bgcolor\":\"#E5ECF6\",\"aaxis\":{\"gridcolor\":\"white\",\"linecolor\":\"white\",\"ticks\":\"\"},\"baxis\":{\"gridcolor\":\"white\",\"linecolor\":\"white\",\"ticks\":\"\"},\"caxis\":{\"gridcolor\":\"white\",\"linecolor\":\"white\",\"ticks\":\"\"}},\"coloraxis\":{\"colorbar\":{\"outlinewidth\":0,\"ticks\":\"\"}},\"colorscale\":{\"sequential\":[[0.0,\"#0d0887\"],[0.1111111111111111,\"#46039f\"],[0.2222222222222222,\"#7201a8\"],[0.3333333333333333,\"#9c179e\"],[0.4444444444444444,\"#bd3786\"],[0.5555555555555556,\"#d8576b\"],[0.6666666666666666,\"#ed7953\"],[0.7777777777777778,\"#fb9f3a\"],[0.8888888888888888,\"#fdca26\"],[1.0,\"#f0f921\"]],\"sequentialminus\":[[0.0,\"#0d0887\"],[0.1111111111111111,\"#46039f\"],[0.2222222222222222,\"#7201a8\"],[0.3333333333333333,\"#9c179e\"],[0.4444444444444444,\"#bd3786\"],[0.5555555555555556,\"#d8576b\"],[0.6666666666666666,\"#ed7953\"],[0.7777777777777778,\"#fb9f3a\"],[0.8888888888888888,\"#fdca26\"],[1.0,\"#f0f921\"]],\"diverging\":[[0,\"#8e0152\"],[0.1,\"#c51b7d\"],[0.2,\"#de77ae\"],[0.3,\"#f1b6da\"],[0.4,\"#fde0ef\"],[0.5,\"#f7f7f7\"],[0.6,\"#e6f5d0\"],[0.7,\"#b8e186\"],[0.8,\"#7fbc41\"],[0.9,\"#4d9221\"],[1,\"#276419\"]]},\"xaxis\":{\"gridcolor\":\"white\",\"linecolor\":\"white\",\"ticks\":\"\",\"title\":{\"standoff\":15},\"zerolinecolor\":\"white\",\"automargin\":true,\"zerolinewidth\":2},\"yaxis\":{\"gridcolor\":\"white\",\"linecolor\":\"white\",\"ticks\":\"\",\"title\":{\"standoff\":15},\"zerolinecolor\":\"white\",\"automargin\":true,\"zerolinewidth\":2},\"scene\":{\"xaxis\":{\"backgroundcolor\":\"#E5ECF6\",\"gridcolor\":\"white\",\"linecolor\":\"white\",\"showbackground\":true,\"ticks\":\"\",\"zerolinecolor\":\"white\",\"gridwidth\":2},\"yaxis\":{\"backgroundcolor\":\"#E5ECF6\",\"gridcolor\":\"white\",\"linecolor\":\"white\",\"showbackground\":true,\"ticks\":\"\",\"zerolinecolor\":\"white\",\"gridwidth\":2},\"zaxis\":{\"backgroundcolor\":\"#E5ECF6\",\"gridcolor\":\"white\",\"linecolor\":\"white\",\"showbackground\":true,\"ticks\":\"\",\"zerolinecolor\":\"white\",\"gridwidth\":2}},\"shapedefaults\":{\"line\":{\"color\":\"#2a3f5f\"}},\"annotationdefaults\":{\"arrowcolor\":\"#2a3f5f\",\"arrowhead\":0,\"arrowwidth\":1},\"geo\":{\"bgcolor\":\"white\",\"landcolor\":\"#E5ECF6\",\"subunitcolor\":\"white\",\"showland\":true,\"showlakes\":true,\"lakecolor\":\"white\"},\"title\":{\"x\":0.05},\"mapbox\":{\"style\":\"light\"}}},\"xaxis\":{\"anchor\":\"y\",\"domain\":[0.0,1.0],\"title\":{\"text\":\"Gini index\"}},\"yaxis\":{\"anchor\":\"x\",\"domain\":[0.0,1.0],\"title\":{\"text\":\"Life Satisfaction\"}},\"legend\":{\"tracegroupgap\":0},\"title\":{\"text\":\"Life Satisfaction/Gini index Scatterplot (Thailand)\"},\"annotations\":[{\"arrowcolor\":\"black\",\"arrowhead\":1,\"arrowsize\":1,\"arrowwidth\":2,\"ax\":40.29,\"axref\":\"x\",\"ay\":6.22,\"ayref\":\"y\",\"showarrow\":true,\"text\":\"\",\"x\":39.6,\"xref\":\"x\",\"y\":6.66,\"yref\":\"y\"},{\"arrowcolor\":\"black\",\"arrowhead\":1,\"arrowsize\":1,\"arrowwidth\":2,\"ax\":39.6,\"axref\":\"x\",\"ay\":6.66,\"ayref\":\"y\",\"showarrow\":true,\"text\":\"\",\"x\":39.4,\"xref\":\"x\",\"y\":6.3,\"yref\":\"y\"},{\"arrowcolor\":\"black\",\"arrowhead\":1,\"arrowsize\":1,\"arrowwidth\":2,\"ax\":39.4,\"axref\":\"x\",\"ay\":6.3,\"ayref\":\"y\",\"showarrow\":true,\"text\":\"\",\"x\":37.46,\"xref\":\"x\",\"y\":6.23,\"yref\":\"y\"},{\"arrowcolor\":\"black\",\"arrowhead\":1,\"arrowsize\":1,\"arrowwidth\":2,\"ax\":37.46,\"axref\":\"x\",\"ay\":6.23,\"ayref\":\"y\",\"showarrow\":true,\"text\":\"\",\"x\":39.26,\"xref\":\"x\",\"y\":6.99,\"yref\":\"y\"},{\"arrowcolor\":\"black\",\"arrowhead\":1,\"arrowsize\":1,\"arrowwidth\":2,\"ax\":39.26,\"axref\":\"x\",\"ay\":6.99,\"ayref\":\"y\",\"showarrow\":true,\"text\":\"\",\"x\":37.85,\"xref\":\"x\",\"y\":6.2,\"yref\":\"y\"},{\"arrowcolor\":\"black\",\"arrowhead\":1,\"arrowsize\":1,\"arrowwidth\":2,\"ax\":37.85,\"axref\":\"x\",\"ay\":6.2,\"ayref\":\"y\",\"showarrow\":true,\"text\":\"\",\"x\":37.03,\"xref\":\"x\",\"y\":6.07,\"yref\":\"y\"},{\"arrowcolor\":\"black\",\"arrowhead\":1,\"arrowsize\":1,\"arrowwidth\":2,\"ax\":37.03,\"axref\":\"x\",\"ay\":6.07,\"ayref\":\"y\",\"showarrow\":true,\"text\":\"\",\"x\":35.99,\"xref\":\"x\",\"y\":5.94,\"yref\":\"y\"},{\"arrowcolor\":\"black\",\"arrowhead\":1,\"arrowsize\":1,\"arrowwidth\":2,\"ax\":35.99,\"axref\":\"x\",\"ay\":5.94,\"ayref\":\"y\",\"showarrow\":true,\"text\":\"\",\"x\":36.89,\"xref\":\"x\",\"y\":6.01,\"yref\":\"y\"},{\"arrowcolor\":\"black\",\"arrowhead\":1,\"arrowsize\":1,\"arrowwidth\":2,\"ax\":36.89,\"axref\":\"x\",\"ay\":6.01,\"ayref\":\"y\",\"showarrow\":true,\"text\":\"\",\"x\":36.53,\"xref\":\"x\",\"y\":6.02,\"yref\":\"y\"}]},                        {\"responsive\": true}                    ).then(function(){\n",
       "                            \n",
       "var gd = document.getElementById('958aa66a-2491-4a2b-843a-8da5dfbbf592');\n",
       "var x = new MutationObserver(function (mutations, observer) {{\n",
       "        var display = window.getComputedStyle(gd).display;\n",
       "        if (!display || display === 'none') {{\n",
       "            console.log([gd, 'removed!']);\n",
       "            Plotly.purge(gd);\n",
       "            observer.disconnect();\n",
       "        }}\n",
       "}});\n",
       "\n",
       "// Listen for the removal of the full notebook cells\n",
       "var notebookContainer = gd.closest('#notebook-container');\n",
       "if (notebookContainer) {{\n",
       "    x.observe(notebookContainer, {childList: true});\n",
       "}}\n",
       "\n",
       "// Listen for the clearing of the current output cell\n",
       "var outputEl = gd.closest('.output');\n",
       "if (outputEl) {{\n",
       "    x.observe(outputEl, {childList: true});\n",
       "}}\n",
       "\n",
       "                        })                };                });            </script>        </div>"
      ]
     },
     "metadata": {},
     "output_type": "display_data"
    }
   ],
   "source": [
    "arrow_scatterplot_gdp(\"THA\", df).show()\n",
    "arrow_scatterplot_gini(\"THA\", df).show()"
   ]
  },
  {
   "cell_type": "code",
   "execution_count": 19,
   "id": "b6ea61b7",
   "metadata": {},
   "outputs": [
    {
     "data": {
      "application/vnd.plotly.v1+json": {
       "config": {
        "plotlyServerURL": "https://plot.ly"
       },
       "data": [
        {
         "hoverinfo": "skip",
         "legendgroup": "",
         "marker": {
          "color": "#636efa",
          "size": 10,
          "symbol": "diamond"
         },
         "mode": "markers+text",
         "name": "",
         "orientation": "v",
         "showlegend": false,
         "text": [
          2008,
          2009,
          2010,
          2011,
          2012,
          2013,
          2014,
          2015,
          2016,
          2017
         ],
         "textfont": {
          "size": 15
         },
         "textposition": "bottom right",
         "type": "scatter",
         "x": [
          47573,
          44978,
          46930,
          49685,
          49799,
          49881,
          50771,
          51084,
          51803,
          52953
         ],
         "xaxis": "x",
         "y": [
          6.72,
          6.62,
          6.7,
          6.97,
          6.98,
          7.04,
          6.87,
          7.07,
          7.12,
          7.04
         ],
         "yaxis": "y"
        },
        {
         "hoverinfo": "skip",
         "legendgroup": "",
         "line": {
          "color": "red"
         },
         "marker": {
          "color": "#636efa",
          "size": 10,
          "symbol": "diamond"
         },
         "mode": "lines",
         "name": "",
         "showlegend": false,
         "textfont": {
          "size": 15
         },
         "textposition": "bottom right",
         "type": "scatter",
         "x": [
          44978,
          46930,
          47573,
          49685,
          49799,
          49881,
          50771,
          51084,
          51803,
          52953
         ],
         "xaxis": "x",
         "y": [
          6.6135943153263455,
          6.741544902379561,
          6.783692559897602,
          6.922130899987966,
          6.929603424026935,
          6.934978397458473,
          6.993316523727613,
          7.013833190606535,
          7.060962530817223,
          7.136343255771729
         ],
         "yaxis": "y"
        }
       ],
       "layout": {
        "annotations": [
         {
          "arrowcolor": "black",
          "arrowhead": 1,
          "arrowsize": 1,
          "arrowwidth": 2,
          "ax": 47573,
          "axref": "x",
          "ay": 6.72,
          "ayref": "y",
          "showarrow": true,
          "text": "",
          "x": 44978,
          "xref": "x",
          "y": 6.62,
          "yref": "y"
         },
         {
          "arrowcolor": "black",
          "arrowhead": 1,
          "arrowsize": 1,
          "arrowwidth": 2,
          "ax": 44978,
          "axref": "x",
          "ay": 6.62,
          "ayref": "y",
          "showarrow": true,
          "text": "",
          "x": 46930,
          "xref": "x",
          "y": 6.7,
          "yref": "y"
         },
         {
          "arrowcolor": "black",
          "arrowhead": 1,
          "arrowsize": 1,
          "arrowwidth": 2,
          "ax": 46930,
          "axref": "x",
          "ay": 6.7,
          "ayref": "y",
          "showarrow": true,
          "text": "",
          "x": 49685,
          "xref": "x",
          "y": 6.97,
          "yref": "y"
         },
         {
          "arrowcolor": "black",
          "arrowhead": 1,
          "arrowsize": 1,
          "arrowwidth": 2,
          "ax": 49685,
          "axref": "x",
          "ay": 6.97,
          "ayref": "y",
          "showarrow": true,
          "text": "",
          "x": 49799,
          "xref": "x",
          "y": 6.98,
          "yref": "y"
         },
         {
          "arrowcolor": "black",
          "arrowhead": 1,
          "arrowsize": 1,
          "arrowwidth": 2,
          "ax": 49799,
          "axref": "x",
          "ay": 6.98,
          "ayref": "y",
          "showarrow": true,
          "text": "",
          "x": 49881,
          "xref": "x",
          "y": 7.04,
          "yref": "y"
         },
         {
          "arrowcolor": "black",
          "arrowhead": 1,
          "arrowsize": 1,
          "arrowwidth": 2,
          "ax": 49881,
          "axref": "x",
          "ay": 7.04,
          "ayref": "y",
          "showarrow": true,
          "text": "",
          "x": 50771,
          "xref": "x",
          "y": 6.87,
          "yref": "y"
         },
         {
          "arrowcolor": "black",
          "arrowhead": 1,
          "arrowsize": 1,
          "arrowwidth": 2,
          "ax": 50771,
          "axref": "x",
          "ay": 6.87,
          "ayref": "y",
          "showarrow": true,
          "text": "",
          "x": 51084,
          "xref": "x",
          "y": 7.07,
          "yref": "y"
         },
         {
          "arrowcolor": "black",
          "arrowhead": 1,
          "arrowsize": 1,
          "arrowwidth": 2,
          "ax": 51084,
          "axref": "x",
          "ay": 7.07,
          "ayref": "y",
          "showarrow": true,
          "text": "",
          "x": 51803,
          "xref": "x",
          "y": 7.12,
          "yref": "y"
         },
         {
          "arrowcolor": "black",
          "arrowhead": 1,
          "arrowsize": 1,
          "arrowwidth": 2,
          "ax": 51803,
          "axref": "x",
          "ay": 7.12,
          "ayref": "y",
          "showarrow": true,
          "text": "",
          "x": 52953,
          "xref": "x",
          "y": 7.04,
          "yref": "y"
         }
        ],
        "legend": {
         "tracegroupgap": 0
        },
        "template": {
         "data": {
          "bar": [
           {
            "error_x": {
             "color": "#2a3f5f"
            },
            "error_y": {
             "color": "#2a3f5f"
            },
            "marker": {
             "line": {
              "color": "#E5ECF6",
              "width": 0.5
             },
             "pattern": {
              "fillmode": "overlay",
              "size": 10,
              "solidity": 0.2
             }
            },
            "type": "bar"
           }
          ],
          "barpolar": [
           {
            "marker": {
             "line": {
              "color": "#E5ECF6",
              "width": 0.5
             },
             "pattern": {
              "fillmode": "overlay",
              "size": 10,
              "solidity": 0.2
             }
            },
            "type": "barpolar"
           }
          ],
          "carpet": [
           {
            "aaxis": {
             "endlinecolor": "#2a3f5f",
             "gridcolor": "white",
             "linecolor": "white",
             "minorgridcolor": "white",
             "startlinecolor": "#2a3f5f"
            },
            "baxis": {
             "endlinecolor": "#2a3f5f",
             "gridcolor": "white",
             "linecolor": "white",
             "minorgridcolor": "white",
             "startlinecolor": "#2a3f5f"
            },
            "type": "carpet"
           }
          ],
          "choropleth": [
           {
            "colorbar": {
             "outlinewidth": 0,
             "ticks": ""
            },
            "type": "choropleth"
           }
          ],
          "contour": [
           {
            "colorbar": {
             "outlinewidth": 0,
             "ticks": ""
            },
            "colorscale": [
             [
              0,
              "#0d0887"
             ],
             [
              0.1111111111111111,
              "#46039f"
             ],
             [
              0.2222222222222222,
              "#7201a8"
             ],
             [
              0.3333333333333333,
              "#9c179e"
             ],
             [
              0.4444444444444444,
              "#bd3786"
             ],
             [
              0.5555555555555556,
              "#d8576b"
             ],
             [
              0.6666666666666666,
              "#ed7953"
             ],
             [
              0.7777777777777778,
              "#fb9f3a"
             ],
             [
              0.8888888888888888,
              "#fdca26"
             ],
             [
              1,
              "#f0f921"
             ]
            ],
            "type": "contour"
           }
          ],
          "contourcarpet": [
           {
            "colorbar": {
             "outlinewidth": 0,
             "ticks": ""
            },
            "type": "contourcarpet"
           }
          ],
          "heatmap": [
           {
            "colorbar": {
             "outlinewidth": 0,
             "ticks": ""
            },
            "colorscale": [
             [
              0,
              "#0d0887"
             ],
             [
              0.1111111111111111,
              "#46039f"
             ],
             [
              0.2222222222222222,
              "#7201a8"
             ],
             [
              0.3333333333333333,
              "#9c179e"
             ],
             [
              0.4444444444444444,
              "#bd3786"
             ],
             [
              0.5555555555555556,
              "#d8576b"
             ],
             [
              0.6666666666666666,
              "#ed7953"
             ],
             [
              0.7777777777777778,
              "#fb9f3a"
             ],
             [
              0.8888888888888888,
              "#fdca26"
             ],
             [
              1,
              "#f0f921"
             ]
            ],
            "type": "heatmap"
           }
          ],
          "heatmapgl": [
           {
            "colorbar": {
             "outlinewidth": 0,
             "ticks": ""
            },
            "colorscale": [
             [
              0,
              "#0d0887"
             ],
             [
              0.1111111111111111,
              "#46039f"
             ],
             [
              0.2222222222222222,
              "#7201a8"
             ],
             [
              0.3333333333333333,
              "#9c179e"
             ],
             [
              0.4444444444444444,
              "#bd3786"
             ],
             [
              0.5555555555555556,
              "#d8576b"
             ],
             [
              0.6666666666666666,
              "#ed7953"
             ],
             [
              0.7777777777777778,
              "#fb9f3a"
             ],
             [
              0.8888888888888888,
              "#fdca26"
             ],
             [
              1,
              "#f0f921"
             ]
            ],
            "type": "heatmapgl"
           }
          ],
          "histogram": [
           {
            "marker": {
             "pattern": {
              "fillmode": "overlay",
              "size": 10,
              "solidity": 0.2
             }
            },
            "type": "histogram"
           }
          ],
          "histogram2d": [
           {
            "colorbar": {
             "outlinewidth": 0,
             "ticks": ""
            },
            "colorscale": [
             [
              0,
              "#0d0887"
             ],
             [
              0.1111111111111111,
              "#46039f"
             ],
             [
              0.2222222222222222,
              "#7201a8"
             ],
             [
              0.3333333333333333,
              "#9c179e"
             ],
             [
              0.4444444444444444,
              "#bd3786"
             ],
             [
              0.5555555555555556,
              "#d8576b"
             ],
             [
              0.6666666666666666,
              "#ed7953"
             ],
             [
              0.7777777777777778,
              "#fb9f3a"
             ],
             [
              0.8888888888888888,
              "#fdca26"
             ],
             [
              1,
              "#f0f921"
             ]
            ],
            "type": "histogram2d"
           }
          ],
          "histogram2dcontour": [
           {
            "colorbar": {
             "outlinewidth": 0,
             "ticks": ""
            },
            "colorscale": [
             [
              0,
              "#0d0887"
             ],
             [
              0.1111111111111111,
              "#46039f"
             ],
             [
              0.2222222222222222,
              "#7201a8"
             ],
             [
              0.3333333333333333,
              "#9c179e"
             ],
             [
              0.4444444444444444,
              "#bd3786"
             ],
             [
              0.5555555555555556,
              "#d8576b"
             ],
             [
              0.6666666666666666,
              "#ed7953"
             ],
             [
              0.7777777777777778,
              "#fb9f3a"
             ],
             [
              0.8888888888888888,
              "#fdca26"
             ],
             [
              1,
              "#f0f921"
             ]
            ],
            "type": "histogram2dcontour"
           }
          ],
          "mesh3d": [
           {
            "colorbar": {
             "outlinewidth": 0,
             "ticks": ""
            },
            "type": "mesh3d"
           }
          ],
          "parcoords": [
           {
            "line": {
             "colorbar": {
              "outlinewidth": 0,
              "ticks": ""
             }
            },
            "type": "parcoords"
           }
          ],
          "pie": [
           {
            "automargin": true,
            "type": "pie"
           }
          ],
          "scatter": [
           {
            "fillpattern": {
             "fillmode": "overlay",
             "size": 10,
             "solidity": 0.2
            },
            "type": "scatter"
           }
          ],
          "scatter3d": [
           {
            "line": {
             "colorbar": {
              "outlinewidth": 0,
              "ticks": ""
             }
            },
            "marker": {
             "colorbar": {
              "outlinewidth": 0,
              "ticks": ""
             }
            },
            "type": "scatter3d"
           }
          ],
          "scattercarpet": [
           {
            "marker": {
             "colorbar": {
              "outlinewidth": 0,
              "ticks": ""
             }
            },
            "type": "scattercarpet"
           }
          ],
          "scattergeo": [
           {
            "marker": {
             "colorbar": {
              "outlinewidth": 0,
              "ticks": ""
             }
            },
            "type": "scattergeo"
           }
          ],
          "scattergl": [
           {
            "marker": {
             "colorbar": {
              "outlinewidth": 0,
              "ticks": ""
             }
            },
            "type": "scattergl"
           }
          ],
          "scattermapbox": [
           {
            "marker": {
             "colorbar": {
              "outlinewidth": 0,
              "ticks": ""
             }
            },
            "type": "scattermapbox"
           }
          ],
          "scatterpolar": [
           {
            "marker": {
             "colorbar": {
              "outlinewidth": 0,
              "ticks": ""
             }
            },
            "type": "scatterpolar"
           }
          ],
          "scatterpolargl": [
           {
            "marker": {
             "colorbar": {
              "outlinewidth": 0,
              "ticks": ""
             }
            },
            "type": "scatterpolargl"
           }
          ],
          "scatterternary": [
           {
            "marker": {
             "colorbar": {
              "outlinewidth": 0,
              "ticks": ""
             }
            },
            "type": "scatterternary"
           }
          ],
          "surface": [
           {
            "colorbar": {
             "outlinewidth": 0,
             "ticks": ""
            },
            "colorscale": [
             [
              0,
              "#0d0887"
             ],
             [
              0.1111111111111111,
              "#46039f"
             ],
             [
              0.2222222222222222,
              "#7201a8"
             ],
             [
              0.3333333333333333,
              "#9c179e"
             ],
             [
              0.4444444444444444,
              "#bd3786"
             ],
             [
              0.5555555555555556,
              "#d8576b"
             ],
             [
              0.6666666666666666,
              "#ed7953"
             ],
             [
              0.7777777777777778,
              "#fb9f3a"
             ],
             [
              0.8888888888888888,
              "#fdca26"
             ],
             [
              1,
              "#f0f921"
             ]
            ],
            "type": "surface"
           }
          ],
          "table": [
           {
            "cells": {
             "fill": {
              "color": "#EBF0F8"
             },
             "line": {
              "color": "white"
             }
            },
            "header": {
             "fill": {
              "color": "#C8D4E3"
             },
             "line": {
              "color": "white"
             }
            },
            "type": "table"
           }
          ]
         },
         "layout": {
          "annotationdefaults": {
           "arrowcolor": "#2a3f5f",
           "arrowhead": 0,
           "arrowwidth": 1
          },
          "autotypenumbers": "strict",
          "coloraxis": {
           "colorbar": {
            "outlinewidth": 0,
            "ticks": ""
           }
          },
          "colorscale": {
           "diverging": [
            [
             0,
             "#8e0152"
            ],
            [
             0.1,
             "#c51b7d"
            ],
            [
             0.2,
             "#de77ae"
            ],
            [
             0.3,
             "#f1b6da"
            ],
            [
             0.4,
             "#fde0ef"
            ],
            [
             0.5,
             "#f7f7f7"
            ],
            [
             0.6,
             "#e6f5d0"
            ],
            [
             0.7,
             "#b8e186"
            ],
            [
             0.8,
             "#7fbc41"
            ],
            [
             0.9,
             "#4d9221"
            ],
            [
             1,
             "#276419"
            ]
           ],
           "sequential": [
            [
             0,
             "#0d0887"
            ],
            [
             0.1111111111111111,
             "#46039f"
            ],
            [
             0.2222222222222222,
             "#7201a8"
            ],
            [
             0.3333333333333333,
             "#9c179e"
            ],
            [
             0.4444444444444444,
             "#bd3786"
            ],
            [
             0.5555555555555556,
             "#d8576b"
            ],
            [
             0.6666666666666666,
             "#ed7953"
            ],
            [
             0.7777777777777778,
             "#fb9f3a"
            ],
            [
             0.8888888888888888,
             "#fdca26"
            ],
            [
             1,
             "#f0f921"
            ]
           ],
           "sequentialminus": [
            [
             0,
             "#0d0887"
            ],
            [
             0.1111111111111111,
             "#46039f"
            ],
            [
             0.2222222222222222,
             "#7201a8"
            ],
            [
             0.3333333333333333,
             "#9c179e"
            ],
            [
             0.4444444444444444,
             "#bd3786"
            ],
            [
             0.5555555555555556,
             "#d8576b"
            ],
            [
             0.6666666666666666,
             "#ed7953"
            ],
            [
             0.7777777777777778,
             "#fb9f3a"
            ],
            [
             0.8888888888888888,
             "#fdca26"
            ],
            [
             1,
             "#f0f921"
            ]
           ]
          },
          "colorway": [
           "#636efa",
           "#EF553B",
           "#00cc96",
           "#ab63fa",
           "#FFA15A",
           "#19d3f3",
           "#FF6692",
           "#B6E880",
           "#FF97FF",
           "#FECB52"
          ],
          "font": {
           "color": "#2a3f5f"
          },
          "geo": {
           "bgcolor": "white",
           "lakecolor": "white",
           "landcolor": "#E5ECF6",
           "showlakes": true,
           "showland": true,
           "subunitcolor": "white"
          },
          "hoverlabel": {
           "align": "left"
          },
          "hovermode": "closest",
          "mapbox": {
           "style": "light"
          },
          "paper_bgcolor": "white",
          "plot_bgcolor": "#E5ECF6",
          "polar": {
           "angularaxis": {
            "gridcolor": "white",
            "linecolor": "white",
            "ticks": ""
           },
           "bgcolor": "#E5ECF6",
           "radialaxis": {
            "gridcolor": "white",
            "linecolor": "white",
            "ticks": ""
           }
          },
          "scene": {
           "xaxis": {
            "backgroundcolor": "#E5ECF6",
            "gridcolor": "white",
            "gridwidth": 2,
            "linecolor": "white",
            "showbackground": true,
            "ticks": "",
            "zerolinecolor": "white"
           },
           "yaxis": {
            "backgroundcolor": "#E5ECF6",
            "gridcolor": "white",
            "gridwidth": 2,
            "linecolor": "white",
            "showbackground": true,
            "ticks": "",
            "zerolinecolor": "white"
           },
           "zaxis": {
            "backgroundcolor": "#E5ECF6",
            "gridcolor": "white",
            "gridwidth": 2,
            "linecolor": "white",
            "showbackground": true,
            "ticks": "",
            "zerolinecolor": "white"
           }
          },
          "shapedefaults": {
           "line": {
            "color": "#2a3f5f"
           }
          },
          "ternary": {
           "aaxis": {
            "gridcolor": "white",
            "linecolor": "white",
            "ticks": ""
           },
           "baxis": {
            "gridcolor": "white",
            "linecolor": "white",
            "ticks": ""
           },
           "bgcolor": "#E5ECF6",
           "caxis": {
            "gridcolor": "white",
            "linecolor": "white",
            "ticks": ""
           }
          },
          "title": {
           "x": 0.05
          },
          "xaxis": {
           "automargin": true,
           "gridcolor": "white",
           "linecolor": "white",
           "ticks": "",
           "title": {
            "standoff": 15
           },
           "zerolinecolor": "white",
           "zerolinewidth": 2
          },
          "yaxis": {
           "automargin": true,
           "gridcolor": "white",
           "linecolor": "white",
           "ticks": "",
           "title": {
            "standoff": 15
           },
           "zerolinecolor": "white",
           "zerolinewidth": 2
          }
         }
        },
        "title": {
         "text": "Life Satisfaction/GDP per capita Scatterplot (Germany)"
        },
        "xaxis": {
         "anchor": "y",
         "domain": [
          0,
          1
         ],
         "title": {
          "text": "GDP per capita"
         }
        },
        "yaxis": {
         "anchor": "x",
         "domain": [
          0,
          1
         ],
         "title": {
          "text": "Life Satisfaction"
         }
        }
       }
      },
      "text/html": [
       "<div>                            <div id=\"b7ef8c41-c899-4e2a-96e0-9441e11d5018\" class=\"plotly-graph-div\" style=\"height:525px; width:100%;\"></div>            <script type=\"text/javascript\">                require([\"plotly\"], function(Plotly) {                    window.PLOTLYENV=window.PLOTLYENV || {};                                    if (document.getElementById(\"b7ef8c41-c899-4e2a-96e0-9441e11d5018\")) {                    Plotly.newPlot(                        \"b7ef8c41-c899-4e2a-96e0-9441e11d5018\",                        [{\"legendgroup\":\"\",\"marker\":{\"color\":\"#636efa\",\"symbol\":\"diamond\",\"size\":10},\"mode\":\"markers+text\",\"name\":\"\",\"orientation\":\"v\",\"showlegend\":false,\"text\":[2008.0,2009.0,2010.0,2011.0,2012.0,2013.0,2014.0,2015.0,2016.0,2017.0],\"x\":[47573.0,44978.0,46930.0,49685.0,49799.0,49881.0,50771.0,51084.0,51803.0,52953.0],\"xaxis\":\"x\",\"y\":[6.72,6.62,6.7,6.97,6.98,7.04,6.87,7.07,7.12,7.04],\"yaxis\":\"y\",\"type\":\"scatter\",\"textfont\":{\"size\":15},\"hoverinfo\":\"skip\",\"textposition\":\"bottom right\"},{\"legendgroup\":\"\",\"line\":{\"color\":\"red\"},\"marker\":{\"color\":\"#636efa\",\"symbol\":\"diamond\",\"size\":10},\"mode\":\"lines\",\"name\":\"\",\"showlegend\":false,\"x\":[44978.0,46930.0,47573.0,49685.0,49799.0,49881.0,50771.0,51084.0,51803.0,52953.0],\"xaxis\":\"x\",\"y\":[6.6135943153263455,6.741544902379561,6.783692559897602,6.922130899987966,6.929603424026935,6.934978397458473,6.993316523727613,7.013833190606535,7.060962530817223,7.136343255771729],\"yaxis\":\"y\",\"type\":\"scatter\",\"textfont\":{\"size\":15},\"hoverinfo\":\"skip\",\"textposition\":\"bottom right\"}],                        {\"template\":{\"data\":{\"histogram2dcontour\":[{\"type\":\"histogram2dcontour\",\"colorbar\":{\"outlinewidth\":0,\"ticks\":\"\"},\"colorscale\":[[0.0,\"#0d0887\"],[0.1111111111111111,\"#46039f\"],[0.2222222222222222,\"#7201a8\"],[0.3333333333333333,\"#9c179e\"],[0.4444444444444444,\"#bd3786\"],[0.5555555555555556,\"#d8576b\"],[0.6666666666666666,\"#ed7953\"],[0.7777777777777778,\"#fb9f3a\"],[0.8888888888888888,\"#fdca26\"],[1.0,\"#f0f921\"]]}],\"choropleth\":[{\"type\":\"choropleth\",\"colorbar\":{\"outlinewidth\":0,\"ticks\":\"\"}}],\"histogram2d\":[{\"type\":\"histogram2d\",\"colorbar\":{\"outlinewidth\":0,\"ticks\":\"\"},\"colorscale\":[[0.0,\"#0d0887\"],[0.1111111111111111,\"#46039f\"],[0.2222222222222222,\"#7201a8\"],[0.3333333333333333,\"#9c179e\"],[0.4444444444444444,\"#bd3786\"],[0.5555555555555556,\"#d8576b\"],[0.6666666666666666,\"#ed7953\"],[0.7777777777777778,\"#fb9f3a\"],[0.8888888888888888,\"#fdca26\"],[1.0,\"#f0f921\"]]}],\"heatmap\":[{\"type\":\"heatmap\",\"colorbar\":{\"outlinewidth\":0,\"ticks\":\"\"},\"colorscale\":[[0.0,\"#0d0887\"],[0.1111111111111111,\"#46039f\"],[0.2222222222222222,\"#7201a8\"],[0.3333333333333333,\"#9c179e\"],[0.4444444444444444,\"#bd3786\"],[0.5555555555555556,\"#d8576b\"],[0.6666666666666666,\"#ed7953\"],[0.7777777777777778,\"#fb9f3a\"],[0.8888888888888888,\"#fdca26\"],[1.0,\"#f0f921\"]]}],\"heatmapgl\":[{\"type\":\"heatmapgl\",\"colorbar\":{\"outlinewidth\":0,\"ticks\":\"\"},\"colorscale\":[[0.0,\"#0d0887\"],[0.1111111111111111,\"#46039f\"],[0.2222222222222222,\"#7201a8\"],[0.3333333333333333,\"#9c179e\"],[0.4444444444444444,\"#bd3786\"],[0.5555555555555556,\"#d8576b\"],[0.6666666666666666,\"#ed7953\"],[0.7777777777777778,\"#fb9f3a\"],[0.8888888888888888,\"#fdca26\"],[1.0,\"#f0f921\"]]}],\"contourcarpet\":[{\"type\":\"contourcarpet\",\"colorbar\":{\"outlinewidth\":0,\"ticks\":\"\"}}],\"contour\":[{\"type\":\"contour\",\"colorbar\":{\"outlinewidth\":0,\"ticks\":\"\"},\"colorscale\":[[0.0,\"#0d0887\"],[0.1111111111111111,\"#46039f\"],[0.2222222222222222,\"#7201a8\"],[0.3333333333333333,\"#9c179e\"],[0.4444444444444444,\"#bd3786\"],[0.5555555555555556,\"#d8576b\"],[0.6666666666666666,\"#ed7953\"],[0.7777777777777778,\"#fb9f3a\"],[0.8888888888888888,\"#fdca26\"],[1.0,\"#f0f921\"]]}],\"surface\":[{\"type\":\"surface\",\"colorbar\":{\"outlinewidth\":0,\"ticks\":\"\"},\"colorscale\":[[0.0,\"#0d0887\"],[0.1111111111111111,\"#46039f\"],[0.2222222222222222,\"#7201a8\"],[0.3333333333333333,\"#9c179e\"],[0.4444444444444444,\"#bd3786\"],[0.5555555555555556,\"#d8576b\"],[0.6666666666666666,\"#ed7953\"],[0.7777777777777778,\"#fb9f3a\"],[0.8888888888888888,\"#fdca26\"],[1.0,\"#f0f921\"]]}],\"mesh3d\":[{\"type\":\"mesh3d\",\"colorbar\":{\"outlinewidth\":0,\"ticks\":\"\"}}],\"scatter\":[{\"fillpattern\":{\"fillmode\":\"overlay\",\"size\":10,\"solidity\":0.2},\"type\":\"scatter\"}],\"parcoords\":[{\"type\":\"parcoords\",\"line\":{\"colorbar\":{\"outlinewidth\":0,\"ticks\":\"\"}}}],\"scatterpolargl\":[{\"type\":\"scatterpolargl\",\"marker\":{\"colorbar\":{\"outlinewidth\":0,\"ticks\":\"\"}}}],\"bar\":[{\"error_x\":{\"color\":\"#2a3f5f\"},\"error_y\":{\"color\":\"#2a3f5f\"},\"marker\":{\"line\":{\"color\":\"#E5ECF6\",\"width\":0.5},\"pattern\":{\"fillmode\":\"overlay\",\"size\":10,\"solidity\":0.2}},\"type\":\"bar\"}],\"scattergeo\":[{\"type\":\"scattergeo\",\"marker\":{\"colorbar\":{\"outlinewidth\":0,\"ticks\":\"\"}}}],\"scatterpolar\":[{\"type\":\"scatterpolar\",\"marker\":{\"colorbar\":{\"outlinewidth\":0,\"ticks\":\"\"}}}],\"histogram\":[{\"marker\":{\"pattern\":{\"fillmode\":\"overlay\",\"size\":10,\"solidity\":0.2}},\"type\":\"histogram\"}],\"scattergl\":[{\"type\":\"scattergl\",\"marker\":{\"colorbar\":{\"outlinewidth\":0,\"ticks\":\"\"}}}],\"scatter3d\":[{\"type\":\"scatter3d\",\"line\":{\"colorbar\":{\"outlinewidth\":0,\"ticks\":\"\"}},\"marker\":{\"colorbar\":{\"outlinewidth\":0,\"ticks\":\"\"}}}],\"scattermapbox\":[{\"type\":\"scattermapbox\",\"marker\":{\"colorbar\":{\"outlinewidth\":0,\"ticks\":\"\"}}}],\"scatterternary\":[{\"type\":\"scatterternary\",\"marker\":{\"colorbar\":{\"outlinewidth\":0,\"ticks\":\"\"}}}],\"scattercarpet\":[{\"type\":\"scattercarpet\",\"marker\":{\"colorbar\":{\"outlinewidth\":0,\"ticks\":\"\"}}}],\"carpet\":[{\"aaxis\":{\"endlinecolor\":\"#2a3f5f\",\"gridcolor\":\"white\",\"linecolor\":\"white\",\"minorgridcolor\":\"white\",\"startlinecolor\":\"#2a3f5f\"},\"baxis\":{\"endlinecolor\":\"#2a3f5f\",\"gridcolor\":\"white\",\"linecolor\":\"white\",\"minorgridcolor\":\"white\",\"startlinecolor\":\"#2a3f5f\"},\"type\":\"carpet\"}],\"table\":[{\"cells\":{\"fill\":{\"color\":\"#EBF0F8\"},\"line\":{\"color\":\"white\"}},\"header\":{\"fill\":{\"color\":\"#C8D4E3\"},\"line\":{\"color\":\"white\"}},\"type\":\"table\"}],\"barpolar\":[{\"marker\":{\"line\":{\"color\":\"#E5ECF6\",\"width\":0.5},\"pattern\":{\"fillmode\":\"overlay\",\"size\":10,\"solidity\":0.2}},\"type\":\"barpolar\"}],\"pie\":[{\"automargin\":true,\"type\":\"pie\"}]},\"layout\":{\"autotypenumbers\":\"strict\",\"colorway\":[\"#636efa\",\"#EF553B\",\"#00cc96\",\"#ab63fa\",\"#FFA15A\",\"#19d3f3\",\"#FF6692\",\"#B6E880\",\"#FF97FF\",\"#FECB52\"],\"font\":{\"color\":\"#2a3f5f\"},\"hovermode\":\"closest\",\"hoverlabel\":{\"align\":\"left\"},\"paper_bgcolor\":\"white\",\"plot_bgcolor\":\"#E5ECF6\",\"polar\":{\"bgcolor\":\"#E5ECF6\",\"angularaxis\":{\"gridcolor\":\"white\",\"linecolor\":\"white\",\"ticks\":\"\"},\"radialaxis\":{\"gridcolor\":\"white\",\"linecolor\":\"white\",\"ticks\":\"\"}},\"ternary\":{\"bgcolor\":\"#E5ECF6\",\"aaxis\":{\"gridcolor\":\"white\",\"linecolor\":\"white\",\"ticks\":\"\"},\"baxis\":{\"gridcolor\":\"white\",\"linecolor\":\"white\",\"ticks\":\"\"},\"caxis\":{\"gridcolor\":\"white\",\"linecolor\":\"white\",\"ticks\":\"\"}},\"coloraxis\":{\"colorbar\":{\"outlinewidth\":0,\"ticks\":\"\"}},\"colorscale\":{\"sequential\":[[0.0,\"#0d0887\"],[0.1111111111111111,\"#46039f\"],[0.2222222222222222,\"#7201a8\"],[0.3333333333333333,\"#9c179e\"],[0.4444444444444444,\"#bd3786\"],[0.5555555555555556,\"#d8576b\"],[0.6666666666666666,\"#ed7953\"],[0.7777777777777778,\"#fb9f3a\"],[0.8888888888888888,\"#fdca26\"],[1.0,\"#f0f921\"]],\"sequentialminus\":[[0.0,\"#0d0887\"],[0.1111111111111111,\"#46039f\"],[0.2222222222222222,\"#7201a8\"],[0.3333333333333333,\"#9c179e\"],[0.4444444444444444,\"#bd3786\"],[0.5555555555555556,\"#d8576b\"],[0.6666666666666666,\"#ed7953\"],[0.7777777777777778,\"#fb9f3a\"],[0.8888888888888888,\"#fdca26\"],[1.0,\"#f0f921\"]],\"diverging\":[[0,\"#8e0152\"],[0.1,\"#c51b7d\"],[0.2,\"#de77ae\"],[0.3,\"#f1b6da\"],[0.4,\"#fde0ef\"],[0.5,\"#f7f7f7\"],[0.6,\"#e6f5d0\"],[0.7,\"#b8e186\"],[0.8,\"#7fbc41\"],[0.9,\"#4d9221\"],[1,\"#276419\"]]},\"xaxis\":{\"gridcolor\":\"white\",\"linecolor\":\"white\",\"ticks\":\"\",\"title\":{\"standoff\":15},\"zerolinecolor\":\"white\",\"automargin\":true,\"zerolinewidth\":2},\"yaxis\":{\"gridcolor\":\"white\",\"linecolor\":\"white\",\"ticks\":\"\",\"title\":{\"standoff\":15},\"zerolinecolor\":\"white\",\"automargin\":true,\"zerolinewidth\":2},\"scene\":{\"xaxis\":{\"backgroundcolor\":\"#E5ECF6\",\"gridcolor\":\"white\",\"linecolor\":\"white\",\"showbackground\":true,\"ticks\":\"\",\"zerolinecolor\":\"white\",\"gridwidth\":2},\"yaxis\":{\"backgroundcolor\":\"#E5ECF6\",\"gridcolor\":\"white\",\"linecolor\":\"white\",\"showbackground\":true,\"ticks\":\"\",\"zerolinecolor\":\"white\",\"gridwidth\":2},\"zaxis\":{\"backgroundcolor\":\"#E5ECF6\",\"gridcolor\":\"white\",\"linecolor\":\"white\",\"showbackground\":true,\"ticks\":\"\",\"zerolinecolor\":\"white\",\"gridwidth\":2}},\"shapedefaults\":{\"line\":{\"color\":\"#2a3f5f\"}},\"annotationdefaults\":{\"arrowcolor\":\"#2a3f5f\",\"arrowhead\":0,\"arrowwidth\":1},\"geo\":{\"bgcolor\":\"white\",\"landcolor\":\"#E5ECF6\",\"subunitcolor\":\"white\",\"showland\":true,\"showlakes\":true,\"lakecolor\":\"white\"},\"title\":{\"x\":0.05},\"mapbox\":{\"style\":\"light\"}}},\"xaxis\":{\"anchor\":\"y\",\"domain\":[0.0,1.0],\"title\":{\"text\":\"GDP per capita\"}},\"yaxis\":{\"anchor\":\"x\",\"domain\":[0.0,1.0],\"title\":{\"text\":\"Life Satisfaction\"}},\"legend\":{\"tracegroupgap\":0},\"title\":{\"text\":\"Life Satisfaction/GDP per capita Scatterplot (Germany)\"},\"annotations\":[{\"arrowcolor\":\"black\",\"arrowhead\":1,\"arrowsize\":1,\"arrowwidth\":2,\"ax\":47573.0,\"axref\":\"x\",\"ay\":6.72,\"ayref\":\"y\",\"showarrow\":true,\"text\":\"\",\"x\":44978.0,\"xref\":\"x\",\"y\":6.62,\"yref\":\"y\"},{\"arrowcolor\":\"black\",\"arrowhead\":1,\"arrowsize\":1,\"arrowwidth\":2,\"ax\":44978.0,\"axref\":\"x\",\"ay\":6.62,\"ayref\":\"y\",\"showarrow\":true,\"text\":\"\",\"x\":46930.0,\"xref\":\"x\",\"y\":6.7,\"yref\":\"y\"},{\"arrowcolor\":\"black\",\"arrowhead\":1,\"arrowsize\":1,\"arrowwidth\":2,\"ax\":46930.0,\"axref\":\"x\",\"ay\":6.7,\"ayref\":\"y\",\"showarrow\":true,\"text\":\"\",\"x\":49685.0,\"xref\":\"x\",\"y\":6.97,\"yref\":\"y\"},{\"arrowcolor\":\"black\",\"arrowhead\":1,\"arrowsize\":1,\"arrowwidth\":2,\"ax\":49685.0,\"axref\":\"x\",\"ay\":6.97,\"ayref\":\"y\",\"showarrow\":true,\"text\":\"\",\"x\":49799.0,\"xref\":\"x\",\"y\":6.98,\"yref\":\"y\"},{\"arrowcolor\":\"black\",\"arrowhead\":1,\"arrowsize\":1,\"arrowwidth\":2,\"ax\":49799.0,\"axref\":\"x\",\"ay\":6.98,\"ayref\":\"y\",\"showarrow\":true,\"text\":\"\",\"x\":49881.0,\"xref\":\"x\",\"y\":7.04,\"yref\":\"y\"},{\"arrowcolor\":\"black\",\"arrowhead\":1,\"arrowsize\":1,\"arrowwidth\":2,\"ax\":49881.0,\"axref\":\"x\",\"ay\":7.04,\"ayref\":\"y\",\"showarrow\":true,\"text\":\"\",\"x\":50771.0,\"xref\":\"x\",\"y\":6.87,\"yref\":\"y\"},{\"arrowcolor\":\"black\",\"arrowhead\":1,\"arrowsize\":1,\"arrowwidth\":2,\"ax\":50771.0,\"axref\":\"x\",\"ay\":6.87,\"ayref\":\"y\",\"showarrow\":true,\"text\":\"\",\"x\":51084.0,\"xref\":\"x\",\"y\":7.07,\"yref\":\"y\"},{\"arrowcolor\":\"black\",\"arrowhead\":1,\"arrowsize\":1,\"arrowwidth\":2,\"ax\":51084.0,\"axref\":\"x\",\"ay\":7.07,\"ayref\":\"y\",\"showarrow\":true,\"text\":\"\",\"x\":51803.0,\"xref\":\"x\",\"y\":7.12,\"yref\":\"y\"},{\"arrowcolor\":\"black\",\"arrowhead\":1,\"arrowsize\":1,\"arrowwidth\":2,\"ax\":51803.0,\"axref\":\"x\",\"ay\":7.12,\"ayref\":\"y\",\"showarrow\":true,\"text\":\"\",\"x\":52953.0,\"xref\":\"x\",\"y\":7.04,\"yref\":\"y\"}]},                        {\"responsive\": true}                    ).then(function(){\n",
       "                            \n",
       "var gd = document.getElementById('b7ef8c41-c899-4e2a-96e0-9441e11d5018');\n",
       "var x = new MutationObserver(function (mutations, observer) {{\n",
       "        var display = window.getComputedStyle(gd).display;\n",
       "        if (!display || display === 'none') {{\n",
       "            console.log([gd, 'removed!']);\n",
       "            Plotly.purge(gd);\n",
       "            observer.disconnect();\n",
       "        }}\n",
       "}});\n",
       "\n",
       "// Listen for the removal of the full notebook cells\n",
       "var notebookContainer = gd.closest('#notebook-container');\n",
       "if (notebookContainer) {{\n",
       "    x.observe(notebookContainer, {childList: true});\n",
       "}}\n",
       "\n",
       "// Listen for the clearing of the current output cell\n",
       "var outputEl = gd.closest('.output');\n",
       "if (outputEl) {{\n",
       "    x.observe(outputEl, {childList: true});\n",
       "}}\n",
       "\n",
       "                        })                };                });            </script>        </div>"
      ]
     },
     "metadata": {},
     "output_type": "display_data"
    },
    {
     "data": {
      "application/vnd.plotly.v1+json": {
       "config": {
        "plotlyServerURL": "https://plot.ly"
       },
       "data": [
        {
         "hoverinfo": "skip",
         "legendgroup": "",
         "marker": {
          "color": "#636efa",
          "size": 10,
          "symbol": "diamond"
         },
         "mode": "markers+text",
         "name": "",
         "orientation": "v",
         "showlegend": false,
         "text": [
          2008,
          2009,
          2010,
          2011,
          2012,
          2013,
          2014,
          2015,
          2016,
          2017
         ],
         "textfont": {
          "size": 15
         },
         "textposition": "bottom right",
         "type": "scatter",
         "x": [
          31.07,
          30.5,
          30.25,
          30.48,
          30.88,
          31.15,
          30.87,
          31.74,
          31.87,
          31.87
         ],
         "xaxis": "x",
         "y": [
          6.72,
          6.62,
          6.7,
          6.97,
          6.98,
          7.04,
          6.87,
          7.07,
          7.12,
          7.04
         ],
         "yaxis": "y"
        },
        {
         "hoverinfo": "skip",
         "legendgroup": "",
         "line": {
          "color": "red"
         },
         "marker": {
          "color": "#636efa",
          "size": 10,
          "symbol": "diamond"
         },
         "mode": "lines",
         "name": "",
         "showlegend": false,
         "textfont": {
          "size": 15
         },
         "textposition": "bottom right",
         "type": "scatter",
         "x": [
          30.25,
          30.48,
          30.5,
          30.87,
          30.88,
          31.07,
          31.15,
          31.74,
          31.87,
          31.87
         ],
         "xaxis": "x",
         "y": [
          6.735120059808179,
          6.78513520191591,
          6.789484344707887,
          6.869943486359454,
          6.872118057755442,
          6.91343491427922,
          6.9308314854471265,
          7.059131197810436,
          7.087400625958285,
          7.087400625958285
         ],
         "yaxis": "y"
        }
       ],
       "layout": {
        "annotations": [
         {
          "arrowcolor": "black",
          "arrowhead": 1,
          "arrowsize": 1,
          "arrowwidth": 2,
          "ax": 31.07,
          "axref": "x",
          "ay": 6.72,
          "ayref": "y",
          "showarrow": true,
          "text": "",
          "x": 30.5,
          "xref": "x",
          "y": 6.62,
          "yref": "y"
         },
         {
          "arrowcolor": "black",
          "arrowhead": 1,
          "arrowsize": 1,
          "arrowwidth": 2,
          "ax": 30.5,
          "axref": "x",
          "ay": 6.62,
          "ayref": "y",
          "showarrow": true,
          "text": "",
          "x": 30.25,
          "xref": "x",
          "y": 6.7,
          "yref": "y"
         },
         {
          "arrowcolor": "black",
          "arrowhead": 1,
          "arrowsize": 1,
          "arrowwidth": 2,
          "ax": 30.25,
          "axref": "x",
          "ay": 6.7,
          "ayref": "y",
          "showarrow": true,
          "text": "",
          "x": 30.48,
          "xref": "x",
          "y": 6.97,
          "yref": "y"
         },
         {
          "arrowcolor": "black",
          "arrowhead": 1,
          "arrowsize": 1,
          "arrowwidth": 2,
          "ax": 30.48,
          "axref": "x",
          "ay": 6.97,
          "ayref": "y",
          "showarrow": true,
          "text": "",
          "x": 30.88,
          "xref": "x",
          "y": 6.98,
          "yref": "y"
         },
         {
          "arrowcolor": "black",
          "arrowhead": 1,
          "arrowsize": 1,
          "arrowwidth": 2,
          "ax": 30.88,
          "axref": "x",
          "ay": 6.98,
          "ayref": "y",
          "showarrow": true,
          "text": "",
          "x": 31.15,
          "xref": "x",
          "y": 7.04,
          "yref": "y"
         },
         {
          "arrowcolor": "black",
          "arrowhead": 1,
          "arrowsize": 1,
          "arrowwidth": 2,
          "ax": 31.15,
          "axref": "x",
          "ay": 7.04,
          "ayref": "y",
          "showarrow": true,
          "text": "",
          "x": 30.87,
          "xref": "x",
          "y": 6.87,
          "yref": "y"
         },
         {
          "arrowcolor": "black",
          "arrowhead": 1,
          "arrowsize": 1,
          "arrowwidth": 2,
          "ax": 30.87,
          "axref": "x",
          "ay": 6.87,
          "ayref": "y",
          "showarrow": true,
          "text": "",
          "x": 31.74,
          "xref": "x",
          "y": 7.07,
          "yref": "y"
         },
         {
          "arrowcolor": "black",
          "arrowhead": 1,
          "arrowsize": 1,
          "arrowwidth": 2,
          "ax": 31.74,
          "axref": "x",
          "ay": 7.07,
          "ayref": "y",
          "showarrow": true,
          "text": "",
          "x": 31.87,
          "xref": "x",
          "y": 7.12,
          "yref": "y"
         },
         {
          "arrowcolor": "black",
          "arrowhead": 1,
          "arrowsize": 1,
          "arrowwidth": 2,
          "ax": 31.87,
          "axref": "x",
          "ay": 7.12,
          "ayref": "y",
          "showarrow": true,
          "text": "",
          "x": 31.87,
          "xref": "x",
          "y": 7.04,
          "yref": "y"
         }
        ],
        "legend": {
         "tracegroupgap": 0
        },
        "template": {
         "data": {
          "bar": [
           {
            "error_x": {
             "color": "#2a3f5f"
            },
            "error_y": {
             "color": "#2a3f5f"
            },
            "marker": {
             "line": {
              "color": "#E5ECF6",
              "width": 0.5
             },
             "pattern": {
              "fillmode": "overlay",
              "size": 10,
              "solidity": 0.2
             }
            },
            "type": "bar"
           }
          ],
          "barpolar": [
           {
            "marker": {
             "line": {
              "color": "#E5ECF6",
              "width": 0.5
             },
             "pattern": {
              "fillmode": "overlay",
              "size": 10,
              "solidity": 0.2
             }
            },
            "type": "barpolar"
           }
          ],
          "carpet": [
           {
            "aaxis": {
             "endlinecolor": "#2a3f5f",
             "gridcolor": "white",
             "linecolor": "white",
             "minorgridcolor": "white",
             "startlinecolor": "#2a3f5f"
            },
            "baxis": {
             "endlinecolor": "#2a3f5f",
             "gridcolor": "white",
             "linecolor": "white",
             "minorgridcolor": "white",
             "startlinecolor": "#2a3f5f"
            },
            "type": "carpet"
           }
          ],
          "choropleth": [
           {
            "colorbar": {
             "outlinewidth": 0,
             "ticks": ""
            },
            "type": "choropleth"
           }
          ],
          "contour": [
           {
            "colorbar": {
             "outlinewidth": 0,
             "ticks": ""
            },
            "colorscale": [
             [
              0,
              "#0d0887"
             ],
             [
              0.1111111111111111,
              "#46039f"
             ],
             [
              0.2222222222222222,
              "#7201a8"
             ],
             [
              0.3333333333333333,
              "#9c179e"
             ],
             [
              0.4444444444444444,
              "#bd3786"
             ],
             [
              0.5555555555555556,
              "#d8576b"
             ],
             [
              0.6666666666666666,
              "#ed7953"
             ],
             [
              0.7777777777777778,
              "#fb9f3a"
             ],
             [
              0.8888888888888888,
              "#fdca26"
             ],
             [
              1,
              "#f0f921"
             ]
            ],
            "type": "contour"
           }
          ],
          "contourcarpet": [
           {
            "colorbar": {
             "outlinewidth": 0,
             "ticks": ""
            },
            "type": "contourcarpet"
           }
          ],
          "heatmap": [
           {
            "colorbar": {
             "outlinewidth": 0,
             "ticks": ""
            },
            "colorscale": [
             [
              0,
              "#0d0887"
             ],
             [
              0.1111111111111111,
              "#46039f"
             ],
             [
              0.2222222222222222,
              "#7201a8"
             ],
             [
              0.3333333333333333,
              "#9c179e"
             ],
             [
              0.4444444444444444,
              "#bd3786"
             ],
             [
              0.5555555555555556,
              "#d8576b"
             ],
             [
              0.6666666666666666,
              "#ed7953"
             ],
             [
              0.7777777777777778,
              "#fb9f3a"
             ],
             [
              0.8888888888888888,
              "#fdca26"
             ],
             [
              1,
              "#f0f921"
             ]
            ],
            "type": "heatmap"
           }
          ],
          "heatmapgl": [
           {
            "colorbar": {
             "outlinewidth": 0,
             "ticks": ""
            },
            "colorscale": [
             [
              0,
              "#0d0887"
             ],
             [
              0.1111111111111111,
              "#46039f"
             ],
             [
              0.2222222222222222,
              "#7201a8"
             ],
             [
              0.3333333333333333,
              "#9c179e"
             ],
             [
              0.4444444444444444,
              "#bd3786"
             ],
             [
              0.5555555555555556,
              "#d8576b"
             ],
             [
              0.6666666666666666,
              "#ed7953"
             ],
             [
              0.7777777777777778,
              "#fb9f3a"
             ],
             [
              0.8888888888888888,
              "#fdca26"
             ],
             [
              1,
              "#f0f921"
             ]
            ],
            "type": "heatmapgl"
           }
          ],
          "histogram": [
           {
            "marker": {
             "pattern": {
              "fillmode": "overlay",
              "size": 10,
              "solidity": 0.2
             }
            },
            "type": "histogram"
           }
          ],
          "histogram2d": [
           {
            "colorbar": {
             "outlinewidth": 0,
             "ticks": ""
            },
            "colorscale": [
             [
              0,
              "#0d0887"
             ],
             [
              0.1111111111111111,
              "#46039f"
             ],
             [
              0.2222222222222222,
              "#7201a8"
             ],
             [
              0.3333333333333333,
              "#9c179e"
             ],
             [
              0.4444444444444444,
              "#bd3786"
             ],
             [
              0.5555555555555556,
              "#d8576b"
             ],
             [
              0.6666666666666666,
              "#ed7953"
             ],
             [
              0.7777777777777778,
              "#fb9f3a"
             ],
             [
              0.8888888888888888,
              "#fdca26"
             ],
             [
              1,
              "#f0f921"
             ]
            ],
            "type": "histogram2d"
           }
          ],
          "histogram2dcontour": [
           {
            "colorbar": {
             "outlinewidth": 0,
             "ticks": ""
            },
            "colorscale": [
             [
              0,
              "#0d0887"
             ],
             [
              0.1111111111111111,
              "#46039f"
             ],
             [
              0.2222222222222222,
              "#7201a8"
             ],
             [
              0.3333333333333333,
              "#9c179e"
             ],
             [
              0.4444444444444444,
              "#bd3786"
             ],
             [
              0.5555555555555556,
              "#d8576b"
             ],
             [
              0.6666666666666666,
              "#ed7953"
             ],
             [
              0.7777777777777778,
              "#fb9f3a"
             ],
             [
              0.8888888888888888,
              "#fdca26"
             ],
             [
              1,
              "#f0f921"
             ]
            ],
            "type": "histogram2dcontour"
           }
          ],
          "mesh3d": [
           {
            "colorbar": {
             "outlinewidth": 0,
             "ticks": ""
            },
            "type": "mesh3d"
           }
          ],
          "parcoords": [
           {
            "line": {
             "colorbar": {
              "outlinewidth": 0,
              "ticks": ""
             }
            },
            "type": "parcoords"
           }
          ],
          "pie": [
           {
            "automargin": true,
            "type": "pie"
           }
          ],
          "scatter": [
           {
            "fillpattern": {
             "fillmode": "overlay",
             "size": 10,
             "solidity": 0.2
            },
            "type": "scatter"
           }
          ],
          "scatter3d": [
           {
            "line": {
             "colorbar": {
              "outlinewidth": 0,
              "ticks": ""
             }
            },
            "marker": {
             "colorbar": {
              "outlinewidth": 0,
              "ticks": ""
             }
            },
            "type": "scatter3d"
           }
          ],
          "scattercarpet": [
           {
            "marker": {
             "colorbar": {
              "outlinewidth": 0,
              "ticks": ""
             }
            },
            "type": "scattercarpet"
           }
          ],
          "scattergeo": [
           {
            "marker": {
             "colorbar": {
              "outlinewidth": 0,
              "ticks": ""
             }
            },
            "type": "scattergeo"
           }
          ],
          "scattergl": [
           {
            "marker": {
             "colorbar": {
              "outlinewidth": 0,
              "ticks": ""
             }
            },
            "type": "scattergl"
           }
          ],
          "scattermapbox": [
           {
            "marker": {
             "colorbar": {
              "outlinewidth": 0,
              "ticks": ""
             }
            },
            "type": "scattermapbox"
           }
          ],
          "scatterpolar": [
           {
            "marker": {
             "colorbar": {
              "outlinewidth": 0,
              "ticks": ""
             }
            },
            "type": "scatterpolar"
           }
          ],
          "scatterpolargl": [
           {
            "marker": {
             "colorbar": {
              "outlinewidth": 0,
              "ticks": ""
             }
            },
            "type": "scatterpolargl"
           }
          ],
          "scatterternary": [
           {
            "marker": {
             "colorbar": {
              "outlinewidth": 0,
              "ticks": ""
             }
            },
            "type": "scatterternary"
           }
          ],
          "surface": [
           {
            "colorbar": {
             "outlinewidth": 0,
             "ticks": ""
            },
            "colorscale": [
             [
              0,
              "#0d0887"
             ],
             [
              0.1111111111111111,
              "#46039f"
             ],
             [
              0.2222222222222222,
              "#7201a8"
             ],
             [
              0.3333333333333333,
              "#9c179e"
             ],
             [
              0.4444444444444444,
              "#bd3786"
             ],
             [
              0.5555555555555556,
              "#d8576b"
             ],
             [
              0.6666666666666666,
              "#ed7953"
             ],
             [
              0.7777777777777778,
              "#fb9f3a"
             ],
             [
              0.8888888888888888,
              "#fdca26"
             ],
             [
              1,
              "#f0f921"
             ]
            ],
            "type": "surface"
           }
          ],
          "table": [
           {
            "cells": {
             "fill": {
              "color": "#EBF0F8"
             },
             "line": {
              "color": "white"
             }
            },
            "header": {
             "fill": {
              "color": "#C8D4E3"
             },
             "line": {
              "color": "white"
             }
            },
            "type": "table"
           }
          ]
         },
         "layout": {
          "annotationdefaults": {
           "arrowcolor": "#2a3f5f",
           "arrowhead": 0,
           "arrowwidth": 1
          },
          "autotypenumbers": "strict",
          "coloraxis": {
           "colorbar": {
            "outlinewidth": 0,
            "ticks": ""
           }
          },
          "colorscale": {
           "diverging": [
            [
             0,
             "#8e0152"
            ],
            [
             0.1,
             "#c51b7d"
            ],
            [
             0.2,
             "#de77ae"
            ],
            [
             0.3,
             "#f1b6da"
            ],
            [
             0.4,
             "#fde0ef"
            ],
            [
             0.5,
             "#f7f7f7"
            ],
            [
             0.6,
             "#e6f5d0"
            ],
            [
             0.7,
             "#b8e186"
            ],
            [
             0.8,
             "#7fbc41"
            ],
            [
             0.9,
             "#4d9221"
            ],
            [
             1,
             "#276419"
            ]
           ],
           "sequential": [
            [
             0,
             "#0d0887"
            ],
            [
             0.1111111111111111,
             "#46039f"
            ],
            [
             0.2222222222222222,
             "#7201a8"
            ],
            [
             0.3333333333333333,
             "#9c179e"
            ],
            [
             0.4444444444444444,
             "#bd3786"
            ],
            [
             0.5555555555555556,
             "#d8576b"
            ],
            [
             0.6666666666666666,
             "#ed7953"
            ],
            [
             0.7777777777777778,
             "#fb9f3a"
            ],
            [
             0.8888888888888888,
             "#fdca26"
            ],
            [
             1,
             "#f0f921"
            ]
           ],
           "sequentialminus": [
            [
             0,
             "#0d0887"
            ],
            [
             0.1111111111111111,
             "#46039f"
            ],
            [
             0.2222222222222222,
             "#7201a8"
            ],
            [
             0.3333333333333333,
             "#9c179e"
            ],
            [
             0.4444444444444444,
             "#bd3786"
            ],
            [
             0.5555555555555556,
             "#d8576b"
            ],
            [
             0.6666666666666666,
             "#ed7953"
            ],
            [
             0.7777777777777778,
             "#fb9f3a"
            ],
            [
             0.8888888888888888,
             "#fdca26"
            ],
            [
             1,
             "#f0f921"
            ]
           ]
          },
          "colorway": [
           "#636efa",
           "#EF553B",
           "#00cc96",
           "#ab63fa",
           "#FFA15A",
           "#19d3f3",
           "#FF6692",
           "#B6E880",
           "#FF97FF",
           "#FECB52"
          ],
          "font": {
           "color": "#2a3f5f"
          },
          "geo": {
           "bgcolor": "white",
           "lakecolor": "white",
           "landcolor": "#E5ECF6",
           "showlakes": true,
           "showland": true,
           "subunitcolor": "white"
          },
          "hoverlabel": {
           "align": "left"
          },
          "hovermode": "closest",
          "mapbox": {
           "style": "light"
          },
          "paper_bgcolor": "white",
          "plot_bgcolor": "#E5ECF6",
          "polar": {
           "angularaxis": {
            "gridcolor": "white",
            "linecolor": "white",
            "ticks": ""
           },
           "bgcolor": "#E5ECF6",
           "radialaxis": {
            "gridcolor": "white",
            "linecolor": "white",
            "ticks": ""
           }
          },
          "scene": {
           "xaxis": {
            "backgroundcolor": "#E5ECF6",
            "gridcolor": "white",
            "gridwidth": 2,
            "linecolor": "white",
            "showbackground": true,
            "ticks": "",
            "zerolinecolor": "white"
           },
           "yaxis": {
            "backgroundcolor": "#E5ECF6",
            "gridcolor": "white",
            "gridwidth": 2,
            "linecolor": "white",
            "showbackground": true,
            "ticks": "",
            "zerolinecolor": "white"
           },
           "zaxis": {
            "backgroundcolor": "#E5ECF6",
            "gridcolor": "white",
            "gridwidth": 2,
            "linecolor": "white",
            "showbackground": true,
            "ticks": "",
            "zerolinecolor": "white"
           }
          },
          "shapedefaults": {
           "line": {
            "color": "#2a3f5f"
           }
          },
          "ternary": {
           "aaxis": {
            "gridcolor": "white",
            "linecolor": "white",
            "ticks": ""
           },
           "baxis": {
            "gridcolor": "white",
            "linecolor": "white",
            "ticks": ""
           },
           "bgcolor": "#E5ECF6",
           "caxis": {
            "gridcolor": "white",
            "linecolor": "white",
            "ticks": ""
           }
          },
          "title": {
           "x": 0.05
          },
          "xaxis": {
           "automargin": true,
           "gridcolor": "white",
           "linecolor": "white",
           "ticks": "",
           "title": {
            "standoff": 15
           },
           "zerolinecolor": "white",
           "zerolinewidth": 2
          },
          "yaxis": {
           "automargin": true,
           "gridcolor": "white",
           "linecolor": "white",
           "ticks": "",
           "title": {
            "standoff": 15
           },
           "zerolinecolor": "white",
           "zerolinewidth": 2
          }
         }
        },
        "title": {
         "text": "Life Satisfaction/Gini index Scatterplot (Germany)"
        },
        "xaxis": {
         "anchor": "y",
         "domain": [
          0,
          1
         ],
         "title": {
          "text": "Gini index"
         }
        },
        "yaxis": {
         "anchor": "x",
         "domain": [
          0,
          1
         ],
         "title": {
          "text": "Life Satisfaction"
         }
        }
       }
      },
      "text/html": [
       "<div>                            <div id=\"d167a29e-9d4f-4d03-980b-2ccc44aad903\" class=\"plotly-graph-div\" style=\"height:525px; width:100%;\"></div>            <script type=\"text/javascript\">                require([\"plotly\"], function(Plotly) {                    window.PLOTLYENV=window.PLOTLYENV || {};                                    if (document.getElementById(\"d167a29e-9d4f-4d03-980b-2ccc44aad903\")) {                    Plotly.newPlot(                        \"d167a29e-9d4f-4d03-980b-2ccc44aad903\",                        [{\"legendgroup\":\"\",\"marker\":{\"color\":\"#636efa\",\"symbol\":\"diamond\",\"size\":10},\"mode\":\"markers+text\",\"name\":\"\",\"orientation\":\"v\",\"showlegend\":false,\"text\":[2008.0,2009.0,2010.0,2011.0,2012.0,2013.0,2014.0,2015.0,2016.0,2017.0],\"x\":[31.07,30.5,30.25,30.48,30.88,31.15,30.87,31.74,31.87,31.87],\"xaxis\":\"x\",\"y\":[6.72,6.62,6.7,6.97,6.98,7.04,6.87,7.07,7.12,7.04],\"yaxis\":\"y\",\"type\":\"scatter\",\"textfont\":{\"size\":15},\"hoverinfo\":\"skip\",\"textposition\":\"bottom right\"},{\"legendgroup\":\"\",\"line\":{\"color\":\"red\"},\"marker\":{\"color\":\"#636efa\",\"symbol\":\"diamond\",\"size\":10},\"mode\":\"lines\",\"name\":\"\",\"showlegend\":false,\"x\":[30.25,30.48,30.5,30.87,30.88,31.07,31.15,31.74,31.87,31.87],\"xaxis\":\"x\",\"y\":[6.735120059808179,6.78513520191591,6.789484344707887,6.869943486359454,6.872118057755442,6.91343491427922,6.9308314854471265,7.059131197810436,7.087400625958285,7.087400625958285],\"yaxis\":\"y\",\"type\":\"scatter\",\"textfont\":{\"size\":15},\"hoverinfo\":\"skip\",\"textposition\":\"bottom right\"}],                        {\"template\":{\"data\":{\"histogram2dcontour\":[{\"type\":\"histogram2dcontour\",\"colorbar\":{\"outlinewidth\":0,\"ticks\":\"\"},\"colorscale\":[[0.0,\"#0d0887\"],[0.1111111111111111,\"#46039f\"],[0.2222222222222222,\"#7201a8\"],[0.3333333333333333,\"#9c179e\"],[0.4444444444444444,\"#bd3786\"],[0.5555555555555556,\"#d8576b\"],[0.6666666666666666,\"#ed7953\"],[0.7777777777777778,\"#fb9f3a\"],[0.8888888888888888,\"#fdca26\"],[1.0,\"#f0f921\"]]}],\"choropleth\":[{\"type\":\"choropleth\",\"colorbar\":{\"outlinewidth\":0,\"ticks\":\"\"}}],\"histogram2d\":[{\"type\":\"histogram2d\",\"colorbar\":{\"outlinewidth\":0,\"ticks\":\"\"},\"colorscale\":[[0.0,\"#0d0887\"],[0.1111111111111111,\"#46039f\"],[0.2222222222222222,\"#7201a8\"],[0.3333333333333333,\"#9c179e\"],[0.4444444444444444,\"#bd3786\"],[0.5555555555555556,\"#d8576b\"],[0.6666666666666666,\"#ed7953\"],[0.7777777777777778,\"#fb9f3a\"],[0.8888888888888888,\"#fdca26\"],[1.0,\"#f0f921\"]]}],\"heatmap\":[{\"type\":\"heatmap\",\"colorbar\":{\"outlinewidth\":0,\"ticks\":\"\"},\"colorscale\":[[0.0,\"#0d0887\"],[0.1111111111111111,\"#46039f\"],[0.2222222222222222,\"#7201a8\"],[0.3333333333333333,\"#9c179e\"],[0.4444444444444444,\"#bd3786\"],[0.5555555555555556,\"#d8576b\"],[0.6666666666666666,\"#ed7953\"],[0.7777777777777778,\"#fb9f3a\"],[0.8888888888888888,\"#fdca26\"],[1.0,\"#f0f921\"]]}],\"heatmapgl\":[{\"type\":\"heatmapgl\",\"colorbar\":{\"outlinewidth\":0,\"ticks\":\"\"},\"colorscale\":[[0.0,\"#0d0887\"],[0.1111111111111111,\"#46039f\"],[0.2222222222222222,\"#7201a8\"],[0.3333333333333333,\"#9c179e\"],[0.4444444444444444,\"#bd3786\"],[0.5555555555555556,\"#d8576b\"],[0.6666666666666666,\"#ed7953\"],[0.7777777777777778,\"#fb9f3a\"],[0.8888888888888888,\"#fdca26\"],[1.0,\"#f0f921\"]]}],\"contourcarpet\":[{\"type\":\"contourcarpet\",\"colorbar\":{\"outlinewidth\":0,\"ticks\":\"\"}}],\"contour\":[{\"type\":\"contour\",\"colorbar\":{\"outlinewidth\":0,\"ticks\":\"\"},\"colorscale\":[[0.0,\"#0d0887\"],[0.1111111111111111,\"#46039f\"],[0.2222222222222222,\"#7201a8\"],[0.3333333333333333,\"#9c179e\"],[0.4444444444444444,\"#bd3786\"],[0.5555555555555556,\"#d8576b\"],[0.6666666666666666,\"#ed7953\"],[0.7777777777777778,\"#fb9f3a\"],[0.8888888888888888,\"#fdca26\"],[1.0,\"#f0f921\"]]}],\"surface\":[{\"type\":\"surface\",\"colorbar\":{\"outlinewidth\":0,\"ticks\":\"\"},\"colorscale\":[[0.0,\"#0d0887\"],[0.1111111111111111,\"#46039f\"],[0.2222222222222222,\"#7201a8\"],[0.3333333333333333,\"#9c179e\"],[0.4444444444444444,\"#bd3786\"],[0.5555555555555556,\"#d8576b\"],[0.6666666666666666,\"#ed7953\"],[0.7777777777777778,\"#fb9f3a\"],[0.8888888888888888,\"#fdca26\"],[1.0,\"#f0f921\"]]}],\"mesh3d\":[{\"type\":\"mesh3d\",\"colorbar\":{\"outlinewidth\":0,\"ticks\":\"\"}}],\"scatter\":[{\"fillpattern\":{\"fillmode\":\"overlay\",\"size\":10,\"solidity\":0.2},\"type\":\"scatter\"}],\"parcoords\":[{\"type\":\"parcoords\",\"line\":{\"colorbar\":{\"outlinewidth\":0,\"ticks\":\"\"}}}],\"scatterpolargl\":[{\"type\":\"scatterpolargl\",\"marker\":{\"colorbar\":{\"outlinewidth\":0,\"ticks\":\"\"}}}],\"bar\":[{\"error_x\":{\"color\":\"#2a3f5f\"},\"error_y\":{\"color\":\"#2a3f5f\"},\"marker\":{\"line\":{\"color\":\"#E5ECF6\",\"width\":0.5},\"pattern\":{\"fillmode\":\"overlay\",\"size\":10,\"solidity\":0.2}},\"type\":\"bar\"}],\"scattergeo\":[{\"type\":\"scattergeo\",\"marker\":{\"colorbar\":{\"outlinewidth\":0,\"ticks\":\"\"}}}],\"scatterpolar\":[{\"type\":\"scatterpolar\",\"marker\":{\"colorbar\":{\"outlinewidth\":0,\"ticks\":\"\"}}}],\"histogram\":[{\"marker\":{\"pattern\":{\"fillmode\":\"overlay\",\"size\":10,\"solidity\":0.2}},\"type\":\"histogram\"}],\"scattergl\":[{\"type\":\"scattergl\",\"marker\":{\"colorbar\":{\"outlinewidth\":0,\"ticks\":\"\"}}}],\"scatter3d\":[{\"type\":\"scatter3d\",\"line\":{\"colorbar\":{\"outlinewidth\":0,\"ticks\":\"\"}},\"marker\":{\"colorbar\":{\"outlinewidth\":0,\"ticks\":\"\"}}}],\"scattermapbox\":[{\"type\":\"scattermapbox\",\"marker\":{\"colorbar\":{\"outlinewidth\":0,\"ticks\":\"\"}}}],\"scatterternary\":[{\"type\":\"scatterternary\",\"marker\":{\"colorbar\":{\"outlinewidth\":0,\"ticks\":\"\"}}}],\"scattercarpet\":[{\"type\":\"scattercarpet\",\"marker\":{\"colorbar\":{\"outlinewidth\":0,\"ticks\":\"\"}}}],\"carpet\":[{\"aaxis\":{\"endlinecolor\":\"#2a3f5f\",\"gridcolor\":\"white\",\"linecolor\":\"white\",\"minorgridcolor\":\"white\",\"startlinecolor\":\"#2a3f5f\"},\"baxis\":{\"endlinecolor\":\"#2a3f5f\",\"gridcolor\":\"white\",\"linecolor\":\"white\",\"minorgridcolor\":\"white\",\"startlinecolor\":\"#2a3f5f\"},\"type\":\"carpet\"}],\"table\":[{\"cells\":{\"fill\":{\"color\":\"#EBF0F8\"},\"line\":{\"color\":\"white\"}},\"header\":{\"fill\":{\"color\":\"#C8D4E3\"},\"line\":{\"color\":\"white\"}},\"type\":\"table\"}],\"barpolar\":[{\"marker\":{\"line\":{\"color\":\"#E5ECF6\",\"width\":0.5},\"pattern\":{\"fillmode\":\"overlay\",\"size\":10,\"solidity\":0.2}},\"type\":\"barpolar\"}],\"pie\":[{\"automargin\":true,\"type\":\"pie\"}]},\"layout\":{\"autotypenumbers\":\"strict\",\"colorway\":[\"#636efa\",\"#EF553B\",\"#00cc96\",\"#ab63fa\",\"#FFA15A\",\"#19d3f3\",\"#FF6692\",\"#B6E880\",\"#FF97FF\",\"#FECB52\"],\"font\":{\"color\":\"#2a3f5f\"},\"hovermode\":\"closest\",\"hoverlabel\":{\"align\":\"left\"},\"paper_bgcolor\":\"white\",\"plot_bgcolor\":\"#E5ECF6\",\"polar\":{\"bgcolor\":\"#E5ECF6\",\"angularaxis\":{\"gridcolor\":\"white\",\"linecolor\":\"white\",\"ticks\":\"\"},\"radialaxis\":{\"gridcolor\":\"white\",\"linecolor\":\"white\",\"ticks\":\"\"}},\"ternary\":{\"bgcolor\":\"#E5ECF6\",\"aaxis\":{\"gridcolor\":\"white\",\"linecolor\":\"white\",\"ticks\":\"\"},\"baxis\":{\"gridcolor\":\"white\",\"linecolor\":\"white\",\"ticks\":\"\"},\"caxis\":{\"gridcolor\":\"white\",\"linecolor\":\"white\",\"ticks\":\"\"}},\"coloraxis\":{\"colorbar\":{\"outlinewidth\":0,\"ticks\":\"\"}},\"colorscale\":{\"sequential\":[[0.0,\"#0d0887\"],[0.1111111111111111,\"#46039f\"],[0.2222222222222222,\"#7201a8\"],[0.3333333333333333,\"#9c179e\"],[0.4444444444444444,\"#bd3786\"],[0.5555555555555556,\"#d8576b\"],[0.6666666666666666,\"#ed7953\"],[0.7777777777777778,\"#fb9f3a\"],[0.8888888888888888,\"#fdca26\"],[1.0,\"#f0f921\"]],\"sequentialminus\":[[0.0,\"#0d0887\"],[0.1111111111111111,\"#46039f\"],[0.2222222222222222,\"#7201a8\"],[0.3333333333333333,\"#9c179e\"],[0.4444444444444444,\"#bd3786\"],[0.5555555555555556,\"#d8576b\"],[0.6666666666666666,\"#ed7953\"],[0.7777777777777778,\"#fb9f3a\"],[0.8888888888888888,\"#fdca26\"],[1.0,\"#f0f921\"]],\"diverging\":[[0,\"#8e0152\"],[0.1,\"#c51b7d\"],[0.2,\"#de77ae\"],[0.3,\"#f1b6da\"],[0.4,\"#fde0ef\"],[0.5,\"#f7f7f7\"],[0.6,\"#e6f5d0\"],[0.7,\"#b8e186\"],[0.8,\"#7fbc41\"],[0.9,\"#4d9221\"],[1,\"#276419\"]]},\"xaxis\":{\"gridcolor\":\"white\",\"linecolor\":\"white\",\"ticks\":\"\",\"title\":{\"standoff\":15},\"zerolinecolor\":\"white\",\"automargin\":true,\"zerolinewidth\":2},\"yaxis\":{\"gridcolor\":\"white\",\"linecolor\":\"white\",\"ticks\":\"\",\"title\":{\"standoff\":15},\"zerolinecolor\":\"white\",\"automargin\":true,\"zerolinewidth\":2},\"scene\":{\"xaxis\":{\"backgroundcolor\":\"#E5ECF6\",\"gridcolor\":\"white\",\"linecolor\":\"white\",\"showbackground\":true,\"ticks\":\"\",\"zerolinecolor\":\"white\",\"gridwidth\":2},\"yaxis\":{\"backgroundcolor\":\"#E5ECF6\",\"gridcolor\":\"white\",\"linecolor\":\"white\",\"showbackground\":true,\"ticks\":\"\",\"zerolinecolor\":\"white\",\"gridwidth\":2},\"zaxis\":{\"backgroundcolor\":\"#E5ECF6\",\"gridcolor\":\"white\",\"linecolor\":\"white\",\"showbackground\":true,\"ticks\":\"\",\"zerolinecolor\":\"white\",\"gridwidth\":2}},\"shapedefaults\":{\"line\":{\"color\":\"#2a3f5f\"}},\"annotationdefaults\":{\"arrowcolor\":\"#2a3f5f\",\"arrowhead\":0,\"arrowwidth\":1},\"geo\":{\"bgcolor\":\"white\",\"landcolor\":\"#E5ECF6\",\"subunitcolor\":\"white\",\"showland\":true,\"showlakes\":true,\"lakecolor\":\"white\"},\"title\":{\"x\":0.05},\"mapbox\":{\"style\":\"light\"}}},\"xaxis\":{\"anchor\":\"y\",\"domain\":[0.0,1.0],\"title\":{\"text\":\"Gini index\"}},\"yaxis\":{\"anchor\":\"x\",\"domain\":[0.0,1.0],\"title\":{\"text\":\"Life Satisfaction\"}},\"legend\":{\"tracegroupgap\":0},\"title\":{\"text\":\"Life Satisfaction/Gini index Scatterplot (Germany)\"},\"annotations\":[{\"arrowcolor\":\"black\",\"arrowhead\":1,\"arrowsize\":1,\"arrowwidth\":2,\"ax\":31.07,\"axref\":\"x\",\"ay\":6.72,\"ayref\":\"y\",\"showarrow\":true,\"text\":\"\",\"x\":30.5,\"xref\":\"x\",\"y\":6.62,\"yref\":\"y\"},{\"arrowcolor\":\"black\",\"arrowhead\":1,\"arrowsize\":1,\"arrowwidth\":2,\"ax\":30.5,\"axref\":\"x\",\"ay\":6.62,\"ayref\":\"y\",\"showarrow\":true,\"text\":\"\",\"x\":30.25,\"xref\":\"x\",\"y\":6.7,\"yref\":\"y\"},{\"arrowcolor\":\"black\",\"arrowhead\":1,\"arrowsize\":1,\"arrowwidth\":2,\"ax\":30.25,\"axref\":\"x\",\"ay\":6.7,\"ayref\":\"y\",\"showarrow\":true,\"text\":\"\",\"x\":30.48,\"xref\":\"x\",\"y\":6.97,\"yref\":\"y\"},{\"arrowcolor\":\"black\",\"arrowhead\":1,\"arrowsize\":1,\"arrowwidth\":2,\"ax\":30.48,\"axref\":\"x\",\"ay\":6.97,\"ayref\":\"y\",\"showarrow\":true,\"text\":\"\",\"x\":30.88,\"xref\":\"x\",\"y\":6.98,\"yref\":\"y\"},{\"arrowcolor\":\"black\",\"arrowhead\":1,\"arrowsize\":1,\"arrowwidth\":2,\"ax\":30.88,\"axref\":\"x\",\"ay\":6.98,\"ayref\":\"y\",\"showarrow\":true,\"text\":\"\",\"x\":31.15,\"xref\":\"x\",\"y\":7.04,\"yref\":\"y\"},{\"arrowcolor\":\"black\",\"arrowhead\":1,\"arrowsize\":1,\"arrowwidth\":2,\"ax\":31.15,\"axref\":\"x\",\"ay\":7.04,\"ayref\":\"y\",\"showarrow\":true,\"text\":\"\",\"x\":30.87,\"xref\":\"x\",\"y\":6.87,\"yref\":\"y\"},{\"arrowcolor\":\"black\",\"arrowhead\":1,\"arrowsize\":1,\"arrowwidth\":2,\"ax\":30.87,\"axref\":\"x\",\"ay\":6.87,\"ayref\":\"y\",\"showarrow\":true,\"text\":\"\",\"x\":31.74,\"xref\":\"x\",\"y\":7.07,\"yref\":\"y\"},{\"arrowcolor\":\"black\",\"arrowhead\":1,\"arrowsize\":1,\"arrowwidth\":2,\"ax\":31.74,\"axref\":\"x\",\"ay\":7.07,\"ayref\":\"y\",\"showarrow\":true,\"text\":\"\",\"x\":31.87,\"xref\":\"x\",\"y\":7.12,\"yref\":\"y\"},{\"arrowcolor\":\"black\",\"arrowhead\":1,\"arrowsize\":1,\"arrowwidth\":2,\"ax\":31.87,\"axref\":\"x\",\"ay\":7.12,\"ayref\":\"y\",\"showarrow\":true,\"text\":\"\",\"x\":31.87,\"xref\":\"x\",\"y\":7.04,\"yref\":\"y\"}]},                        {\"responsive\": true}                    ).then(function(){\n",
       "                            \n",
       "var gd = document.getElementById('d167a29e-9d4f-4d03-980b-2ccc44aad903');\n",
       "var x = new MutationObserver(function (mutations, observer) {{\n",
       "        var display = window.getComputedStyle(gd).display;\n",
       "        if (!display || display === 'none') {{\n",
       "            console.log([gd, 'removed!']);\n",
       "            Plotly.purge(gd);\n",
       "            observer.disconnect();\n",
       "        }}\n",
       "}});\n",
       "\n",
       "// Listen for the removal of the full notebook cells\n",
       "var notebookContainer = gd.closest('#notebook-container');\n",
       "if (notebookContainer) {{\n",
       "    x.observe(notebookContainer, {childList: true});\n",
       "}}\n",
       "\n",
       "// Listen for the clearing of the current output cell\n",
       "var outputEl = gd.closest('.output');\n",
       "if (outputEl) {{\n",
       "    x.observe(outputEl, {childList: true});\n",
       "}}\n",
       "\n",
       "                        })                };                });            </script>        </div>"
      ]
     },
     "metadata": {},
     "output_type": "display_data"
    }
   ],
   "source": [
    "arrow_scatterplot_gdp(\"DEU\", df).show()\n",
    "arrow_scatterplot_gini(\"DEU\", df).show()"
   ]
  },
  {
   "cell_type": "markdown",
   "id": "e7be83ad",
   "metadata": {},
   "source": [
    "c) Scatterplot comparing all countries\n",
    "\n",
    "The previous scatterplots now included a visualization of development over time. Unfortunately, in this way, countries could only be portrayed individually. Also, the viewer was forced to read two seperate graphs in order to compare GDP per capita development and Gini index development. Therefore another scatterplot was developed. It aimed to capture every country's development over time in GDP per capita, Gini index and Life Satisfaction, allowing for instant comparison with each other. In order to achieve this, a seperate dataframe was created that recorded GDP per capita, Gini index and Life Satisfaction data in three different ways: 1) as they stood in the last recorded year (2017), 2) the change over a ten year period in percent, from the first recording in 2008 until the last recording in 2017, 3) as either above or below a threshold which was chosen on the basis of effectively dividing countries into two seperate groups. The threshold for GDP per capita was set a $35,000 (roughly rich vs. poor). The threshold for Gini index was set a 34 (roughly equal vs. unequal). The threshold for Life Satisfaction was set at 6 (roughly happy vs. unhappy)."
   ]
  },
  {
   "cell_type": "code",
   "execution_count": 20,
   "id": "880c363b",
   "metadata": {},
   "outputs": [],
   "source": [
    "df_developments = pd.DataFrame(columns=['Code',\n",
    "                                        'Country',\n",
    "                                        'Continent',\n",
    "                                        'Population',\n",
    "                                        'GDP per capita 2017',\n",
    "                                        'Gini index 2017',\n",
    "                                        'Life Satisfaction 2017',\n",
    "                                        'Change GDP per capita',\n",
    "                                        'Change Gini index',\n",
    "                                        'Change Life Satisfaction', \n",
    "                                        'GDP per capita threshold',   \n",
    "                                        'Gini index threshold',\n",
    "                                        'Life Satisfaction threshold'])\n",
    "\n",
    "for i in df_unique_ginis[\"Code\"].unique():\n",
    "    df_country = df[df['Code'] == i]\n",
    "    country_code = i\n",
    "    country_name = df_country.iloc[-1,0]\n",
    "    continent = df_country.iloc[-1,7]\n",
    "    population = df_country.iloc[-1,5]\n",
    "    gdp_pc_2017 = df_country.iloc[-1,4]\n",
    "    gini_index_2017 = df_country.iloc[-1,6].round(0)\n",
    "    life_satisfaction_2017 = df_country.iloc[-1,3]\n",
    "    change_gdp_pc = ((df_country.iloc[-1,4] - df_country.iloc[0,4])/df_country.iloc[0,4]) * 100\n",
    "    change_gini_index = ((df_country.iloc[-1,6] - df_country.iloc[0,6])/df_country.iloc[0,6]) * 100\n",
    "    change_life_satisfaction = (((df_country.iloc[-1, 3] - df_country.iloc[0, 3]) / df_country.iloc[0, 3])+1)**10\n",
    "    if gdp_pc_2017 > 35000:\n",
    "        gdp_pc_threshold = \"above\"\n",
    "    else:\n",
    "        gdp_pc_threshold = \"below\"\n",
    "    if gini_index_2017 > 34:\n",
    "        gini_index_threshold = \"above\"\n",
    "    else:\n",
    "        gini_index_threshold = \"below\"\n",
    "    if life_satisfaction_2017 > 6:\n",
    "        life_satisfaction_threshold = \"above\"\n",
    "    else:\n",
    "        life_satisfaction_threshold = \"below\"\n",
    "    df_developments.loc[len(df_developments)] = [country_code,\n",
    "                                                 country_name,\n",
    "                                                 continent, population,\n",
    "                                                 gdp_pc_2017, gini_index_2017,\n",
    "                                                 life_satisfaction_2017, change_gdp_pc,\n",
    "                                                 change_gini_index,change_life_satisfaction,\n",
    "                                                 gdp_pc_threshold,\n",
    "                                                 gini_index_threshold,\n",
    "                                                 life_satisfaction_threshold]\n",
    "    "
   ]
  },
  {
   "cell_type": "markdown",
   "id": "d347632b",
   "metadata": {},
   "source": [
    "Change in GDP per capita from 2008-2017 was recorded on the x-axis. Change in Gini index from 2008-2017 was recorded on the y-axis. Change in Life Satisfaction from 2008-2017 was recorded in the size of the symbols (small symbol = low growth or shrinkage, large symbol = high growth). Additionally, the types of symbols and symbol colors could be used to record a country being either above or below the determined threshold for GDP per capita, Gini index or Life Satisfaction. These could be combined in several different ways to visualize different pieces of information that could be extracted from the data. All this information can be determined from the title, subtitle and legends which were included in the graph for clarity. Symbols (diamond and circle), symbol size (restricted to 50) and colors (blue and red) were chosen to allow for a clear reading of the graph. Using scales instead of thresholds in combination with several different colors and symbols made the graph too complicated to read. Thresholds allowed for easy extraction of information. Labels only included the country code to the bottom right of the data point as the entire name of each country would have taken up too much space. However, it was important to include the country code in order to enable a quick understanding of the graph. The hover function which could have allowed information such as country name etc. to be included in a different way was disabled to avoid making the reading of the graph too strenuous and time consuming. "
   ]
  },
  {
   "cell_type": "code",
   "execution_count": 21,
   "id": "b79620ca",
   "metadata": {},
   "outputs": [
    {
     "data": {
      "application/vnd.plotly.v1+json": {
       "config": {
        "plotlyServerURL": "https://plot.ly"
       },
       "data": [
        {
         "hoverinfo": "skip",
         "legendgroup": "below",
         "marker": {
          "color": "#636efa",
          "size": [
           9.792849378949848,
           7.616946782747347,
           1.6671648049694348,
           0.8251866717568028,
           0.5559505051169966,
           14.535883292225726,
           0.9102421824850777,
           0.6849143911858397,
           1.0548815060765662,
           10.561584720104214,
           0.9498015036333282,
           0.6441665674800324,
           2.5553457877677976,
           5.824384320215445,
           1.2051502249421926,
           1.1070466477153709,
           10.787010375468443,
           3.640486457173823,
           3.642693414432974,
           6.254310293178588,
           0.10631160634288753,
           5.95177696637397,
           4.327456934706325,
           1.4459785706080956,
           0.8789440384338701,
           6.241289874456591,
           0.15887739695859293,
           0.7183829347373362,
           1.9583210459511375,
           1.7811190511318618,
           6.1111159894425,
           9.200042295826826,
           1.1172908452951849,
           28.74069789737428,
           1.3623608356767276,
           0.7212088804422544,
           0.3016936488436959,
           0.5663535486612615,
           0.47805009733915027,
           2.3480812129618176
          ],
          "sizemode": "area",
          "sizeref": 0.011496279158949711,
          "symbol": "circle"
         },
         "mode": "markers+text",
         "name": "below",
         "orientation": "v",
         "showlegend": true,
         "text": [
          "ARM",
          "AZE",
          "BLR",
          "BOL",
          "BRA",
          "BGR",
          "COL",
          "CRI",
          "HRV",
          "DOM",
          "ECU",
          "SLV",
          "EST",
          "GEO",
          "GRC",
          "HND",
          "HUN",
          "KAZ",
          "KGZ",
          "LVA",
          "LBN",
          "LTU",
          "MLI",
          "MDA",
          "MNE",
          "MKD",
          "PAN",
          "PRY",
          "PER",
          "POL",
          "PRT",
          "ROU",
          "RUS",
          "SRB",
          "SVK",
          "THA",
          "TUR",
          "TKM",
          "UKR",
          "URY"
         ],
         "textfont": {
          "size": 15
         },
         "textposition": "bottom right",
         "type": "scatter",
         "x": [
          15.73366450133741,
          9.439665194140897,
          14.658470802232957,
          32.64052905054322,
          2.9047113000354234,
          20.714567929107634,
          24.383393311682614,
          23.113692745204816,
          1.2811307206832698,
          39.67949252983891,
          13.268987033245589,
          14.351413499256052,
          33.33858453782837,
          45.20782134843466,
          -23.5358496609898,
          10.97366320830008,
          14.236420734307758,
          25.76125442589782,
          21.84934814099469,
          33.00835654596101,
          -6.118614210217264,
          26.048161284300914,
          7.873259721555449,
          37.491149398159074,
          13.173480535909379,
          19.96933691069375,
          47.53597906672481,
          30.368606336715676,
          33.8935874103415,
          33.94965471151704,
          2.2811687507738023,
          23.126474324079112,
          4.170684667309547,
          13.061530084399672,
          14.926721936269693,
          27.912781734087073,
          40.03913108914865,
          77.20808383233533,
          -10.040921491361019,
          33.259975676145245
         ],
         "xaxis": "x",
         "y": [
          15.176430284343938,
          0,
          -8.587854832914111,
          -12.199921290830387,
          -1.4248704663212364,
          20.285969615728337,
          -10.122921185827913,
          -0.5962171052631561,
          -9.967368733313554,
          -12.284348368322586,
          -10.283189395460932,
          -18.93793985924505,
          -3.4351145038167994,
          -1.5312743316896014,
          2.262578148258404,
          -10.900900900900897,
          11.159578335150842,
          -3.684210526315792,
          -13.068362480127185,
          2.124605225380425,
          0,
          0.6206152185644815,
          0,
          -25.338714326895357,
          26.23811085601838,
          -25.877763328998693,
          -5.314101347504265,
          -4.240631163708098,
          -8.784495470823682,
          -10.142348754448394,
          -7.72590772590774,
          21.7714672075727,
          -10.416165503969205,
          31.16835994194485,
          -6.326758466691475,
          -9.332340531149164,
          6.125064069707825,
          0,
          -2.214714714714714,
          -12.466725820763083
         ],
         "yaxis": "y"
        },
        {
         "hoverinfo": "skip",
         "legendgroup": "above",
         "marker": {
          "color": "#EF553B",
          "size": [
           0.8711568645059864,
           0.8891621594698812,
           0.670926784277816,
           3.2415526265353583,
           0.9016816053780005,
           1.6724440044359534,
           0.8495169540237284,
           1.592332872526805,
           0.9863109591567644,
           1.1691221628389734,
           1.5126334850823389,
           4.660070754383017,
           0.9104906780651034,
           2.524774216432587,
           1.5325642470443535,
           0.8743887542376395,
           1.2010939319638414,
           0.7319214609668033
          ],
          "sizemode": "area",
          "sizeref": 0.011496279158949711,
          "symbol": "diamond"
         },
         "mode": "markers+text",
         "name": "above",
         "orientation": "v",
         "showlegend": true,
         "text": [
          "AUT",
          "BEL",
          "CYP",
          "CZE",
          "DNK",
          "FIN",
          "FRA",
          "DEU",
          "IRL",
          "ITA",
          "LUX",
          "MLT",
          "NLD",
          "SVN",
          "ESP",
          "SWE",
          "GBR",
          "USA"
         ],
         "textfont": {
          "size": 15
         },
         "textposition": "bottom right",
         "type": "scatter",
         "x": [
          2.034281408928235,
          4.169506226380026,
          -6.012103248116587,
          7.041642567958357,
          4.480682483060605,
          -2.556434102175427,
          3.677086240580519,
          11.308935740861413,
          39.248663385617675,
          -6.819200430261743,
          0.8060317745265235,
          33.709591446398896,
          2.304635269647898,
          1.1779052687009783,
          0.736493374108053,
          8.30848779267352,
          4.751545683535608,
          8.753075698364453
         ],
         "xaxis": "x",
         "y": [
          -2.299605781865975,
          -3.4543531899894266,
          -0.9145380006307132,
          -3.310502283105027,
          13.861386138613863,
          -1.6522988505747158,
          -4.151515151515155,
          2.5748310267138743,
          1.4558395341313468,
          6.396209653538633,
          6.019656019656021,
          0.7931034482758635,
          -2.5938566552901077,
          2.1079258010118047,
          1.256575102279368,
          2.3115220483641483,
          2.9584065612185064,
          0.9066405292820323
         ],
         "yaxis": "y"
        }
       ],
       "layout": {
        "legend": {
         "itemsizing": "constant",
         "title": {
          "text": "GDP per capita: $35,000"
         },
         "tracegroupgap": 0
        },
        "template": {
         "data": {
          "bar": [
           {
            "error_x": {
             "color": "#2a3f5f"
            },
            "error_y": {
             "color": "#2a3f5f"
            },
            "marker": {
             "line": {
              "color": "#E5ECF6",
              "width": 0.5
             },
             "pattern": {
              "fillmode": "overlay",
              "size": 10,
              "solidity": 0.2
             }
            },
            "type": "bar"
           }
          ],
          "barpolar": [
           {
            "marker": {
             "line": {
              "color": "#E5ECF6",
              "width": 0.5
             },
             "pattern": {
              "fillmode": "overlay",
              "size": 10,
              "solidity": 0.2
             }
            },
            "type": "barpolar"
           }
          ],
          "carpet": [
           {
            "aaxis": {
             "endlinecolor": "#2a3f5f",
             "gridcolor": "white",
             "linecolor": "white",
             "minorgridcolor": "white",
             "startlinecolor": "#2a3f5f"
            },
            "baxis": {
             "endlinecolor": "#2a3f5f",
             "gridcolor": "white",
             "linecolor": "white",
             "minorgridcolor": "white",
             "startlinecolor": "#2a3f5f"
            },
            "type": "carpet"
           }
          ],
          "choropleth": [
           {
            "colorbar": {
             "outlinewidth": 0,
             "ticks": ""
            },
            "type": "choropleth"
           }
          ],
          "contour": [
           {
            "colorbar": {
             "outlinewidth": 0,
             "ticks": ""
            },
            "colorscale": [
             [
              0,
              "#0d0887"
             ],
             [
              0.1111111111111111,
              "#46039f"
             ],
             [
              0.2222222222222222,
              "#7201a8"
             ],
             [
              0.3333333333333333,
              "#9c179e"
             ],
             [
              0.4444444444444444,
              "#bd3786"
             ],
             [
              0.5555555555555556,
              "#d8576b"
             ],
             [
              0.6666666666666666,
              "#ed7953"
             ],
             [
              0.7777777777777778,
              "#fb9f3a"
             ],
             [
              0.8888888888888888,
              "#fdca26"
             ],
             [
              1,
              "#f0f921"
             ]
            ],
            "type": "contour"
           }
          ],
          "contourcarpet": [
           {
            "colorbar": {
             "outlinewidth": 0,
             "ticks": ""
            },
            "type": "contourcarpet"
           }
          ],
          "heatmap": [
           {
            "colorbar": {
             "outlinewidth": 0,
             "ticks": ""
            },
            "colorscale": [
             [
              0,
              "#0d0887"
             ],
             [
              0.1111111111111111,
              "#46039f"
             ],
             [
              0.2222222222222222,
              "#7201a8"
             ],
             [
              0.3333333333333333,
              "#9c179e"
             ],
             [
              0.4444444444444444,
              "#bd3786"
             ],
             [
              0.5555555555555556,
              "#d8576b"
             ],
             [
              0.6666666666666666,
              "#ed7953"
             ],
             [
              0.7777777777777778,
              "#fb9f3a"
             ],
             [
              0.8888888888888888,
              "#fdca26"
             ],
             [
              1,
              "#f0f921"
             ]
            ],
            "type": "heatmap"
           }
          ],
          "heatmapgl": [
           {
            "colorbar": {
             "outlinewidth": 0,
             "ticks": ""
            },
            "colorscale": [
             [
              0,
              "#0d0887"
             ],
             [
              0.1111111111111111,
              "#46039f"
             ],
             [
              0.2222222222222222,
              "#7201a8"
             ],
             [
              0.3333333333333333,
              "#9c179e"
             ],
             [
              0.4444444444444444,
              "#bd3786"
             ],
             [
              0.5555555555555556,
              "#d8576b"
             ],
             [
              0.6666666666666666,
              "#ed7953"
             ],
             [
              0.7777777777777778,
              "#fb9f3a"
             ],
             [
              0.8888888888888888,
              "#fdca26"
             ],
             [
              1,
              "#f0f921"
             ]
            ],
            "type": "heatmapgl"
           }
          ],
          "histogram": [
           {
            "marker": {
             "pattern": {
              "fillmode": "overlay",
              "size": 10,
              "solidity": 0.2
             }
            },
            "type": "histogram"
           }
          ],
          "histogram2d": [
           {
            "colorbar": {
             "outlinewidth": 0,
             "ticks": ""
            },
            "colorscale": [
             [
              0,
              "#0d0887"
             ],
             [
              0.1111111111111111,
              "#46039f"
             ],
             [
              0.2222222222222222,
              "#7201a8"
             ],
             [
              0.3333333333333333,
              "#9c179e"
             ],
             [
              0.4444444444444444,
              "#bd3786"
             ],
             [
              0.5555555555555556,
              "#d8576b"
             ],
             [
              0.6666666666666666,
              "#ed7953"
             ],
             [
              0.7777777777777778,
              "#fb9f3a"
             ],
             [
              0.8888888888888888,
              "#fdca26"
             ],
             [
              1,
              "#f0f921"
             ]
            ],
            "type": "histogram2d"
           }
          ],
          "histogram2dcontour": [
           {
            "colorbar": {
             "outlinewidth": 0,
             "ticks": ""
            },
            "colorscale": [
             [
              0,
              "#0d0887"
             ],
             [
              0.1111111111111111,
              "#46039f"
             ],
             [
              0.2222222222222222,
              "#7201a8"
             ],
             [
              0.3333333333333333,
              "#9c179e"
             ],
             [
              0.4444444444444444,
              "#bd3786"
             ],
             [
              0.5555555555555556,
              "#d8576b"
             ],
             [
              0.6666666666666666,
              "#ed7953"
             ],
             [
              0.7777777777777778,
              "#fb9f3a"
             ],
             [
              0.8888888888888888,
              "#fdca26"
             ],
             [
              1,
              "#f0f921"
             ]
            ],
            "type": "histogram2dcontour"
           }
          ],
          "mesh3d": [
           {
            "colorbar": {
             "outlinewidth": 0,
             "ticks": ""
            },
            "type": "mesh3d"
           }
          ],
          "parcoords": [
           {
            "line": {
             "colorbar": {
              "outlinewidth": 0,
              "ticks": ""
             }
            },
            "type": "parcoords"
           }
          ],
          "pie": [
           {
            "automargin": true,
            "type": "pie"
           }
          ],
          "scatter": [
           {
            "fillpattern": {
             "fillmode": "overlay",
             "size": 10,
             "solidity": 0.2
            },
            "type": "scatter"
           }
          ],
          "scatter3d": [
           {
            "line": {
             "colorbar": {
              "outlinewidth": 0,
              "ticks": ""
             }
            },
            "marker": {
             "colorbar": {
              "outlinewidth": 0,
              "ticks": ""
             }
            },
            "type": "scatter3d"
           }
          ],
          "scattercarpet": [
           {
            "marker": {
             "colorbar": {
              "outlinewidth": 0,
              "ticks": ""
             }
            },
            "type": "scattercarpet"
           }
          ],
          "scattergeo": [
           {
            "marker": {
             "colorbar": {
              "outlinewidth": 0,
              "ticks": ""
             }
            },
            "type": "scattergeo"
           }
          ],
          "scattergl": [
           {
            "marker": {
             "colorbar": {
              "outlinewidth": 0,
              "ticks": ""
             }
            },
            "type": "scattergl"
           }
          ],
          "scattermapbox": [
           {
            "marker": {
             "colorbar": {
              "outlinewidth": 0,
              "ticks": ""
             }
            },
            "type": "scattermapbox"
           }
          ],
          "scatterpolar": [
           {
            "marker": {
             "colorbar": {
              "outlinewidth": 0,
              "ticks": ""
             }
            },
            "type": "scatterpolar"
           }
          ],
          "scatterpolargl": [
           {
            "marker": {
             "colorbar": {
              "outlinewidth": 0,
              "ticks": ""
             }
            },
            "type": "scatterpolargl"
           }
          ],
          "scatterternary": [
           {
            "marker": {
             "colorbar": {
              "outlinewidth": 0,
              "ticks": ""
             }
            },
            "type": "scatterternary"
           }
          ],
          "surface": [
           {
            "colorbar": {
             "outlinewidth": 0,
             "ticks": ""
            },
            "colorscale": [
             [
              0,
              "#0d0887"
             ],
             [
              0.1111111111111111,
              "#46039f"
             ],
             [
              0.2222222222222222,
              "#7201a8"
             ],
             [
              0.3333333333333333,
              "#9c179e"
             ],
             [
              0.4444444444444444,
              "#bd3786"
             ],
             [
              0.5555555555555556,
              "#d8576b"
             ],
             [
              0.6666666666666666,
              "#ed7953"
             ],
             [
              0.7777777777777778,
              "#fb9f3a"
             ],
             [
              0.8888888888888888,
              "#fdca26"
             ],
             [
              1,
              "#f0f921"
             ]
            ],
            "type": "surface"
           }
          ],
          "table": [
           {
            "cells": {
             "fill": {
              "color": "#EBF0F8"
             },
             "line": {
              "color": "white"
             }
            },
            "header": {
             "fill": {
              "color": "#C8D4E3"
             },
             "line": {
              "color": "white"
             }
            },
            "type": "table"
           }
          ]
         },
         "layout": {
          "annotationdefaults": {
           "arrowcolor": "#2a3f5f",
           "arrowhead": 0,
           "arrowwidth": 1
          },
          "autotypenumbers": "strict",
          "coloraxis": {
           "colorbar": {
            "outlinewidth": 0,
            "ticks": ""
           }
          },
          "colorscale": {
           "diverging": [
            [
             0,
             "#8e0152"
            ],
            [
             0.1,
             "#c51b7d"
            ],
            [
             0.2,
             "#de77ae"
            ],
            [
             0.3,
             "#f1b6da"
            ],
            [
             0.4,
             "#fde0ef"
            ],
            [
             0.5,
             "#f7f7f7"
            ],
            [
             0.6,
             "#e6f5d0"
            ],
            [
             0.7,
             "#b8e186"
            ],
            [
             0.8,
             "#7fbc41"
            ],
            [
             0.9,
             "#4d9221"
            ],
            [
             1,
             "#276419"
            ]
           ],
           "sequential": [
            [
             0,
             "#0d0887"
            ],
            [
             0.1111111111111111,
             "#46039f"
            ],
            [
             0.2222222222222222,
             "#7201a8"
            ],
            [
             0.3333333333333333,
             "#9c179e"
            ],
            [
             0.4444444444444444,
             "#bd3786"
            ],
            [
             0.5555555555555556,
             "#d8576b"
            ],
            [
             0.6666666666666666,
             "#ed7953"
            ],
            [
             0.7777777777777778,
             "#fb9f3a"
            ],
            [
             0.8888888888888888,
             "#fdca26"
            ],
            [
             1,
             "#f0f921"
            ]
           ],
           "sequentialminus": [
            [
             0,
             "#0d0887"
            ],
            [
             0.1111111111111111,
             "#46039f"
            ],
            [
             0.2222222222222222,
             "#7201a8"
            ],
            [
             0.3333333333333333,
             "#9c179e"
            ],
            [
             0.4444444444444444,
             "#bd3786"
            ],
            [
             0.5555555555555556,
             "#d8576b"
            ],
            [
             0.6666666666666666,
             "#ed7953"
            ],
            [
             0.7777777777777778,
             "#fb9f3a"
            ],
            [
             0.8888888888888888,
             "#fdca26"
            ],
            [
             1,
             "#f0f921"
            ]
           ]
          },
          "colorway": [
           "#636efa",
           "#EF553B",
           "#00cc96",
           "#ab63fa",
           "#FFA15A",
           "#19d3f3",
           "#FF6692",
           "#B6E880",
           "#FF97FF",
           "#FECB52"
          ],
          "font": {
           "color": "#2a3f5f"
          },
          "geo": {
           "bgcolor": "white",
           "lakecolor": "white",
           "landcolor": "#E5ECF6",
           "showlakes": true,
           "showland": true,
           "subunitcolor": "white"
          },
          "hoverlabel": {
           "align": "left"
          },
          "hovermode": "closest",
          "mapbox": {
           "style": "light"
          },
          "paper_bgcolor": "white",
          "plot_bgcolor": "#E5ECF6",
          "polar": {
           "angularaxis": {
            "gridcolor": "white",
            "linecolor": "white",
            "ticks": ""
           },
           "bgcolor": "#E5ECF6",
           "radialaxis": {
            "gridcolor": "white",
            "linecolor": "white",
            "ticks": ""
           }
          },
          "scene": {
           "xaxis": {
            "backgroundcolor": "#E5ECF6",
            "gridcolor": "white",
            "gridwidth": 2,
            "linecolor": "white",
            "showbackground": true,
            "ticks": "",
            "zerolinecolor": "white"
           },
           "yaxis": {
            "backgroundcolor": "#E5ECF6",
            "gridcolor": "white",
            "gridwidth": 2,
            "linecolor": "white",
            "showbackground": true,
            "ticks": "",
            "zerolinecolor": "white"
           },
           "zaxis": {
            "backgroundcolor": "#E5ECF6",
            "gridcolor": "white",
            "gridwidth": 2,
            "linecolor": "white",
            "showbackground": true,
            "ticks": "",
            "zerolinecolor": "white"
           }
          },
          "shapedefaults": {
           "line": {
            "color": "#2a3f5f"
           }
          },
          "ternary": {
           "aaxis": {
            "gridcolor": "white",
            "linecolor": "white",
            "ticks": ""
           },
           "baxis": {
            "gridcolor": "white",
            "linecolor": "white",
            "ticks": ""
           },
           "bgcolor": "#E5ECF6",
           "caxis": {
            "gridcolor": "white",
            "linecolor": "white",
            "ticks": ""
           }
          },
          "title": {
           "x": 0.05
          },
          "xaxis": {
           "automargin": true,
           "gridcolor": "white",
           "linecolor": "white",
           "ticks": "",
           "title": {
            "standoff": 15
           },
           "zerolinecolor": "white",
           "zerolinewidth": 2
          },
          "yaxis": {
           "automargin": true,
           "gridcolor": "white",
           "linecolor": "white",
           "ticks": "",
           "title": {
            "standoff": 15
           },
           "zerolinecolor": "white",
           "zerolinewidth": 2
          }
         }
        },
        "title": {
         "text": "Development of GDP per capita, Gini index and Life Satisfaction from 2008-2017 <br><sup>Size of symbols indicates development of Life Satisfaction (small symbol = low growth or shrinkage, large symbol = high growth)</sup>"
        },
        "xaxis": {
         "anchor": "y",
         "domain": [
          0,
          1
         ],
         "title": {
          "text": "Development of GDP per capita in %"
         }
        },
        "yaxis": {
         "anchor": "x",
         "domain": [
          0,
          1
         ],
         "title": {
          "text": "Development of Gini index in %"
         }
        }
       }
      },
      "text/html": [
       "<div>                            <div id=\"76d05754-21e3-4138-8be1-d72b8e64e359\" class=\"plotly-graph-div\" style=\"height:525px; width:100%;\"></div>            <script type=\"text/javascript\">                require([\"plotly\"], function(Plotly) {                    window.PLOTLYENV=window.PLOTLYENV || {};                                    if (document.getElementById(\"76d05754-21e3-4138-8be1-d72b8e64e359\")) {                    Plotly.newPlot(                        \"76d05754-21e3-4138-8be1-d72b8e64e359\",                        [{\"legendgroup\":\"below\",\"marker\":{\"color\":\"#636efa\",\"size\":[9.792849378949848,7.616946782747347,1.6671648049694348,0.8251866717568028,0.5559505051169966,14.535883292225726,0.9102421824850777,0.6849143911858397,1.0548815060765662,10.561584720104214,0.9498015036333282,0.6441665674800324,2.5553457877677976,5.824384320215445,1.2051502249421926,1.1070466477153709,10.787010375468443,3.640486457173823,3.642693414432974,6.254310293178588,0.10631160634288753,5.95177696637397,4.327456934706325,1.4459785706080956,0.8789440384338701,6.241289874456591,0.15887739695859293,0.7183829347373362,1.9583210459511375,1.7811190511318618,6.1111159894425,9.200042295826826,1.1172908452951849,28.74069789737428,1.3623608356767276,0.7212088804422544,0.3016936488436959,0.5663535486612615,0.47805009733915027,2.3480812129618176],\"sizemode\":\"area\",\"sizeref\":0.011496279158949711,\"symbol\":\"circle\"},\"mode\":\"markers+text\",\"name\":\"below\",\"orientation\":\"v\",\"showlegend\":true,\"text\":[\"ARM\",\"AZE\",\"BLR\",\"BOL\",\"BRA\",\"BGR\",\"COL\",\"CRI\",\"HRV\",\"DOM\",\"ECU\",\"SLV\",\"EST\",\"GEO\",\"GRC\",\"HND\",\"HUN\",\"KAZ\",\"KGZ\",\"LVA\",\"LBN\",\"LTU\",\"MLI\",\"MDA\",\"MNE\",\"MKD\",\"PAN\",\"PRY\",\"PER\",\"POL\",\"PRT\",\"ROU\",\"RUS\",\"SRB\",\"SVK\",\"THA\",\"TUR\",\"TKM\",\"UKR\",\"URY\"],\"x\":[15.73366450133741,9.439665194140897,14.658470802232957,32.64052905054322,2.9047113000354234,20.714567929107634,24.383393311682614,23.113692745204816,1.2811307206832698,39.67949252983891,13.268987033245589,14.351413499256052,33.33858453782837,45.20782134843466,-23.5358496609898,10.97366320830008,14.236420734307758,25.76125442589782,21.84934814099469,33.00835654596101,-6.118614210217264,26.048161284300914,7.873259721555449,37.491149398159074,13.173480535909379,19.96933691069375,47.53597906672481,30.368606336715676,33.8935874103415,33.94965471151704,2.2811687507738023,23.126474324079112,4.170684667309547,13.061530084399672,14.926721936269693,27.912781734087073,40.03913108914865,77.20808383233533,-10.040921491361019,33.259975676145245],\"xaxis\":\"x\",\"y\":[15.176430284343938,0.0,-8.587854832914111,-12.199921290830387,-1.4248704663212364,20.285969615728337,-10.122921185827913,-0.5962171052631561,-9.967368733313554,-12.284348368322586,-10.283189395460932,-18.93793985924505,-3.4351145038167994,-1.5312743316896014,2.262578148258404,-10.900900900900897,11.159578335150842,-3.684210526315792,-13.068362480127185,2.124605225380425,0.0,0.6206152185644815,0.0,-25.338714326895357,26.23811085601838,-25.877763328998693,-5.314101347504265,-4.240631163708098,-8.784495470823682,-10.142348754448394,-7.72590772590774,21.7714672075727,-10.416165503969205,31.16835994194485,-6.326758466691475,-9.332340531149164,6.125064069707825,0.0,-2.214714714714714,-12.466725820763083],\"yaxis\":\"y\",\"type\":\"scatter\",\"textfont\":{\"size\":15},\"hoverinfo\":\"skip\",\"textposition\":\"bottom right\"},{\"legendgroup\":\"above\",\"marker\":{\"color\":\"#EF553B\",\"size\":[0.8711568645059864,0.8891621594698812,0.670926784277816,3.2415526265353583,0.9016816053780005,1.6724440044359534,0.8495169540237284,1.592332872526805,0.9863109591567644,1.1691221628389734,1.5126334850823389,4.660070754383017,0.9104906780651034,2.524774216432587,1.5325642470443535,0.8743887542376395,1.2010939319638414,0.7319214609668033],\"sizemode\":\"area\",\"sizeref\":0.011496279158949711,\"symbol\":\"diamond\"},\"mode\":\"markers+text\",\"name\":\"above\",\"orientation\":\"v\",\"showlegend\":true,\"text\":[\"AUT\",\"BEL\",\"CYP\",\"CZE\",\"DNK\",\"FIN\",\"FRA\",\"DEU\",\"IRL\",\"ITA\",\"LUX\",\"MLT\",\"NLD\",\"SVN\",\"ESP\",\"SWE\",\"GBR\",\"USA\"],\"x\":[2.034281408928235,4.169506226380026,-6.012103248116587,7.041642567958357,4.480682483060605,-2.556434102175427,3.677086240580519,11.308935740861413,39.248663385617675,-6.819200430261743,0.8060317745265235,33.709591446398896,2.304635269647898,1.1779052687009783,0.736493374108053,8.30848779267352,4.751545683535608,8.753075698364453],\"xaxis\":\"x\",\"y\":[-2.299605781865975,-3.4543531899894266,-0.9145380006307132,-3.310502283105027,13.861386138613863,-1.6522988505747158,-4.151515151515155,2.5748310267138743,1.4558395341313468,6.396209653538633,6.019656019656021,0.7931034482758635,-2.5938566552901077,2.1079258010118047,1.256575102279368,2.3115220483641483,2.9584065612185064,0.9066405292820323],\"yaxis\":\"y\",\"type\":\"scatter\",\"textfont\":{\"size\":15},\"hoverinfo\":\"skip\",\"textposition\":\"bottom right\"}],                        {\"template\":{\"data\":{\"histogram2dcontour\":[{\"type\":\"histogram2dcontour\",\"colorbar\":{\"outlinewidth\":0,\"ticks\":\"\"},\"colorscale\":[[0.0,\"#0d0887\"],[0.1111111111111111,\"#46039f\"],[0.2222222222222222,\"#7201a8\"],[0.3333333333333333,\"#9c179e\"],[0.4444444444444444,\"#bd3786\"],[0.5555555555555556,\"#d8576b\"],[0.6666666666666666,\"#ed7953\"],[0.7777777777777778,\"#fb9f3a\"],[0.8888888888888888,\"#fdca26\"],[1.0,\"#f0f921\"]]}],\"choropleth\":[{\"type\":\"choropleth\",\"colorbar\":{\"outlinewidth\":0,\"ticks\":\"\"}}],\"histogram2d\":[{\"type\":\"histogram2d\",\"colorbar\":{\"outlinewidth\":0,\"ticks\":\"\"},\"colorscale\":[[0.0,\"#0d0887\"],[0.1111111111111111,\"#46039f\"],[0.2222222222222222,\"#7201a8\"],[0.3333333333333333,\"#9c179e\"],[0.4444444444444444,\"#bd3786\"],[0.5555555555555556,\"#d8576b\"],[0.6666666666666666,\"#ed7953\"],[0.7777777777777778,\"#fb9f3a\"],[0.8888888888888888,\"#fdca26\"],[1.0,\"#f0f921\"]]}],\"heatmap\":[{\"type\":\"heatmap\",\"colorbar\":{\"outlinewidth\":0,\"ticks\":\"\"},\"colorscale\":[[0.0,\"#0d0887\"],[0.1111111111111111,\"#46039f\"],[0.2222222222222222,\"#7201a8\"],[0.3333333333333333,\"#9c179e\"],[0.4444444444444444,\"#bd3786\"],[0.5555555555555556,\"#d8576b\"],[0.6666666666666666,\"#ed7953\"],[0.7777777777777778,\"#fb9f3a\"],[0.8888888888888888,\"#fdca26\"],[1.0,\"#f0f921\"]]}],\"heatmapgl\":[{\"type\":\"heatmapgl\",\"colorbar\":{\"outlinewidth\":0,\"ticks\":\"\"},\"colorscale\":[[0.0,\"#0d0887\"],[0.1111111111111111,\"#46039f\"],[0.2222222222222222,\"#7201a8\"],[0.3333333333333333,\"#9c179e\"],[0.4444444444444444,\"#bd3786\"],[0.5555555555555556,\"#d8576b\"],[0.6666666666666666,\"#ed7953\"],[0.7777777777777778,\"#fb9f3a\"],[0.8888888888888888,\"#fdca26\"],[1.0,\"#f0f921\"]]}],\"contourcarpet\":[{\"type\":\"contourcarpet\",\"colorbar\":{\"outlinewidth\":0,\"ticks\":\"\"}}],\"contour\":[{\"type\":\"contour\",\"colorbar\":{\"outlinewidth\":0,\"ticks\":\"\"},\"colorscale\":[[0.0,\"#0d0887\"],[0.1111111111111111,\"#46039f\"],[0.2222222222222222,\"#7201a8\"],[0.3333333333333333,\"#9c179e\"],[0.4444444444444444,\"#bd3786\"],[0.5555555555555556,\"#d8576b\"],[0.6666666666666666,\"#ed7953\"],[0.7777777777777778,\"#fb9f3a\"],[0.8888888888888888,\"#fdca26\"],[1.0,\"#f0f921\"]]}],\"surface\":[{\"type\":\"surface\",\"colorbar\":{\"outlinewidth\":0,\"ticks\":\"\"},\"colorscale\":[[0.0,\"#0d0887\"],[0.1111111111111111,\"#46039f\"],[0.2222222222222222,\"#7201a8\"],[0.3333333333333333,\"#9c179e\"],[0.4444444444444444,\"#bd3786\"],[0.5555555555555556,\"#d8576b\"],[0.6666666666666666,\"#ed7953\"],[0.7777777777777778,\"#fb9f3a\"],[0.8888888888888888,\"#fdca26\"],[1.0,\"#f0f921\"]]}],\"mesh3d\":[{\"type\":\"mesh3d\",\"colorbar\":{\"outlinewidth\":0,\"ticks\":\"\"}}],\"scatter\":[{\"fillpattern\":{\"fillmode\":\"overlay\",\"size\":10,\"solidity\":0.2},\"type\":\"scatter\"}],\"parcoords\":[{\"type\":\"parcoords\",\"line\":{\"colorbar\":{\"outlinewidth\":0,\"ticks\":\"\"}}}],\"scatterpolargl\":[{\"type\":\"scatterpolargl\",\"marker\":{\"colorbar\":{\"outlinewidth\":0,\"ticks\":\"\"}}}],\"bar\":[{\"error_x\":{\"color\":\"#2a3f5f\"},\"error_y\":{\"color\":\"#2a3f5f\"},\"marker\":{\"line\":{\"color\":\"#E5ECF6\",\"width\":0.5},\"pattern\":{\"fillmode\":\"overlay\",\"size\":10,\"solidity\":0.2}},\"type\":\"bar\"}],\"scattergeo\":[{\"type\":\"scattergeo\",\"marker\":{\"colorbar\":{\"outlinewidth\":0,\"ticks\":\"\"}}}],\"scatterpolar\":[{\"type\":\"scatterpolar\",\"marker\":{\"colorbar\":{\"outlinewidth\":0,\"ticks\":\"\"}}}],\"histogram\":[{\"marker\":{\"pattern\":{\"fillmode\":\"overlay\",\"size\":10,\"solidity\":0.2}},\"type\":\"histogram\"}],\"scattergl\":[{\"type\":\"scattergl\",\"marker\":{\"colorbar\":{\"outlinewidth\":0,\"ticks\":\"\"}}}],\"scatter3d\":[{\"type\":\"scatter3d\",\"line\":{\"colorbar\":{\"outlinewidth\":0,\"ticks\":\"\"}},\"marker\":{\"colorbar\":{\"outlinewidth\":0,\"ticks\":\"\"}}}],\"scattermapbox\":[{\"type\":\"scattermapbox\",\"marker\":{\"colorbar\":{\"outlinewidth\":0,\"ticks\":\"\"}}}],\"scatterternary\":[{\"type\":\"scatterternary\",\"marker\":{\"colorbar\":{\"outlinewidth\":0,\"ticks\":\"\"}}}],\"scattercarpet\":[{\"type\":\"scattercarpet\",\"marker\":{\"colorbar\":{\"outlinewidth\":0,\"ticks\":\"\"}}}],\"carpet\":[{\"aaxis\":{\"endlinecolor\":\"#2a3f5f\",\"gridcolor\":\"white\",\"linecolor\":\"white\",\"minorgridcolor\":\"white\",\"startlinecolor\":\"#2a3f5f\"},\"baxis\":{\"endlinecolor\":\"#2a3f5f\",\"gridcolor\":\"white\",\"linecolor\":\"white\",\"minorgridcolor\":\"white\",\"startlinecolor\":\"#2a3f5f\"},\"type\":\"carpet\"}],\"table\":[{\"cells\":{\"fill\":{\"color\":\"#EBF0F8\"},\"line\":{\"color\":\"white\"}},\"header\":{\"fill\":{\"color\":\"#C8D4E3\"},\"line\":{\"color\":\"white\"}},\"type\":\"table\"}],\"barpolar\":[{\"marker\":{\"line\":{\"color\":\"#E5ECF6\",\"width\":0.5},\"pattern\":{\"fillmode\":\"overlay\",\"size\":10,\"solidity\":0.2}},\"type\":\"barpolar\"}],\"pie\":[{\"automargin\":true,\"type\":\"pie\"}]},\"layout\":{\"autotypenumbers\":\"strict\",\"colorway\":[\"#636efa\",\"#EF553B\",\"#00cc96\",\"#ab63fa\",\"#FFA15A\",\"#19d3f3\",\"#FF6692\",\"#B6E880\",\"#FF97FF\",\"#FECB52\"],\"font\":{\"color\":\"#2a3f5f\"},\"hovermode\":\"closest\",\"hoverlabel\":{\"align\":\"left\"},\"paper_bgcolor\":\"white\",\"plot_bgcolor\":\"#E5ECF6\",\"polar\":{\"bgcolor\":\"#E5ECF6\",\"angularaxis\":{\"gridcolor\":\"white\",\"linecolor\":\"white\",\"ticks\":\"\"},\"radialaxis\":{\"gridcolor\":\"white\",\"linecolor\":\"white\",\"ticks\":\"\"}},\"ternary\":{\"bgcolor\":\"#E5ECF6\",\"aaxis\":{\"gridcolor\":\"white\",\"linecolor\":\"white\",\"ticks\":\"\"},\"baxis\":{\"gridcolor\":\"white\",\"linecolor\":\"white\",\"ticks\":\"\"},\"caxis\":{\"gridcolor\":\"white\",\"linecolor\":\"white\",\"ticks\":\"\"}},\"coloraxis\":{\"colorbar\":{\"outlinewidth\":0,\"ticks\":\"\"}},\"colorscale\":{\"sequential\":[[0.0,\"#0d0887\"],[0.1111111111111111,\"#46039f\"],[0.2222222222222222,\"#7201a8\"],[0.3333333333333333,\"#9c179e\"],[0.4444444444444444,\"#bd3786\"],[0.5555555555555556,\"#d8576b\"],[0.6666666666666666,\"#ed7953\"],[0.7777777777777778,\"#fb9f3a\"],[0.8888888888888888,\"#fdca26\"],[1.0,\"#f0f921\"]],\"sequentialminus\":[[0.0,\"#0d0887\"],[0.1111111111111111,\"#46039f\"],[0.2222222222222222,\"#7201a8\"],[0.3333333333333333,\"#9c179e\"],[0.4444444444444444,\"#bd3786\"],[0.5555555555555556,\"#d8576b\"],[0.6666666666666666,\"#ed7953\"],[0.7777777777777778,\"#fb9f3a\"],[0.8888888888888888,\"#fdca26\"],[1.0,\"#f0f921\"]],\"diverging\":[[0,\"#8e0152\"],[0.1,\"#c51b7d\"],[0.2,\"#de77ae\"],[0.3,\"#f1b6da\"],[0.4,\"#fde0ef\"],[0.5,\"#f7f7f7\"],[0.6,\"#e6f5d0\"],[0.7,\"#b8e186\"],[0.8,\"#7fbc41\"],[0.9,\"#4d9221\"],[1,\"#276419\"]]},\"xaxis\":{\"gridcolor\":\"white\",\"linecolor\":\"white\",\"ticks\":\"\",\"title\":{\"standoff\":15},\"zerolinecolor\":\"white\",\"automargin\":true,\"zerolinewidth\":2},\"yaxis\":{\"gridcolor\":\"white\",\"linecolor\":\"white\",\"ticks\":\"\",\"title\":{\"standoff\":15},\"zerolinecolor\":\"white\",\"automargin\":true,\"zerolinewidth\":2},\"scene\":{\"xaxis\":{\"backgroundcolor\":\"#E5ECF6\",\"gridcolor\":\"white\",\"linecolor\":\"white\",\"showbackground\":true,\"ticks\":\"\",\"zerolinecolor\":\"white\",\"gridwidth\":2},\"yaxis\":{\"backgroundcolor\":\"#E5ECF6\",\"gridcolor\":\"white\",\"linecolor\":\"white\",\"showbackground\":true,\"ticks\":\"\",\"zerolinecolor\":\"white\",\"gridwidth\":2},\"zaxis\":{\"backgroundcolor\":\"#E5ECF6\",\"gridcolor\":\"white\",\"linecolor\":\"white\",\"showbackground\":true,\"ticks\":\"\",\"zerolinecolor\":\"white\",\"gridwidth\":2}},\"shapedefaults\":{\"line\":{\"color\":\"#2a3f5f\"}},\"annotationdefaults\":{\"arrowcolor\":\"#2a3f5f\",\"arrowhead\":0,\"arrowwidth\":1},\"geo\":{\"bgcolor\":\"white\",\"landcolor\":\"#E5ECF6\",\"subunitcolor\":\"white\",\"showland\":true,\"showlakes\":true,\"lakecolor\":\"white\"},\"title\":{\"x\":0.05},\"mapbox\":{\"style\":\"light\"}}},\"xaxis\":{\"anchor\":\"y\",\"domain\":[0.0,1.0],\"title\":{\"text\":\"Development of GDP per capita in %\"}},\"yaxis\":{\"anchor\":\"x\",\"domain\":[0.0,1.0],\"title\":{\"text\":\"Development of Gini index in %\"}},\"legend\":{\"title\":{\"text\":\"GDP per capita: $35,000\"},\"tracegroupgap\":0,\"itemsizing\":\"constant\"},\"title\":{\"text\":\"Development of GDP per capita, Gini index and Life Satisfaction from 2008-2017 <br><sup>Size of symbols indicates development of Life Satisfaction (small symbol = low growth or shrinkage, large symbol = high growth)</sup>\"}},                        {\"responsive\": true}                    ).then(function(){\n",
       "                            \n",
       "var gd = document.getElementById('76d05754-21e3-4138-8be1-d72b8e64e359');\n",
       "var x = new MutationObserver(function (mutations, observer) {{\n",
       "        var display = window.getComputedStyle(gd).display;\n",
       "        if (!display || display === 'none') {{\n",
       "            console.log([gd, 'removed!']);\n",
       "            Plotly.purge(gd);\n",
       "            observer.disconnect();\n",
       "        }}\n",
       "}});\n",
       "\n",
       "// Listen for the removal of the full notebook cells\n",
       "var notebookContainer = gd.closest('#notebook-container');\n",
       "if (notebookContainer) {{\n",
       "    x.observe(notebookContainer, {childList: true});\n",
       "}}\n",
       "\n",
       "// Listen for the clearing of the current output cell\n",
       "var outputEl = gd.closest('.output');\n",
       "if (outputEl) {{\n",
       "    x.observe(outputEl, {childList: true});\n",
       "}}\n",
       "\n",
       "                        })                };                });            </script>        </div>"
      ]
     },
     "metadata": {},
     "output_type": "display_data"
    }
   ],
   "source": [
    "#symbols and color of symbols indicate if a country is above or below GDP per capita threshold of $35,000\n",
    "#size of symbols indicates development of Life Satisfaction (small symbol = low growth / shrinkage, large symbol = high growth)\n",
    "def scatter_changes_gdp_gini_gdp_threshold(df_developments):\n",
    "    scatter_changes_gdp_gini_fig = px.scatter(df_developments, x = 'Change GDP per capita', y = 'Change Gini index',\n",
    "                                              text = 'Code', color = 'GDP per capita threshold',\n",
    "                                              symbol = 'GDP per capita threshold', symbol_sequence = ['circle', 'diamond'],\n",
    "                                              size = 'Change Life Satisfaction', size_max = 50,\n",
    "                                              title = \"Development of GDP per capita, Gini index and Life Satisfaction from 2008-2017 <br><sup>Size of symbols indicates development of Life Satisfaction (small symbol = low growth or shrinkage, large symbol = high growth)</sup>\", \n",
    "                                              labels = {\"Change GDP per capita\": \"Development of GDP per capita in %\",\n",
    "                                                        \"Change Gini index\": \"Development of Gini index in %\", \n",
    "                                                        \"GDP per capita threshold\": \"GDP per capita: $35,000\"})\n",
    "    scatter_changes_gdp_gini_fig.update_traces(textposition=\"bottom right\", textfont_size=15,\n",
    "                                              hovertemplate=None, hoverinfo='skip')\n",
    "    scatter_changes_gdp_gini_fig.show()\n",
    "\n",
    "scatter_changes_gdp_gini_gdp_threshold(df_developments)"
   ]
  },
  {
   "cell_type": "code",
   "execution_count": 22,
   "id": "c4e21078",
   "metadata": {},
   "outputs": [
    {
     "data": {
      "application/vnd.plotly.v1+json": {
       "config": {
        "plotlyServerURL": "https://plot.ly"
       },
       "data": [
        {
         "hoverinfo": "skip",
         "legendgroup": "below, below",
         "marker": {
          "color": "#636efa",
          "size": [
           9.792849378949848,
           7.616946782747347,
           1.6671648049694348,
           0.8251866717568028,
           14.535883292225726,
           1.0548815060765662,
           10.561584720104214,
           0.9498015036333282,
           5.824384320215445,
           1.2051502249421926,
           1.1070466477153709,
           10.787010375468443,
           3.642693414432974,
           6.254310293178588,
           0.10631160634288753,
           4.327456934706325,
           1.4459785706080956,
           0.8789440384338701,
           6.241289874456591,
           0.7183829347373362,
           1.9583210459511375,
           1.1172908452951849,
           0.3016936488436959,
           0.5663535486612615,
           0.47805009733915027
          ],
          "sizemode": "area",
          "sizeref": 0.011496279158949711,
          "symbol": "circle"
         },
         "mode": "markers+text",
         "name": "below, below",
         "orientation": "v",
         "showlegend": true,
         "text": [
          "ARM",
          "AZE",
          "BLR",
          "BOL",
          "BGR",
          "HRV",
          "DOM",
          "ECU",
          "GEO",
          "GRC",
          "HND",
          "HUN",
          "KGZ",
          "LVA",
          "LBN",
          "MLI",
          "MDA",
          "MNE",
          "MKD",
          "PRY",
          "PER",
          "RUS",
          "TUR",
          "TKM",
          "UKR"
         ],
         "textfont": {
          "size": 15
         },
         "textposition": "bottom right",
         "type": "scatter",
         "x": [
          15.73366450133741,
          9.439665194140897,
          14.658470802232957,
          32.64052905054322,
          20.714567929107634,
          1.2811307206832698,
          39.67949252983891,
          13.268987033245589,
          45.20782134843466,
          -23.5358496609898,
          10.97366320830008,
          14.236420734307758,
          21.84934814099469,
          33.00835654596101,
          -6.118614210217264,
          7.873259721555449,
          37.491149398159074,
          13.173480535909379,
          19.96933691069375,
          30.368606336715676,
          33.8935874103415,
          4.170684667309547,
          40.03913108914865,
          77.20808383233533,
          -10.040921491361019
         ],
         "xaxis": "x",
         "y": [
          15.176430284343938,
          0,
          -8.587854832914111,
          -12.199921290830387,
          20.285969615728337,
          -9.967368733313554,
          -12.284348368322586,
          -10.283189395460932,
          -1.5312743316896014,
          2.262578148258404,
          -10.900900900900897,
          11.159578335150842,
          -13.068362480127185,
          2.124605225380425,
          0,
          0,
          -25.338714326895357,
          26.23811085601838,
          -25.877763328998693,
          -4.240631163708098,
          -8.784495470823682,
          -10.416165503969205,
          6.125064069707825,
          0,
          -2.214714714714714
         ],
         "yaxis": "y"
        },
        {
         "hoverinfo": "skip",
         "legendgroup": "below, above",
         "marker": {
          "color": "#636efa",
          "size": [
           0.5559505051169966,
           0.9102421824850777,
           0.6849143911858397,
           0.6441665674800324,
           2.5553457877677976,
           3.640486457173823,
           5.95177696637397,
           0.15887739695859293,
           1.7811190511318618,
           6.1111159894425,
           9.200042295826826,
           28.74069789737428,
           1.3623608356767276,
           0.7212088804422544,
           2.3480812129618176
          ],
          "sizemode": "area",
          "sizeref": 0.011496279158949711,
          "symbol": "diamond"
         },
         "mode": "markers+text",
         "name": "below, above",
         "orientation": "v",
         "showlegend": true,
         "text": [
          "BRA",
          "COL",
          "CRI",
          "SLV",
          "EST",
          "KAZ",
          "LTU",
          "PAN",
          "POL",
          "PRT",
          "ROU",
          "SRB",
          "SVK",
          "THA",
          "URY"
         ],
         "textfont": {
          "size": 15
         },
         "textposition": "bottom right",
         "type": "scatter",
         "x": [
          2.9047113000354234,
          24.383393311682614,
          23.113692745204816,
          14.351413499256052,
          33.33858453782837,
          25.76125442589782,
          26.048161284300914,
          47.53597906672481,
          33.94965471151704,
          2.2811687507738023,
          23.126474324079112,
          13.061530084399672,
          14.926721936269693,
          27.912781734087073,
          33.259975676145245
         ],
         "xaxis": "x",
         "y": [
          -1.4248704663212364,
          -10.122921185827913,
          -0.5962171052631561,
          -18.93793985924505,
          -3.4351145038167994,
          -3.684210526315792,
          0.6206152185644815,
          -5.314101347504265,
          -10.142348754448394,
          -7.72590772590774,
          21.7714672075727,
          31.16835994194485,
          -6.326758466691475,
          -9.332340531149164,
          -12.466725820763083
         ],
         "yaxis": "y"
        },
        {
         "hoverinfo": "skip",
         "legendgroup": "above, above",
         "marker": {
          "color": "#EF553B",
          "size": [
           0.8711568645059864,
           0.8891621594698812,
           0.670926784277816,
           3.2415526265353583,
           0.9016816053780005,
           1.6724440044359534,
           0.8495169540237284,
           1.592332872526805,
           0.9863109591567644,
           1.1691221628389734,
           1.5126334850823389,
           4.660070754383017,
           0.9104906780651034,
           2.524774216432587,
           1.5325642470443535,
           0.8743887542376395,
           1.2010939319638414,
           0.7319214609668033
          ],
          "sizemode": "area",
          "sizeref": 0.011496279158949711,
          "symbol": "diamond"
         },
         "mode": "markers+text",
         "name": "above, above",
         "orientation": "v",
         "showlegend": true,
         "text": [
          "AUT",
          "BEL",
          "CYP",
          "CZE",
          "DNK",
          "FIN",
          "FRA",
          "DEU",
          "IRL",
          "ITA",
          "LUX",
          "MLT",
          "NLD",
          "SVN",
          "ESP",
          "SWE",
          "GBR",
          "USA"
         ],
         "textfont": {
          "size": 15
         },
         "textposition": "bottom right",
         "type": "scatter",
         "x": [
          2.034281408928235,
          4.169506226380026,
          -6.012103248116587,
          7.041642567958357,
          4.480682483060605,
          -2.556434102175427,
          3.677086240580519,
          11.308935740861413,
          39.248663385617675,
          -6.819200430261743,
          0.8060317745265235,
          33.709591446398896,
          2.304635269647898,
          1.1779052687009783,
          0.736493374108053,
          8.30848779267352,
          4.751545683535608,
          8.753075698364453
         ],
         "xaxis": "x",
         "y": [
          -2.299605781865975,
          -3.4543531899894266,
          -0.9145380006307132,
          -3.310502283105027,
          13.861386138613863,
          -1.6522988505747158,
          -4.151515151515155,
          2.5748310267138743,
          1.4558395341313468,
          6.396209653538633,
          6.019656019656021,
          0.7931034482758635,
          -2.5938566552901077,
          2.1079258010118047,
          1.256575102279368,
          2.3115220483641483,
          2.9584065612185064,
          0.9066405292820323
         ],
         "yaxis": "y"
        }
       ],
       "layout": {
        "legend": {
         "itemsizing": "constant",
         "title": {
          "text": "GDP per capita: $35,000, Life Satisfaction: 6"
         },
         "tracegroupgap": 0
        },
        "template": {
         "data": {
          "bar": [
           {
            "error_x": {
             "color": "#2a3f5f"
            },
            "error_y": {
             "color": "#2a3f5f"
            },
            "marker": {
             "line": {
              "color": "#E5ECF6",
              "width": 0.5
             },
             "pattern": {
              "fillmode": "overlay",
              "size": 10,
              "solidity": 0.2
             }
            },
            "type": "bar"
           }
          ],
          "barpolar": [
           {
            "marker": {
             "line": {
              "color": "#E5ECF6",
              "width": 0.5
             },
             "pattern": {
              "fillmode": "overlay",
              "size": 10,
              "solidity": 0.2
             }
            },
            "type": "barpolar"
           }
          ],
          "carpet": [
           {
            "aaxis": {
             "endlinecolor": "#2a3f5f",
             "gridcolor": "white",
             "linecolor": "white",
             "minorgridcolor": "white",
             "startlinecolor": "#2a3f5f"
            },
            "baxis": {
             "endlinecolor": "#2a3f5f",
             "gridcolor": "white",
             "linecolor": "white",
             "minorgridcolor": "white",
             "startlinecolor": "#2a3f5f"
            },
            "type": "carpet"
           }
          ],
          "choropleth": [
           {
            "colorbar": {
             "outlinewidth": 0,
             "ticks": ""
            },
            "type": "choropleth"
           }
          ],
          "contour": [
           {
            "colorbar": {
             "outlinewidth": 0,
             "ticks": ""
            },
            "colorscale": [
             [
              0,
              "#0d0887"
             ],
             [
              0.1111111111111111,
              "#46039f"
             ],
             [
              0.2222222222222222,
              "#7201a8"
             ],
             [
              0.3333333333333333,
              "#9c179e"
             ],
             [
              0.4444444444444444,
              "#bd3786"
             ],
             [
              0.5555555555555556,
              "#d8576b"
             ],
             [
              0.6666666666666666,
              "#ed7953"
             ],
             [
              0.7777777777777778,
              "#fb9f3a"
             ],
             [
              0.8888888888888888,
              "#fdca26"
             ],
             [
              1,
              "#f0f921"
             ]
            ],
            "type": "contour"
           }
          ],
          "contourcarpet": [
           {
            "colorbar": {
             "outlinewidth": 0,
             "ticks": ""
            },
            "type": "contourcarpet"
           }
          ],
          "heatmap": [
           {
            "colorbar": {
             "outlinewidth": 0,
             "ticks": ""
            },
            "colorscale": [
             [
              0,
              "#0d0887"
             ],
             [
              0.1111111111111111,
              "#46039f"
             ],
             [
              0.2222222222222222,
              "#7201a8"
             ],
             [
              0.3333333333333333,
              "#9c179e"
             ],
             [
              0.4444444444444444,
              "#bd3786"
             ],
             [
              0.5555555555555556,
              "#d8576b"
             ],
             [
              0.6666666666666666,
              "#ed7953"
             ],
             [
              0.7777777777777778,
              "#fb9f3a"
             ],
             [
              0.8888888888888888,
              "#fdca26"
             ],
             [
              1,
              "#f0f921"
             ]
            ],
            "type": "heatmap"
           }
          ],
          "heatmapgl": [
           {
            "colorbar": {
             "outlinewidth": 0,
             "ticks": ""
            },
            "colorscale": [
             [
              0,
              "#0d0887"
             ],
             [
              0.1111111111111111,
              "#46039f"
             ],
             [
              0.2222222222222222,
              "#7201a8"
             ],
             [
              0.3333333333333333,
              "#9c179e"
             ],
             [
              0.4444444444444444,
              "#bd3786"
             ],
             [
              0.5555555555555556,
              "#d8576b"
             ],
             [
              0.6666666666666666,
              "#ed7953"
             ],
             [
              0.7777777777777778,
              "#fb9f3a"
             ],
             [
              0.8888888888888888,
              "#fdca26"
             ],
             [
              1,
              "#f0f921"
             ]
            ],
            "type": "heatmapgl"
           }
          ],
          "histogram": [
           {
            "marker": {
             "pattern": {
              "fillmode": "overlay",
              "size": 10,
              "solidity": 0.2
             }
            },
            "type": "histogram"
           }
          ],
          "histogram2d": [
           {
            "colorbar": {
             "outlinewidth": 0,
             "ticks": ""
            },
            "colorscale": [
             [
              0,
              "#0d0887"
             ],
             [
              0.1111111111111111,
              "#46039f"
             ],
             [
              0.2222222222222222,
              "#7201a8"
             ],
             [
              0.3333333333333333,
              "#9c179e"
             ],
             [
              0.4444444444444444,
              "#bd3786"
             ],
             [
              0.5555555555555556,
              "#d8576b"
             ],
             [
              0.6666666666666666,
              "#ed7953"
             ],
             [
              0.7777777777777778,
              "#fb9f3a"
             ],
             [
              0.8888888888888888,
              "#fdca26"
             ],
             [
              1,
              "#f0f921"
             ]
            ],
            "type": "histogram2d"
           }
          ],
          "histogram2dcontour": [
           {
            "colorbar": {
             "outlinewidth": 0,
             "ticks": ""
            },
            "colorscale": [
             [
              0,
              "#0d0887"
             ],
             [
              0.1111111111111111,
              "#46039f"
             ],
             [
              0.2222222222222222,
              "#7201a8"
             ],
             [
              0.3333333333333333,
              "#9c179e"
             ],
             [
              0.4444444444444444,
              "#bd3786"
             ],
             [
              0.5555555555555556,
              "#d8576b"
             ],
             [
              0.6666666666666666,
              "#ed7953"
             ],
             [
              0.7777777777777778,
              "#fb9f3a"
             ],
             [
              0.8888888888888888,
              "#fdca26"
             ],
             [
              1,
              "#f0f921"
             ]
            ],
            "type": "histogram2dcontour"
           }
          ],
          "mesh3d": [
           {
            "colorbar": {
             "outlinewidth": 0,
             "ticks": ""
            },
            "type": "mesh3d"
           }
          ],
          "parcoords": [
           {
            "line": {
             "colorbar": {
              "outlinewidth": 0,
              "ticks": ""
             }
            },
            "type": "parcoords"
           }
          ],
          "pie": [
           {
            "automargin": true,
            "type": "pie"
           }
          ],
          "scatter": [
           {
            "fillpattern": {
             "fillmode": "overlay",
             "size": 10,
             "solidity": 0.2
            },
            "type": "scatter"
           }
          ],
          "scatter3d": [
           {
            "line": {
             "colorbar": {
              "outlinewidth": 0,
              "ticks": ""
             }
            },
            "marker": {
             "colorbar": {
              "outlinewidth": 0,
              "ticks": ""
             }
            },
            "type": "scatter3d"
           }
          ],
          "scattercarpet": [
           {
            "marker": {
             "colorbar": {
              "outlinewidth": 0,
              "ticks": ""
             }
            },
            "type": "scattercarpet"
           }
          ],
          "scattergeo": [
           {
            "marker": {
             "colorbar": {
              "outlinewidth": 0,
              "ticks": ""
             }
            },
            "type": "scattergeo"
           }
          ],
          "scattergl": [
           {
            "marker": {
             "colorbar": {
              "outlinewidth": 0,
              "ticks": ""
             }
            },
            "type": "scattergl"
           }
          ],
          "scattermapbox": [
           {
            "marker": {
             "colorbar": {
              "outlinewidth": 0,
              "ticks": ""
             }
            },
            "type": "scattermapbox"
           }
          ],
          "scatterpolar": [
           {
            "marker": {
             "colorbar": {
              "outlinewidth": 0,
              "ticks": ""
             }
            },
            "type": "scatterpolar"
           }
          ],
          "scatterpolargl": [
           {
            "marker": {
             "colorbar": {
              "outlinewidth": 0,
              "ticks": ""
             }
            },
            "type": "scatterpolargl"
           }
          ],
          "scatterternary": [
           {
            "marker": {
             "colorbar": {
              "outlinewidth": 0,
              "ticks": ""
             }
            },
            "type": "scatterternary"
           }
          ],
          "surface": [
           {
            "colorbar": {
             "outlinewidth": 0,
             "ticks": ""
            },
            "colorscale": [
             [
              0,
              "#0d0887"
             ],
             [
              0.1111111111111111,
              "#46039f"
             ],
             [
              0.2222222222222222,
              "#7201a8"
             ],
             [
              0.3333333333333333,
              "#9c179e"
             ],
             [
              0.4444444444444444,
              "#bd3786"
             ],
             [
              0.5555555555555556,
              "#d8576b"
             ],
             [
              0.6666666666666666,
              "#ed7953"
             ],
             [
              0.7777777777777778,
              "#fb9f3a"
             ],
             [
              0.8888888888888888,
              "#fdca26"
             ],
             [
              1,
              "#f0f921"
             ]
            ],
            "type": "surface"
           }
          ],
          "table": [
           {
            "cells": {
             "fill": {
              "color": "#EBF0F8"
             },
             "line": {
              "color": "white"
             }
            },
            "header": {
             "fill": {
              "color": "#C8D4E3"
             },
             "line": {
              "color": "white"
             }
            },
            "type": "table"
           }
          ]
         },
         "layout": {
          "annotationdefaults": {
           "arrowcolor": "#2a3f5f",
           "arrowhead": 0,
           "arrowwidth": 1
          },
          "autotypenumbers": "strict",
          "coloraxis": {
           "colorbar": {
            "outlinewidth": 0,
            "ticks": ""
           }
          },
          "colorscale": {
           "diverging": [
            [
             0,
             "#8e0152"
            ],
            [
             0.1,
             "#c51b7d"
            ],
            [
             0.2,
             "#de77ae"
            ],
            [
             0.3,
             "#f1b6da"
            ],
            [
             0.4,
             "#fde0ef"
            ],
            [
             0.5,
             "#f7f7f7"
            ],
            [
             0.6,
             "#e6f5d0"
            ],
            [
             0.7,
             "#b8e186"
            ],
            [
             0.8,
             "#7fbc41"
            ],
            [
             0.9,
             "#4d9221"
            ],
            [
             1,
             "#276419"
            ]
           ],
           "sequential": [
            [
             0,
             "#0d0887"
            ],
            [
             0.1111111111111111,
             "#46039f"
            ],
            [
             0.2222222222222222,
             "#7201a8"
            ],
            [
             0.3333333333333333,
             "#9c179e"
            ],
            [
             0.4444444444444444,
             "#bd3786"
            ],
            [
             0.5555555555555556,
             "#d8576b"
            ],
            [
             0.6666666666666666,
             "#ed7953"
            ],
            [
             0.7777777777777778,
             "#fb9f3a"
            ],
            [
             0.8888888888888888,
             "#fdca26"
            ],
            [
             1,
             "#f0f921"
            ]
           ],
           "sequentialminus": [
            [
             0,
             "#0d0887"
            ],
            [
             0.1111111111111111,
             "#46039f"
            ],
            [
             0.2222222222222222,
             "#7201a8"
            ],
            [
             0.3333333333333333,
             "#9c179e"
            ],
            [
             0.4444444444444444,
             "#bd3786"
            ],
            [
             0.5555555555555556,
             "#d8576b"
            ],
            [
             0.6666666666666666,
             "#ed7953"
            ],
            [
             0.7777777777777778,
             "#fb9f3a"
            ],
            [
             0.8888888888888888,
             "#fdca26"
            ],
            [
             1,
             "#f0f921"
            ]
           ]
          },
          "colorway": [
           "#636efa",
           "#EF553B",
           "#00cc96",
           "#ab63fa",
           "#FFA15A",
           "#19d3f3",
           "#FF6692",
           "#B6E880",
           "#FF97FF",
           "#FECB52"
          ],
          "font": {
           "color": "#2a3f5f"
          },
          "geo": {
           "bgcolor": "white",
           "lakecolor": "white",
           "landcolor": "#E5ECF6",
           "showlakes": true,
           "showland": true,
           "subunitcolor": "white"
          },
          "hoverlabel": {
           "align": "left"
          },
          "hovermode": "closest",
          "mapbox": {
           "style": "light"
          },
          "paper_bgcolor": "white",
          "plot_bgcolor": "#E5ECF6",
          "polar": {
           "angularaxis": {
            "gridcolor": "white",
            "linecolor": "white",
            "ticks": ""
           },
           "bgcolor": "#E5ECF6",
           "radialaxis": {
            "gridcolor": "white",
            "linecolor": "white",
            "ticks": ""
           }
          },
          "scene": {
           "xaxis": {
            "backgroundcolor": "#E5ECF6",
            "gridcolor": "white",
            "gridwidth": 2,
            "linecolor": "white",
            "showbackground": true,
            "ticks": "",
            "zerolinecolor": "white"
           },
           "yaxis": {
            "backgroundcolor": "#E5ECF6",
            "gridcolor": "white",
            "gridwidth": 2,
            "linecolor": "white",
            "showbackground": true,
            "ticks": "",
            "zerolinecolor": "white"
           },
           "zaxis": {
            "backgroundcolor": "#E5ECF6",
            "gridcolor": "white",
            "gridwidth": 2,
            "linecolor": "white",
            "showbackground": true,
            "ticks": "",
            "zerolinecolor": "white"
           }
          },
          "shapedefaults": {
           "line": {
            "color": "#2a3f5f"
           }
          },
          "ternary": {
           "aaxis": {
            "gridcolor": "white",
            "linecolor": "white",
            "ticks": ""
           },
           "baxis": {
            "gridcolor": "white",
            "linecolor": "white",
            "ticks": ""
           },
           "bgcolor": "#E5ECF6",
           "caxis": {
            "gridcolor": "white",
            "linecolor": "white",
            "ticks": ""
           }
          },
          "title": {
           "x": 0.05
          },
          "xaxis": {
           "automargin": true,
           "gridcolor": "white",
           "linecolor": "white",
           "ticks": "",
           "title": {
            "standoff": 15
           },
           "zerolinecolor": "white",
           "zerolinewidth": 2
          },
          "yaxis": {
           "automargin": true,
           "gridcolor": "white",
           "linecolor": "white",
           "ticks": "",
           "title": {
            "standoff": 15
           },
           "zerolinecolor": "white",
           "zerolinewidth": 2
          }
         }
        },
        "title": {
         "text": "Development of GDP per capita, Gini index and Life Satisfaction from 2008-2017 <br><sup>Size of symbols indicates development of Life Satisfaction (small symbol = low growth or shrinkage, large symbol = high growth)</sup>"
        },
        "xaxis": {
         "anchor": "y",
         "domain": [
          0,
          1
         ],
         "title": {
          "text": "Development of GDP per capita in %"
         }
        },
        "yaxis": {
         "anchor": "x",
         "domain": [
          0,
          1
         ],
         "title": {
          "text": "Development of Gini index in %"
         }
        }
       }
      },
      "text/html": [
       "<div>                            <div id=\"676979b3-e0d7-4e79-b6bb-ff50c3b10e80\" class=\"plotly-graph-div\" style=\"height:525px; width:100%;\"></div>            <script type=\"text/javascript\">                require([\"plotly\"], function(Plotly) {                    window.PLOTLYENV=window.PLOTLYENV || {};                                    if (document.getElementById(\"676979b3-e0d7-4e79-b6bb-ff50c3b10e80\")) {                    Plotly.newPlot(                        \"676979b3-e0d7-4e79-b6bb-ff50c3b10e80\",                        [{\"legendgroup\":\"below, below\",\"marker\":{\"color\":\"#636efa\",\"size\":[9.792849378949848,7.616946782747347,1.6671648049694348,0.8251866717568028,14.535883292225726,1.0548815060765662,10.561584720104214,0.9498015036333282,5.824384320215445,1.2051502249421926,1.1070466477153709,10.787010375468443,3.642693414432974,6.254310293178588,0.10631160634288753,4.327456934706325,1.4459785706080956,0.8789440384338701,6.241289874456591,0.7183829347373362,1.9583210459511375,1.1172908452951849,0.3016936488436959,0.5663535486612615,0.47805009733915027],\"sizemode\":\"area\",\"sizeref\":0.011496279158949711,\"symbol\":\"circle\"},\"mode\":\"markers+text\",\"name\":\"below, below\",\"orientation\":\"v\",\"showlegend\":true,\"text\":[\"ARM\",\"AZE\",\"BLR\",\"BOL\",\"BGR\",\"HRV\",\"DOM\",\"ECU\",\"GEO\",\"GRC\",\"HND\",\"HUN\",\"KGZ\",\"LVA\",\"LBN\",\"MLI\",\"MDA\",\"MNE\",\"MKD\",\"PRY\",\"PER\",\"RUS\",\"TUR\",\"TKM\",\"UKR\"],\"x\":[15.73366450133741,9.439665194140897,14.658470802232957,32.64052905054322,20.714567929107634,1.2811307206832698,39.67949252983891,13.268987033245589,45.20782134843466,-23.5358496609898,10.97366320830008,14.236420734307758,21.84934814099469,33.00835654596101,-6.118614210217264,7.873259721555449,37.491149398159074,13.173480535909379,19.96933691069375,30.368606336715676,33.8935874103415,4.170684667309547,40.03913108914865,77.20808383233533,-10.040921491361019],\"xaxis\":\"x\",\"y\":[15.176430284343938,0.0,-8.587854832914111,-12.199921290830387,20.285969615728337,-9.967368733313554,-12.284348368322586,-10.283189395460932,-1.5312743316896014,2.262578148258404,-10.900900900900897,11.159578335150842,-13.068362480127185,2.124605225380425,0.0,0.0,-25.338714326895357,26.23811085601838,-25.877763328998693,-4.240631163708098,-8.784495470823682,-10.416165503969205,6.125064069707825,0.0,-2.214714714714714],\"yaxis\":\"y\",\"type\":\"scatter\",\"textfont\":{\"size\":15},\"hoverinfo\":\"skip\",\"textposition\":\"bottom right\"},{\"legendgroup\":\"below, above\",\"marker\":{\"color\":\"#636efa\",\"size\":[0.5559505051169966,0.9102421824850777,0.6849143911858397,0.6441665674800324,2.5553457877677976,3.640486457173823,5.95177696637397,0.15887739695859293,1.7811190511318618,6.1111159894425,9.200042295826826,28.74069789737428,1.3623608356767276,0.7212088804422544,2.3480812129618176],\"sizemode\":\"area\",\"sizeref\":0.011496279158949711,\"symbol\":\"diamond\"},\"mode\":\"markers+text\",\"name\":\"below, above\",\"orientation\":\"v\",\"showlegend\":true,\"text\":[\"BRA\",\"COL\",\"CRI\",\"SLV\",\"EST\",\"KAZ\",\"LTU\",\"PAN\",\"POL\",\"PRT\",\"ROU\",\"SRB\",\"SVK\",\"THA\",\"URY\"],\"x\":[2.9047113000354234,24.383393311682614,23.113692745204816,14.351413499256052,33.33858453782837,25.76125442589782,26.048161284300914,47.53597906672481,33.94965471151704,2.2811687507738023,23.126474324079112,13.061530084399672,14.926721936269693,27.912781734087073,33.259975676145245],\"xaxis\":\"x\",\"y\":[-1.4248704663212364,-10.122921185827913,-0.5962171052631561,-18.93793985924505,-3.4351145038167994,-3.684210526315792,0.6206152185644815,-5.314101347504265,-10.142348754448394,-7.72590772590774,21.7714672075727,31.16835994194485,-6.326758466691475,-9.332340531149164,-12.466725820763083],\"yaxis\":\"y\",\"type\":\"scatter\",\"textfont\":{\"size\":15},\"hoverinfo\":\"skip\",\"textposition\":\"bottom right\"},{\"legendgroup\":\"above, above\",\"marker\":{\"color\":\"#EF553B\",\"size\":[0.8711568645059864,0.8891621594698812,0.670926784277816,3.2415526265353583,0.9016816053780005,1.6724440044359534,0.8495169540237284,1.592332872526805,0.9863109591567644,1.1691221628389734,1.5126334850823389,4.660070754383017,0.9104906780651034,2.524774216432587,1.5325642470443535,0.8743887542376395,1.2010939319638414,0.7319214609668033],\"sizemode\":\"area\",\"sizeref\":0.011496279158949711,\"symbol\":\"diamond\"},\"mode\":\"markers+text\",\"name\":\"above, above\",\"orientation\":\"v\",\"showlegend\":true,\"text\":[\"AUT\",\"BEL\",\"CYP\",\"CZE\",\"DNK\",\"FIN\",\"FRA\",\"DEU\",\"IRL\",\"ITA\",\"LUX\",\"MLT\",\"NLD\",\"SVN\",\"ESP\",\"SWE\",\"GBR\",\"USA\"],\"x\":[2.034281408928235,4.169506226380026,-6.012103248116587,7.041642567958357,4.480682483060605,-2.556434102175427,3.677086240580519,11.308935740861413,39.248663385617675,-6.819200430261743,0.8060317745265235,33.709591446398896,2.304635269647898,1.1779052687009783,0.736493374108053,8.30848779267352,4.751545683535608,8.753075698364453],\"xaxis\":\"x\",\"y\":[-2.299605781865975,-3.4543531899894266,-0.9145380006307132,-3.310502283105027,13.861386138613863,-1.6522988505747158,-4.151515151515155,2.5748310267138743,1.4558395341313468,6.396209653538633,6.019656019656021,0.7931034482758635,-2.5938566552901077,2.1079258010118047,1.256575102279368,2.3115220483641483,2.9584065612185064,0.9066405292820323],\"yaxis\":\"y\",\"type\":\"scatter\",\"textfont\":{\"size\":15},\"hoverinfo\":\"skip\",\"textposition\":\"bottom right\"}],                        {\"template\":{\"data\":{\"histogram2dcontour\":[{\"type\":\"histogram2dcontour\",\"colorbar\":{\"outlinewidth\":0,\"ticks\":\"\"},\"colorscale\":[[0.0,\"#0d0887\"],[0.1111111111111111,\"#46039f\"],[0.2222222222222222,\"#7201a8\"],[0.3333333333333333,\"#9c179e\"],[0.4444444444444444,\"#bd3786\"],[0.5555555555555556,\"#d8576b\"],[0.6666666666666666,\"#ed7953\"],[0.7777777777777778,\"#fb9f3a\"],[0.8888888888888888,\"#fdca26\"],[1.0,\"#f0f921\"]]}],\"choropleth\":[{\"type\":\"choropleth\",\"colorbar\":{\"outlinewidth\":0,\"ticks\":\"\"}}],\"histogram2d\":[{\"type\":\"histogram2d\",\"colorbar\":{\"outlinewidth\":0,\"ticks\":\"\"},\"colorscale\":[[0.0,\"#0d0887\"],[0.1111111111111111,\"#46039f\"],[0.2222222222222222,\"#7201a8\"],[0.3333333333333333,\"#9c179e\"],[0.4444444444444444,\"#bd3786\"],[0.5555555555555556,\"#d8576b\"],[0.6666666666666666,\"#ed7953\"],[0.7777777777777778,\"#fb9f3a\"],[0.8888888888888888,\"#fdca26\"],[1.0,\"#f0f921\"]]}],\"heatmap\":[{\"type\":\"heatmap\",\"colorbar\":{\"outlinewidth\":0,\"ticks\":\"\"},\"colorscale\":[[0.0,\"#0d0887\"],[0.1111111111111111,\"#46039f\"],[0.2222222222222222,\"#7201a8\"],[0.3333333333333333,\"#9c179e\"],[0.4444444444444444,\"#bd3786\"],[0.5555555555555556,\"#d8576b\"],[0.6666666666666666,\"#ed7953\"],[0.7777777777777778,\"#fb9f3a\"],[0.8888888888888888,\"#fdca26\"],[1.0,\"#f0f921\"]]}],\"heatmapgl\":[{\"type\":\"heatmapgl\",\"colorbar\":{\"outlinewidth\":0,\"ticks\":\"\"},\"colorscale\":[[0.0,\"#0d0887\"],[0.1111111111111111,\"#46039f\"],[0.2222222222222222,\"#7201a8\"],[0.3333333333333333,\"#9c179e\"],[0.4444444444444444,\"#bd3786\"],[0.5555555555555556,\"#d8576b\"],[0.6666666666666666,\"#ed7953\"],[0.7777777777777778,\"#fb9f3a\"],[0.8888888888888888,\"#fdca26\"],[1.0,\"#f0f921\"]]}],\"contourcarpet\":[{\"type\":\"contourcarpet\",\"colorbar\":{\"outlinewidth\":0,\"ticks\":\"\"}}],\"contour\":[{\"type\":\"contour\",\"colorbar\":{\"outlinewidth\":0,\"ticks\":\"\"},\"colorscale\":[[0.0,\"#0d0887\"],[0.1111111111111111,\"#46039f\"],[0.2222222222222222,\"#7201a8\"],[0.3333333333333333,\"#9c179e\"],[0.4444444444444444,\"#bd3786\"],[0.5555555555555556,\"#d8576b\"],[0.6666666666666666,\"#ed7953\"],[0.7777777777777778,\"#fb9f3a\"],[0.8888888888888888,\"#fdca26\"],[1.0,\"#f0f921\"]]}],\"surface\":[{\"type\":\"surface\",\"colorbar\":{\"outlinewidth\":0,\"ticks\":\"\"},\"colorscale\":[[0.0,\"#0d0887\"],[0.1111111111111111,\"#46039f\"],[0.2222222222222222,\"#7201a8\"],[0.3333333333333333,\"#9c179e\"],[0.4444444444444444,\"#bd3786\"],[0.5555555555555556,\"#d8576b\"],[0.6666666666666666,\"#ed7953\"],[0.7777777777777778,\"#fb9f3a\"],[0.8888888888888888,\"#fdca26\"],[1.0,\"#f0f921\"]]}],\"mesh3d\":[{\"type\":\"mesh3d\",\"colorbar\":{\"outlinewidth\":0,\"ticks\":\"\"}}],\"scatter\":[{\"fillpattern\":{\"fillmode\":\"overlay\",\"size\":10,\"solidity\":0.2},\"type\":\"scatter\"}],\"parcoords\":[{\"type\":\"parcoords\",\"line\":{\"colorbar\":{\"outlinewidth\":0,\"ticks\":\"\"}}}],\"scatterpolargl\":[{\"type\":\"scatterpolargl\",\"marker\":{\"colorbar\":{\"outlinewidth\":0,\"ticks\":\"\"}}}],\"bar\":[{\"error_x\":{\"color\":\"#2a3f5f\"},\"error_y\":{\"color\":\"#2a3f5f\"},\"marker\":{\"line\":{\"color\":\"#E5ECF6\",\"width\":0.5},\"pattern\":{\"fillmode\":\"overlay\",\"size\":10,\"solidity\":0.2}},\"type\":\"bar\"}],\"scattergeo\":[{\"type\":\"scattergeo\",\"marker\":{\"colorbar\":{\"outlinewidth\":0,\"ticks\":\"\"}}}],\"scatterpolar\":[{\"type\":\"scatterpolar\",\"marker\":{\"colorbar\":{\"outlinewidth\":0,\"ticks\":\"\"}}}],\"histogram\":[{\"marker\":{\"pattern\":{\"fillmode\":\"overlay\",\"size\":10,\"solidity\":0.2}},\"type\":\"histogram\"}],\"scattergl\":[{\"type\":\"scattergl\",\"marker\":{\"colorbar\":{\"outlinewidth\":0,\"ticks\":\"\"}}}],\"scatter3d\":[{\"type\":\"scatter3d\",\"line\":{\"colorbar\":{\"outlinewidth\":0,\"ticks\":\"\"}},\"marker\":{\"colorbar\":{\"outlinewidth\":0,\"ticks\":\"\"}}}],\"scattermapbox\":[{\"type\":\"scattermapbox\",\"marker\":{\"colorbar\":{\"outlinewidth\":0,\"ticks\":\"\"}}}],\"scatterternary\":[{\"type\":\"scatterternary\",\"marker\":{\"colorbar\":{\"outlinewidth\":0,\"ticks\":\"\"}}}],\"scattercarpet\":[{\"type\":\"scattercarpet\",\"marker\":{\"colorbar\":{\"outlinewidth\":0,\"ticks\":\"\"}}}],\"carpet\":[{\"aaxis\":{\"endlinecolor\":\"#2a3f5f\",\"gridcolor\":\"white\",\"linecolor\":\"white\",\"minorgridcolor\":\"white\",\"startlinecolor\":\"#2a3f5f\"},\"baxis\":{\"endlinecolor\":\"#2a3f5f\",\"gridcolor\":\"white\",\"linecolor\":\"white\",\"minorgridcolor\":\"white\",\"startlinecolor\":\"#2a3f5f\"},\"type\":\"carpet\"}],\"table\":[{\"cells\":{\"fill\":{\"color\":\"#EBF0F8\"},\"line\":{\"color\":\"white\"}},\"header\":{\"fill\":{\"color\":\"#C8D4E3\"},\"line\":{\"color\":\"white\"}},\"type\":\"table\"}],\"barpolar\":[{\"marker\":{\"line\":{\"color\":\"#E5ECF6\",\"width\":0.5},\"pattern\":{\"fillmode\":\"overlay\",\"size\":10,\"solidity\":0.2}},\"type\":\"barpolar\"}],\"pie\":[{\"automargin\":true,\"type\":\"pie\"}]},\"layout\":{\"autotypenumbers\":\"strict\",\"colorway\":[\"#636efa\",\"#EF553B\",\"#00cc96\",\"#ab63fa\",\"#FFA15A\",\"#19d3f3\",\"#FF6692\",\"#B6E880\",\"#FF97FF\",\"#FECB52\"],\"font\":{\"color\":\"#2a3f5f\"},\"hovermode\":\"closest\",\"hoverlabel\":{\"align\":\"left\"},\"paper_bgcolor\":\"white\",\"plot_bgcolor\":\"#E5ECF6\",\"polar\":{\"bgcolor\":\"#E5ECF6\",\"angularaxis\":{\"gridcolor\":\"white\",\"linecolor\":\"white\",\"ticks\":\"\"},\"radialaxis\":{\"gridcolor\":\"white\",\"linecolor\":\"white\",\"ticks\":\"\"}},\"ternary\":{\"bgcolor\":\"#E5ECF6\",\"aaxis\":{\"gridcolor\":\"white\",\"linecolor\":\"white\",\"ticks\":\"\"},\"baxis\":{\"gridcolor\":\"white\",\"linecolor\":\"white\",\"ticks\":\"\"},\"caxis\":{\"gridcolor\":\"white\",\"linecolor\":\"white\",\"ticks\":\"\"}},\"coloraxis\":{\"colorbar\":{\"outlinewidth\":0,\"ticks\":\"\"}},\"colorscale\":{\"sequential\":[[0.0,\"#0d0887\"],[0.1111111111111111,\"#46039f\"],[0.2222222222222222,\"#7201a8\"],[0.3333333333333333,\"#9c179e\"],[0.4444444444444444,\"#bd3786\"],[0.5555555555555556,\"#d8576b\"],[0.6666666666666666,\"#ed7953\"],[0.7777777777777778,\"#fb9f3a\"],[0.8888888888888888,\"#fdca26\"],[1.0,\"#f0f921\"]],\"sequentialminus\":[[0.0,\"#0d0887\"],[0.1111111111111111,\"#46039f\"],[0.2222222222222222,\"#7201a8\"],[0.3333333333333333,\"#9c179e\"],[0.4444444444444444,\"#bd3786\"],[0.5555555555555556,\"#d8576b\"],[0.6666666666666666,\"#ed7953\"],[0.7777777777777778,\"#fb9f3a\"],[0.8888888888888888,\"#fdca26\"],[1.0,\"#f0f921\"]],\"diverging\":[[0,\"#8e0152\"],[0.1,\"#c51b7d\"],[0.2,\"#de77ae\"],[0.3,\"#f1b6da\"],[0.4,\"#fde0ef\"],[0.5,\"#f7f7f7\"],[0.6,\"#e6f5d0\"],[0.7,\"#b8e186\"],[0.8,\"#7fbc41\"],[0.9,\"#4d9221\"],[1,\"#276419\"]]},\"xaxis\":{\"gridcolor\":\"white\",\"linecolor\":\"white\",\"ticks\":\"\",\"title\":{\"standoff\":15},\"zerolinecolor\":\"white\",\"automargin\":true,\"zerolinewidth\":2},\"yaxis\":{\"gridcolor\":\"white\",\"linecolor\":\"white\",\"ticks\":\"\",\"title\":{\"standoff\":15},\"zerolinecolor\":\"white\",\"automargin\":true,\"zerolinewidth\":2},\"scene\":{\"xaxis\":{\"backgroundcolor\":\"#E5ECF6\",\"gridcolor\":\"white\",\"linecolor\":\"white\",\"showbackground\":true,\"ticks\":\"\",\"zerolinecolor\":\"white\",\"gridwidth\":2},\"yaxis\":{\"backgroundcolor\":\"#E5ECF6\",\"gridcolor\":\"white\",\"linecolor\":\"white\",\"showbackground\":true,\"ticks\":\"\",\"zerolinecolor\":\"white\",\"gridwidth\":2},\"zaxis\":{\"backgroundcolor\":\"#E5ECF6\",\"gridcolor\":\"white\",\"linecolor\":\"white\",\"showbackground\":true,\"ticks\":\"\",\"zerolinecolor\":\"white\",\"gridwidth\":2}},\"shapedefaults\":{\"line\":{\"color\":\"#2a3f5f\"}},\"annotationdefaults\":{\"arrowcolor\":\"#2a3f5f\",\"arrowhead\":0,\"arrowwidth\":1},\"geo\":{\"bgcolor\":\"white\",\"landcolor\":\"#E5ECF6\",\"subunitcolor\":\"white\",\"showland\":true,\"showlakes\":true,\"lakecolor\":\"white\"},\"title\":{\"x\":0.05},\"mapbox\":{\"style\":\"light\"}}},\"xaxis\":{\"anchor\":\"y\",\"domain\":[0.0,1.0],\"title\":{\"text\":\"Development of GDP per capita in %\"}},\"yaxis\":{\"anchor\":\"x\",\"domain\":[0.0,1.0],\"title\":{\"text\":\"Development of Gini index in %\"}},\"legend\":{\"title\":{\"text\":\"GDP per capita: $35,000, Life Satisfaction: 6\"},\"tracegroupgap\":0,\"itemsizing\":\"constant\"},\"title\":{\"text\":\"Development of GDP per capita, Gini index and Life Satisfaction from 2008-2017 <br><sup>Size of symbols indicates development of Life Satisfaction (small symbol = low growth or shrinkage, large symbol = high growth)</sup>\"}},                        {\"responsive\": true}                    ).then(function(){\n",
       "                            \n",
       "var gd = document.getElementById('676979b3-e0d7-4e79-b6bb-ff50c3b10e80');\n",
       "var x = new MutationObserver(function (mutations, observer) {{\n",
       "        var display = window.getComputedStyle(gd).display;\n",
       "        if (!display || display === 'none') {{\n",
       "            console.log([gd, 'removed!']);\n",
       "            Plotly.purge(gd);\n",
       "            observer.disconnect();\n",
       "        }}\n",
       "}});\n",
       "\n",
       "// Listen for the removal of the full notebook cells\n",
       "var notebookContainer = gd.closest('#notebook-container');\n",
       "if (notebookContainer) {{\n",
       "    x.observe(notebookContainer, {childList: true});\n",
       "}}\n",
       "\n",
       "// Listen for the clearing of the current output cell\n",
       "var outputEl = gd.closest('.output');\n",
       "if (outputEl) {{\n",
       "    x.observe(outputEl, {childList: true});\n",
       "}}\n",
       "\n",
       "                        })                };                });            </script>        </div>"
      ]
     },
     "metadata": {},
     "output_type": "display_data"
    }
   ],
   "source": [
    "#symbols indicate if a country is above or below Life Satisfaction threshold of 6 (circle = below, diamond = above)\n",
    "#color of symbols indicate if a country is above or below GDP per capita threshold of $35,000 (blue = below, red = above)\n",
    "def scatter_changes_gdp_gini_gdp_satisfaction_threshold(df_developments):\n",
    "    scatter_changes_gdp_gini_fig = px.scatter(df_developments, x = 'Change GDP per capita', y = 'Change Gini index',\n",
    "                                              text = 'Code', color = 'GDP per capita threshold',\n",
    "                                              symbol = 'Life Satisfaction threshold', symbol_sequence = ['circle', 'diamond'],\n",
    "                                              size = 'Change Life Satisfaction', size_max = 50,\n",
    "                                              title = \"Development of GDP per capita, Gini index and Life Satisfaction from 2008-2017 <br><sup>Size of symbols indicates development of Life Satisfaction (small symbol = low growth or shrinkage, large symbol = high growth)</sup>\", \n",
    "                                              labels = {\"Change GDP per capita\": \"Development of GDP per capita in %\",\n",
    "                                                        \"Change Gini index\": \"Development of Gini index in %\",\n",
    "                                                        \"Life Satisfaction threshold\": \"Life Satisfaction: 6\",\n",
    "                                                        \"GDP per capita threshold\": \"GDP per capita: $35,000\"})\n",
    "    scatter_changes_gdp_gini_fig.update_traces(textposition=\"bottom right\", textfont_size=15,\n",
    "                                              hovertemplate=None, hoverinfo='skip')\n",
    "    scatter_changes_gdp_gini_fig.show()\n",
    "\n",
    "scatter_changes_gdp_gini_gdp_satisfaction_threshold(df_developments)"
   ]
  },
  {
   "cell_type": "markdown",
   "id": "66428854",
   "metadata": {},
   "source": [
    "4) Conclusion\n",
    "\n",
    "While the choropleth map allowed for a reading of geographical information, the scatterplots for individual countries allowed for a more specific reading of a country's statistics over time. Finally, the scatterplot comparing all countries enabled the viewer to do both. It could be adjusted to contain geographic information (such as using the continent data to determine color), while tracking development over the ten year time period in question. On top of this, thresholds could be included to make clear distinctions between groups without overburdening the viewer with information. "
   ]
  },
  {
   "cell_type": "code",
   "execution_count": null,
   "id": "157cc7b9",
   "metadata": {},
   "outputs": [],
   "source": []
  }
 ],
 "metadata": {
  "kernelspec": {
   "display_name": "Python 3 (ipykernel)",
   "language": "python",
   "name": "python3"
  },
  "language_info": {
   "codemirror_mode": {
    "name": "ipython",
    "version": 3
   },
   "file_extension": ".py",
   "mimetype": "text/x-python",
   "name": "python",
   "nbconvert_exporter": "python",
   "pygments_lexer": "ipython3",
   "version": "3.9.7"
  },
  "toc": {
   "base_numbering": 1,
   "nav_menu": {},
   "number_sections": true,
   "sideBar": true,
   "skip_h1_title": false,
   "title_cell": "Table of Contents",
   "title_sidebar": "Contents",
   "toc_cell": false,
   "toc_position": {},
   "toc_section_display": true,
   "toc_window_display": false
  }
 },
 "nbformat": 4,
 "nbformat_minor": 5
}
